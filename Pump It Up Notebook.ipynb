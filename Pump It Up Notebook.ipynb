{
  "cells": [
    {
      "cell_type": "markdown",
      "metadata": {
        "id": "view-in-github",
        "colab_type": "text"
      },
      "source": [
        "<a href=\"https://colab.research.google.com/github/MercyNgila/Pump-It-Up/blob/main/Pump%20It%20Up%20Notebook.ipynb\" target=\"_parent\"><img src=\"https://colab.research.google.com/assets/colab-badge.svg\" alt=\"Open In Colab\"/></a>"
      ]
    },
    {
      "cell_type": "markdown",
      "metadata": {
        "id": "wcWmSkZUyVj5"
      },
      "source": [
        "# 1. Introduction"
      ]
    },
    {
      "cell_type": "markdown",
      "metadata": {
        "id": "t1X01ktKyVj8"
      },
      "source": [
        "In this Project, I will complete a machine learning workflow using classification solutions, including data preparation, modeling (including hyperparameter tuning), and final model evaluation."
      ]
    },
    {
      "cell_type": "markdown",
      "metadata": {
        "id": "oy1dxY8-yVj8"
      },
      "source": [
        "## 1.1. Business Understanding"
      ]
    },
    {
      "cell_type": "markdown",
      "metadata": {
        "id": "TlPwJPvByVj8"
      },
      "source": [
        "### 1.1.1. Problem\n",
        "\n",
        "Water shortage in Tanzania has been a problem for years now. The most affected are the rural areas. One out of six people lack access to safe drinking water in Tanzania (WHO/UNICEF, 2004). \n",
        "\n",
        "According to UNICEF, It is estimated that Tanzania spends 70 per cent of its health budget on preventable Water, Sanitation and Hygiene (WASH) related diseases as the majority of the population does not have access to improved sanitation, and close to half of the population does not have access to clean drinking water.\n",
        "\n",
        "As part of its Vision 2025, the Government of Tanzania has pledged to increase access to improved sanitation to 95 per cent by 2025. The Second Five Year Development Plan (FYDP II) has also set the target for access to improved sanitation facilities at 85 per cent in rural areas.\n",
        "\n",
        "UNICEF is working with the Tanzanian Government and development partners on four priority WASH areas:\n",
        " 1. To ensure access to improved sanitation and hygiene in rural and peri-urban communities.\n",
        " 2. Develop sustainable solutions for provision of WASH facilities in health and educational institutions.\n",
        " 3. Ensure sustainable and equitable access to safe drinking water in rural and periurban areas.\n",
        " 4. Provide effective response in emergencies to prevent the spread of diseases due to poor sanitation, unhygienic living conditions and unsafe drinking water.\n",
        "\n",
        "### 1.1.2. Aim\n",
        "There are many water wells already established across different parts of the country. \n",
        "\n",
        "To achieve the third priority WASH areas goal, there is need to know the conditions of the waterpumps in these water wells which would advice the best strategy moving forward.. Visiting each well to establish their conditions would be highly costly and time consuming. \n",
        "\n",
        "The Tanzanian Government in partnership with UNICEF has contracted my consulting company, Nangila Analytics, to create a machine learning (ML) model to predict conditions of waterpumps ranking them in three levels:\n",
        "- Functional\n",
        "- Non Functional\n",
        "- Functional needs repair\n",
        "\n",
        "This ML model will be used to choose the best strategy moving forward."
      ]
    },
    {
      "cell_type": "markdown",
      "metadata": {
        "id": "v3bQW27cyVj9"
      },
      "source": [
        "## 2.2. Objectives"
      ]
    },
    {
      "cell_type": "markdown",
      "metadata": {
        "id": "Ek2buz9wyVj-"
      },
      "source": [
        "- To build a ML model that predicts the conditions of water pumps with an acceptably high accuracy.\n",
        "- To compare different ML models predictions to achieve highest accuracy\n",
        "- Advice the client on best strategy"
      ]
    },
    {
      "cell_type": "markdown",
      "metadata": {
        "id": "qUnSFIZByVj-"
      },
      "source": [
        "# 1.2. Data Understanding"
      ]
    },
    {
      "cell_type": "markdown",
      "metadata": {
        "id": "tnpyIFNFyVj_"
      },
      "source": [
        "The data that I will use for this project contains information on 59,400 waterpoints and comes from the Taarifa waterpoints dashboard, which has been aggregated from the Tanzania Ministry of Water.\n",
        "\n",
        "Taarifa is an open source platform for the crowd sourced reporting and triaging of infrastructure related issues. It acts a a bug tracker for real world which helps to engage citizens with their local government. It has been working on an Innovation Project in Tanzania, with various partners.\n",
        "\n",
        "There are three datasets for this project:\n",
        " 1. Training set labels \n",
        " 2. Training set values \n",
        " 3. Test set values \n",
        "\n",
        "For this project I will use datasets 1 & 2. \n",
        "\n",
        "The target variable will be status_group which details the functionality of waterpoints.\n",
        "\n",
        "Features include:\n",
        "\n",
        "- amount_tsh           - Total static head (amount water available to waterpoint)\n",
        "- date_recorded         - The date the row was entered\n",
        "- funder                - Who funded the well\n",
        "- gps_height            - Altitude of the well\n",
        "- installer             - Organization that installed the well\n",
        "- longitude             - GPS coordinate\n",
        "- latitude              - GPS coordinate\n",
        "- wpt_name              - Name of the waterpoint if there is one\n",
        "- num_private           - No description\n",
        "- basin                 - Geographic water basin\n",
        "- subvillage            - Geographic location\n",
        "- region                - Geographic location\n",
        "- region_code           - Geographic location (coded)\n",
        "- district_code         - Geographic location (coded)\n",
        "- lga                   - Geographic location\n",
        "- ward                  - Geographic location\n",
        "- population            - Population around the well\n",
        "- public_meeting        - True/False\n",
        "- recorded_by           - Group entering this row of data\n",
        "- scheme_management     - Who operates the waterpoint\n",
        "- scheme_name           - Who operates the waterpoint\n",
        "- permit                - If the waterpoint is permitted\n",
        "- construction_year     - Year the waterpoint was constructed\n",
        "- extraction_type       - The kind of extraction the waterpoint uses\n",
        "- extraction_type_group - The kind of extraction the waterpoint uses\n",
        "- extraction_type_class - The kind of extraction the waterpoint uses\n",
        "- management            - How the waterpoint is managed\n",
        "- management_group      - How the waterpoint is managed\n",
        "- payment               - What the water costs\n",
        "- payment_type          - What the water costs\n",
        "- water_quality         - The quality of the water\n",
        "- quality_group         - The quality of the water\n",
        "- quantity              - The quantity of water\n",
        "- quantity_group        - The quantity of water\n",
        "- source                - The source of the water\n",
        "- source_type           - The source of the water\n",
        "- source_class          - The source of the water\n",
        "- waterpoint_type       - The kind of waterpoint\n",
        "- waterpoint_type_group - The kind of waterpoint\n",
        "\n",
        "\n",
        "\n"
      ]
    },
    {
      "cell_type": "markdown",
      "metadata": {
        "id": "GRtlpoabyVkA"
      },
      "source": [
        "## 1.3. Requirements"
      ]
    },
    {
      "cell_type": "markdown",
      "metadata": {
        "id": "fGIjar2eyVkA"
      },
      "source": [
        "1. Data Preparation\n",
        "       - Loading Libraries\n",
        "       - Loading data\n",
        "       - Descriptive Exploration\n",
        "       - Data Cleaning\n",
        "       - Exploratory Descriptive Analysis (EDA)\n",
        "       - Pre-processing Data\n",
        "2.  Modelling\n",
        "        - Train test split\n",
        "        - Baseline Model\n",
        "        - Random Forest\n",
        "        - Decision Tree\n",
        "        - Logistic Regression\n",
        "        - Evaluation\n",
        "4.  Conclusion\n",
        "5.  Recommendation"
      ]
    },
    {
      "cell_type": "markdown",
      "metadata": {
        "id": "EpTfAa4ByVkA"
      },
      "source": [
        "## 2. Data Preparation"
      ]
    },
    {
      "cell_type": "markdown",
      "metadata": {
        "id": "__21rF1-yVkB"
      },
      "source": [
        "## 2.1. Loading Libraries\n",
        "- Loading all relevant libraries for this notebook"
      ]
    },
    {
      "cell_type": "code",
      "source": [
        "from google.colab import drive\n",
        "drive.mount('/content/drive')"
      ],
      "metadata": {
        "colab": {
          "base_uri": "https://localhost:8080/"
        },
        "id": "ROKSoGMV1-QO",
        "outputId": "92291f73-c0e2-484b-a357-722ddc7d2c6f"
      },
      "execution_count": 1,
      "outputs": [
        {
          "output_type": "stream",
          "name": "stdout",
          "text": [
            "Drive already mounted at /content/drive; to attempt to forcibly remount, call drive.mount(\"/content/drive\", force_remount=True).\n"
          ]
        }
      ]
    },
    {
      "cell_type": "code",
      "execution_count": 141,
      "metadata": {
        "id": "PhOAzCCfyVkB"
      },
      "outputs": [],
      "source": [
        "#load relevant libraries\n",
        "import pandas as pd\n",
        "import matplotlib.pyplot as plt\n",
        "import seaborn as sns\n",
        "import warnings\n",
        "warnings.simplefilter(\"ignore\")\n",
        "import numpy as np\n",
        "from imblearn.over_sampling import SMOTE\n",
        "from sklearn.naive_bayes import GaussianNB\n",
        "from sklearn.tree import DecisionTreeClassifier\n",
        "from sklearn.preprocessing import StandardScaler\n",
        "from sklearn.neighbors import KNeighborsClassifier\n",
        "from sklearn.linear_model import LogisticRegression\n",
        "from sklearn.metrics import accuracy_score, precision_score, recall_score,f1_score, classification_report\n",
        "from sklearn.metrics import log_loss, accuracy_score, roc_curve, auc, plot_confusion_matrix\n",
        "from sklearn.ensemble import RandomForestClassifier, BaggingClassifier, RandomForestRegressor\n",
        "from sklearn.model_selection import cross_val_score, RandomizedSearchCV, train_test_split, GridSearchCV"
      ]
    },
    {
      "cell_type": "markdown",
      "metadata": {
        "id": "gRkIL1zGyVkC"
      },
      "source": [
        "## 2.2. Loading Datasets\n",
        "- Loading datasets"
      ]
    },
    {
      "cell_type": "code",
      "execution_count": 65,
      "metadata": {
        "id": "Bz54HtFryVkC"
      },
      "outputs": [],
      "source": [
        "# Loading datasets\n",
        "train_values = pd.read_csv('/content/drive/MyDrive/Github Data/pumpit_training_set.csv', index_col = 0)\n",
        "train_labels = pd.read_csv('/content/drive/MyDrive/Github Data/pumpit_training_labels.csv', index_col = 0)"
      ]
    },
    {
      "cell_type": "markdown",
      "metadata": {
        "id": "AbtCfMx0yVkC"
      },
      "source": [
        "## 2.3 Explore dataframes\n",
        "- Descriptive exploration of data"
      ]
    },
    {
      "cell_type": "code",
      "execution_count": 66,
      "metadata": {
        "id": "o0sNCmqIyVkC",
        "colab": {
          "base_uri": "https://localhost:8080/",
          "height": 343
        },
        "outputId": "a9231ee5-b513-460e-b709-acb3d2ebe6eb"
      },
      "outputs": [
        {
          "output_type": "execute_result",
          "data": {
            "text/plain": [
              "       amount_tsh date_recorded        funder  gps_height     installer  \\\n",
              "id                                                                        \n",
              "69572      6000.0    2011-03-14         Roman        1390         Roman   \n",
              "8776          0.0    2013-03-06       Grumeti        1399       GRUMETI   \n",
              "34310        25.0    2013-02-25  Lottery Club         686  World vision   \n",
              "\n",
              "       longitude  latitude     wpt_name  num_private          basin  \\\n",
              "id                                                                    \n",
              "69572  34.938093 -9.856322         none            0     Lake Nyasa   \n",
              "8776   34.698766 -2.147466     Zahanati            0  Lake Victoria   \n",
              "34310  37.460664 -3.821329  Kwa Mahundi            0        Pangani   \n",
              "\n",
              "      subvillage   region  region_code  district_code        lga      ward  \\\n",
              "id                                                                           \n",
              "69572   Mnyusi B   Iringa           11              5     Ludewa  Mundindi   \n",
              "8776     Nyamara     Mara           20              2  Serengeti     Natta   \n",
              "34310    Majengo  Manyara           21              4  Simanjiro   Ngorika   \n",
              "\n",
              "       population public_meeting              recorded_by scheme_management  \\\n",
              "id                                                                            \n",
              "69572         109           True  GeoData Consultants Ltd               VWC   \n",
              "8776          280            NaN  GeoData Consultants Ltd             Other   \n",
              "34310         250           True  GeoData Consultants Ltd               VWC   \n",
              "\n",
              "                       scheme_name permit  construction_year extraction_type  \\\n",
              "id                                                                             \n",
              "69572                        Roman  False               1999         gravity   \n",
              "8776                           NaN   True               2010         gravity   \n",
              "34310  Nyumba ya mungu pipe scheme   True               2009         gravity   \n",
              "\n",
              "      extraction_type_group extraction_type_class management management_group  \\\n",
              "id                                                                              \n",
              "69572               gravity               gravity        vwc       user-group   \n",
              "8776                gravity               gravity        wug       user-group   \n",
              "34310               gravity               gravity        vwc       user-group   \n",
              "\n",
              "              payment payment_type water_quality quality_group      quantity  \\\n",
              "id                                                                             \n",
              "69572    pay annually     annually          soft          good        enough   \n",
              "8776        never pay    never pay          soft          good  insufficient   \n",
              "34310  pay per bucket   per bucket          soft          good        enough   \n",
              "\n",
              "      quantity_group                source           source_type source_class  \\\n",
              "id                                                                              \n",
              "69572         enough                spring                spring  groundwater   \n",
              "8776    insufficient  rainwater harvesting  rainwater harvesting      surface   \n",
              "34310         enough                   dam                   dam      surface   \n",
              "\n",
              "                   waterpoint_type waterpoint_type_group  \n",
              "id                                                        \n",
              "69572           communal standpipe    communal standpipe  \n",
              "8776            communal standpipe    communal standpipe  \n",
              "34310  communal standpipe multiple    communal standpipe  "
            ],
            "text/html": [
              "\n",
              "  <div id=\"df-094df866-2783-4a44-8e2a-8df63ff7fe8b\">\n",
              "    <div class=\"colab-df-container\">\n",
              "      <div>\n",
              "<style scoped>\n",
              "    .dataframe tbody tr th:only-of-type {\n",
              "        vertical-align: middle;\n",
              "    }\n",
              "\n",
              "    .dataframe tbody tr th {\n",
              "        vertical-align: top;\n",
              "    }\n",
              "\n",
              "    .dataframe thead th {\n",
              "        text-align: right;\n",
              "    }\n",
              "</style>\n",
              "<table border=\"1\" class=\"dataframe\">\n",
              "  <thead>\n",
              "    <tr style=\"text-align: right;\">\n",
              "      <th></th>\n",
              "      <th>amount_tsh</th>\n",
              "      <th>date_recorded</th>\n",
              "      <th>funder</th>\n",
              "      <th>gps_height</th>\n",
              "      <th>installer</th>\n",
              "      <th>longitude</th>\n",
              "      <th>latitude</th>\n",
              "      <th>wpt_name</th>\n",
              "      <th>num_private</th>\n",
              "      <th>basin</th>\n",
              "      <th>subvillage</th>\n",
              "      <th>region</th>\n",
              "      <th>region_code</th>\n",
              "      <th>district_code</th>\n",
              "      <th>lga</th>\n",
              "      <th>ward</th>\n",
              "      <th>population</th>\n",
              "      <th>public_meeting</th>\n",
              "      <th>recorded_by</th>\n",
              "      <th>scheme_management</th>\n",
              "      <th>scheme_name</th>\n",
              "      <th>permit</th>\n",
              "      <th>construction_year</th>\n",
              "      <th>extraction_type</th>\n",
              "      <th>extraction_type_group</th>\n",
              "      <th>extraction_type_class</th>\n",
              "      <th>management</th>\n",
              "      <th>management_group</th>\n",
              "      <th>payment</th>\n",
              "      <th>payment_type</th>\n",
              "      <th>water_quality</th>\n",
              "      <th>quality_group</th>\n",
              "      <th>quantity</th>\n",
              "      <th>quantity_group</th>\n",
              "      <th>source</th>\n",
              "      <th>source_type</th>\n",
              "      <th>source_class</th>\n",
              "      <th>waterpoint_type</th>\n",
              "      <th>waterpoint_type_group</th>\n",
              "    </tr>\n",
              "    <tr>\n",
              "      <th>id</th>\n",
              "      <th></th>\n",
              "      <th></th>\n",
              "      <th></th>\n",
              "      <th></th>\n",
              "      <th></th>\n",
              "      <th></th>\n",
              "      <th></th>\n",
              "      <th></th>\n",
              "      <th></th>\n",
              "      <th></th>\n",
              "      <th></th>\n",
              "      <th></th>\n",
              "      <th></th>\n",
              "      <th></th>\n",
              "      <th></th>\n",
              "      <th></th>\n",
              "      <th></th>\n",
              "      <th></th>\n",
              "      <th></th>\n",
              "      <th></th>\n",
              "      <th></th>\n",
              "      <th></th>\n",
              "      <th></th>\n",
              "      <th></th>\n",
              "      <th></th>\n",
              "      <th></th>\n",
              "      <th></th>\n",
              "      <th></th>\n",
              "      <th></th>\n",
              "      <th></th>\n",
              "      <th></th>\n",
              "      <th></th>\n",
              "      <th></th>\n",
              "      <th></th>\n",
              "      <th></th>\n",
              "      <th></th>\n",
              "      <th></th>\n",
              "      <th></th>\n",
              "      <th></th>\n",
              "    </tr>\n",
              "  </thead>\n",
              "  <tbody>\n",
              "    <tr>\n",
              "      <th>69572</th>\n",
              "      <td>6000.0</td>\n",
              "      <td>2011-03-14</td>\n",
              "      <td>Roman</td>\n",
              "      <td>1390</td>\n",
              "      <td>Roman</td>\n",
              "      <td>34.938093</td>\n",
              "      <td>-9.856322</td>\n",
              "      <td>none</td>\n",
              "      <td>0</td>\n",
              "      <td>Lake Nyasa</td>\n",
              "      <td>Mnyusi B</td>\n",
              "      <td>Iringa</td>\n",
              "      <td>11</td>\n",
              "      <td>5</td>\n",
              "      <td>Ludewa</td>\n",
              "      <td>Mundindi</td>\n",
              "      <td>109</td>\n",
              "      <td>True</td>\n",
              "      <td>GeoData Consultants Ltd</td>\n",
              "      <td>VWC</td>\n",
              "      <td>Roman</td>\n",
              "      <td>False</td>\n",
              "      <td>1999</td>\n",
              "      <td>gravity</td>\n",
              "      <td>gravity</td>\n",
              "      <td>gravity</td>\n",
              "      <td>vwc</td>\n",
              "      <td>user-group</td>\n",
              "      <td>pay annually</td>\n",
              "      <td>annually</td>\n",
              "      <td>soft</td>\n",
              "      <td>good</td>\n",
              "      <td>enough</td>\n",
              "      <td>enough</td>\n",
              "      <td>spring</td>\n",
              "      <td>spring</td>\n",
              "      <td>groundwater</td>\n",
              "      <td>communal standpipe</td>\n",
              "      <td>communal standpipe</td>\n",
              "    </tr>\n",
              "    <tr>\n",
              "      <th>8776</th>\n",
              "      <td>0.0</td>\n",
              "      <td>2013-03-06</td>\n",
              "      <td>Grumeti</td>\n",
              "      <td>1399</td>\n",
              "      <td>GRUMETI</td>\n",
              "      <td>34.698766</td>\n",
              "      <td>-2.147466</td>\n",
              "      <td>Zahanati</td>\n",
              "      <td>0</td>\n",
              "      <td>Lake Victoria</td>\n",
              "      <td>Nyamara</td>\n",
              "      <td>Mara</td>\n",
              "      <td>20</td>\n",
              "      <td>2</td>\n",
              "      <td>Serengeti</td>\n",
              "      <td>Natta</td>\n",
              "      <td>280</td>\n",
              "      <td>NaN</td>\n",
              "      <td>GeoData Consultants Ltd</td>\n",
              "      <td>Other</td>\n",
              "      <td>NaN</td>\n",
              "      <td>True</td>\n",
              "      <td>2010</td>\n",
              "      <td>gravity</td>\n",
              "      <td>gravity</td>\n",
              "      <td>gravity</td>\n",
              "      <td>wug</td>\n",
              "      <td>user-group</td>\n",
              "      <td>never pay</td>\n",
              "      <td>never pay</td>\n",
              "      <td>soft</td>\n",
              "      <td>good</td>\n",
              "      <td>insufficient</td>\n",
              "      <td>insufficient</td>\n",
              "      <td>rainwater harvesting</td>\n",
              "      <td>rainwater harvesting</td>\n",
              "      <td>surface</td>\n",
              "      <td>communal standpipe</td>\n",
              "      <td>communal standpipe</td>\n",
              "    </tr>\n",
              "    <tr>\n",
              "      <th>34310</th>\n",
              "      <td>25.0</td>\n",
              "      <td>2013-02-25</td>\n",
              "      <td>Lottery Club</td>\n",
              "      <td>686</td>\n",
              "      <td>World vision</td>\n",
              "      <td>37.460664</td>\n",
              "      <td>-3.821329</td>\n",
              "      <td>Kwa Mahundi</td>\n",
              "      <td>0</td>\n",
              "      <td>Pangani</td>\n",
              "      <td>Majengo</td>\n",
              "      <td>Manyara</td>\n",
              "      <td>21</td>\n",
              "      <td>4</td>\n",
              "      <td>Simanjiro</td>\n",
              "      <td>Ngorika</td>\n",
              "      <td>250</td>\n",
              "      <td>True</td>\n",
              "      <td>GeoData Consultants Ltd</td>\n",
              "      <td>VWC</td>\n",
              "      <td>Nyumba ya mungu pipe scheme</td>\n",
              "      <td>True</td>\n",
              "      <td>2009</td>\n",
              "      <td>gravity</td>\n",
              "      <td>gravity</td>\n",
              "      <td>gravity</td>\n",
              "      <td>vwc</td>\n",
              "      <td>user-group</td>\n",
              "      <td>pay per bucket</td>\n",
              "      <td>per bucket</td>\n",
              "      <td>soft</td>\n",
              "      <td>good</td>\n",
              "      <td>enough</td>\n",
              "      <td>enough</td>\n",
              "      <td>dam</td>\n",
              "      <td>dam</td>\n",
              "      <td>surface</td>\n",
              "      <td>communal standpipe multiple</td>\n",
              "      <td>communal standpipe</td>\n",
              "    </tr>\n",
              "  </tbody>\n",
              "</table>\n",
              "</div>\n",
              "      <button class=\"colab-df-convert\" onclick=\"convertToInteractive('df-094df866-2783-4a44-8e2a-8df63ff7fe8b')\"\n",
              "              title=\"Convert this dataframe to an interactive table.\"\n",
              "              style=\"display:none;\">\n",
              "        \n",
              "  <svg xmlns=\"http://www.w3.org/2000/svg\" height=\"24px\"viewBox=\"0 0 24 24\"\n",
              "       width=\"24px\">\n",
              "    <path d=\"M0 0h24v24H0V0z\" fill=\"none\"/>\n",
              "    <path d=\"M18.56 5.44l.94 2.06.94-2.06 2.06-.94-2.06-.94-.94-2.06-.94 2.06-2.06.94zm-11 1L8.5 8.5l.94-2.06 2.06-.94-2.06-.94L8.5 2.5l-.94 2.06-2.06.94zm10 10l.94 2.06.94-2.06 2.06-.94-2.06-.94-.94-2.06-.94 2.06-2.06.94z\"/><path d=\"M17.41 7.96l-1.37-1.37c-.4-.4-.92-.59-1.43-.59-.52 0-1.04.2-1.43.59L10.3 9.45l-7.72 7.72c-.78.78-.78 2.05 0 2.83L4 21.41c.39.39.9.59 1.41.59.51 0 1.02-.2 1.41-.59l7.78-7.78 2.81-2.81c.8-.78.8-2.07 0-2.86zM5.41 20L4 18.59l7.72-7.72 1.47 1.35L5.41 20z\"/>\n",
              "  </svg>\n",
              "      </button>\n",
              "      \n",
              "  <style>\n",
              "    .colab-df-container {\n",
              "      display:flex;\n",
              "      flex-wrap:wrap;\n",
              "      gap: 12px;\n",
              "    }\n",
              "\n",
              "    .colab-df-convert {\n",
              "      background-color: #E8F0FE;\n",
              "      border: none;\n",
              "      border-radius: 50%;\n",
              "      cursor: pointer;\n",
              "      display: none;\n",
              "      fill: #1967D2;\n",
              "      height: 32px;\n",
              "      padding: 0 0 0 0;\n",
              "      width: 32px;\n",
              "    }\n",
              "\n",
              "    .colab-df-convert:hover {\n",
              "      background-color: #E2EBFA;\n",
              "      box-shadow: 0px 1px 2px rgba(60, 64, 67, 0.3), 0px 1px 3px 1px rgba(60, 64, 67, 0.15);\n",
              "      fill: #174EA6;\n",
              "    }\n",
              "\n",
              "    [theme=dark] .colab-df-convert {\n",
              "      background-color: #3B4455;\n",
              "      fill: #D2E3FC;\n",
              "    }\n",
              "\n",
              "    [theme=dark] .colab-df-convert:hover {\n",
              "      background-color: #434B5C;\n",
              "      box-shadow: 0px 1px 3px 1px rgba(0, 0, 0, 0.15);\n",
              "      filter: drop-shadow(0px 1px 2px rgba(0, 0, 0, 0.3));\n",
              "      fill: #FFFFFF;\n",
              "    }\n",
              "  </style>\n",
              "\n",
              "      <script>\n",
              "        const buttonEl =\n",
              "          document.querySelector('#df-094df866-2783-4a44-8e2a-8df63ff7fe8b button.colab-df-convert');\n",
              "        buttonEl.style.display =\n",
              "          google.colab.kernel.accessAllowed ? 'block' : 'none';\n",
              "\n",
              "        async function convertToInteractive(key) {\n",
              "          const element = document.querySelector('#df-094df866-2783-4a44-8e2a-8df63ff7fe8b');\n",
              "          const dataTable =\n",
              "            await google.colab.kernel.invokeFunction('convertToInteractive',\n",
              "                                                     [key], {});\n",
              "          if (!dataTable) return;\n",
              "\n",
              "          const docLinkHtml = 'Like what you see? Visit the ' +\n",
              "            '<a target=\"_blank\" href=https://colab.research.google.com/notebooks/data_table.ipynb>data table notebook</a>'\n",
              "            + ' to learn more about interactive tables.';\n",
              "          element.innerHTML = '';\n",
              "          dataTable['output_type'] = 'display_data';\n",
              "          await google.colab.output.renderOutput(dataTable, element);\n",
              "          const docLink = document.createElement('div');\n",
              "          docLink.innerHTML = docLinkHtml;\n",
              "          element.appendChild(docLink);\n",
              "        }\n",
              "      </script>\n",
              "    </div>\n",
              "  </div>\n",
              "  "
            ]
          },
          "metadata": {},
          "execution_count": 66
        }
      ],
      "source": [
        "# Expand view of dataframe\n",
        "pd.set_option('display.max_columns', None)\n",
        "# Check head of dataframe\n",
        "train_values.head(3)"
      ]
    },
    {
      "cell_type": "code",
      "execution_count": 67,
      "metadata": {
        "id": "9JL32SbxyVkC",
        "colab": {
          "base_uri": "https://localhost:8080/",
          "height": 175
        },
        "outputId": "7538e1dc-43af-471e-aa71-e980b0a37c61"
      },
      "outputs": [
        {
          "output_type": "execute_result",
          "data": {
            "text/plain": [
              "      status_group\n",
              "id                \n",
              "69572   functional\n",
              "8776    functional\n",
              "34310   functional"
            ],
            "text/html": [
              "\n",
              "  <div id=\"df-8efcae64-4a36-40dd-9067-e0a0d46236ed\">\n",
              "    <div class=\"colab-df-container\">\n",
              "      <div>\n",
              "<style scoped>\n",
              "    .dataframe tbody tr th:only-of-type {\n",
              "        vertical-align: middle;\n",
              "    }\n",
              "\n",
              "    .dataframe tbody tr th {\n",
              "        vertical-align: top;\n",
              "    }\n",
              "\n",
              "    .dataframe thead th {\n",
              "        text-align: right;\n",
              "    }\n",
              "</style>\n",
              "<table border=\"1\" class=\"dataframe\">\n",
              "  <thead>\n",
              "    <tr style=\"text-align: right;\">\n",
              "      <th></th>\n",
              "      <th>status_group</th>\n",
              "    </tr>\n",
              "    <tr>\n",
              "      <th>id</th>\n",
              "      <th></th>\n",
              "    </tr>\n",
              "  </thead>\n",
              "  <tbody>\n",
              "    <tr>\n",
              "      <th>69572</th>\n",
              "      <td>functional</td>\n",
              "    </tr>\n",
              "    <tr>\n",
              "      <th>8776</th>\n",
              "      <td>functional</td>\n",
              "    </tr>\n",
              "    <tr>\n",
              "      <th>34310</th>\n",
              "      <td>functional</td>\n",
              "    </tr>\n",
              "  </tbody>\n",
              "</table>\n",
              "</div>\n",
              "      <button class=\"colab-df-convert\" onclick=\"convertToInteractive('df-8efcae64-4a36-40dd-9067-e0a0d46236ed')\"\n",
              "              title=\"Convert this dataframe to an interactive table.\"\n",
              "              style=\"display:none;\">\n",
              "        \n",
              "  <svg xmlns=\"http://www.w3.org/2000/svg\" height=\"24px\"viewBox=\"0 0 24 24\"\n",
              "       width=\"24px\">\n",
              "    <path d=\"M0 0h24v24H0V0z\" fill=\"none\"/>\n",
              "    <path d=\"M18.56 5.44l.94 2.06.94-2.06 2.06-.94-2.06-.94-.94-2.06-.94 2.06-2.06.94zm-11 1L8.5 8.5l.94-2.06 2.06-.94-2.06-.94L8.5 2.5l-.94 2.06-2.06.94zm10 10l.94 2.06.94-2.06 2.06-.94-2.06-.94-.94-2.06-.94 2.06-2.06.94z\"/><path d=\"M17.41 7.96l-1.37-1.37c-.4-.4-.92-.59-1.43-.59-.52 0-1.04.2-1.43.59L10.3 9.45l-7.72 7.72c-.78.78-.78 2.05 0 2.83L4 21.41c.39.39.9.59 1.41.59.51 0 1.02-.2 1.41-.59l7.78-7.78 2.81-2.81c.8-.78.8-2.07 0-2.86zM5.41 20L4 18.59l7.72-7.72 1.47 1.35L5.41 20z\"/>\n",
              "  </svg>\n",
              "      </button>\n",
              "      \n",
              "  <style>\n",
              "    .colab-df-container {\n",
              "      display:flex;\n",
              "      flex-wrap:wrap;\n",
              "      gap: 12px;\n",
              "    }\n",
              "\n",
              "    .colab-df-convert {\n",
              "      background-color: #E8F0FE;\n",
              "      border: none;\n",
              "      border-radius: 50%;\n",
              "      cursor: pointer;\n",
              "      display: none;\n",
              "      fill: #1967D2;\n",
              "      height: 32px;\n",
              "      padding: 0 0 0 0;\n",
              "      width: 32px;\n",
              "    }\n",
              "\n",
              "    .colab-df-convert:hover {\n",
              "      background-color: #E2EBFA;\n",
              "      box-shadow: 0px 1px 2px rgba(60, 64, 67, 0.3), 0px 1px 3px 1px rgba(60, 64, 67, 0.15);\n",
              "      fill: #174EA6;\n",
              "    }\n",
              "\n",
              "    [theme=dark] .colab-df-convert {\n",
              "      background-color: #3B4455;\n",
              "      fill: #D2E3FC;\n",
              "    }\n",
              "\n",
              "    [theme=dark] .colab-df-convert:hover {\n",
              "      background-color: #434B5C;\n",
              "      box-shadow: 0px 1px 3px 1px rgba(0, 0, 0, 0.15);\n",
              "      filter: drop-shadow(0px 1px 2px rgba(0, 0, 0, 0.3));\n",
              "      fill: #FFFFFF;\n",
              "    }\n",
              "  </style>\n",
              "\n",
              "      <script>\n",
              "        const buttonEl =\n",
              "          document.querySelector('#df-8efcae64-4a36-40dd-9067-e0a0d46236ed button.colab-df-convert');\n",
              "        buttonEl.style.display =\n",
              "          google.colab.kernel.accessAllowed ? 'block' : 'none';\n",
              "\n",
              "        async function convertToInteractive(key) {\n",
              "          const element = document.querySelector('#df-8efcae64-4a36-40dd-9067-e0a0d46236ed');\n",
              "          const dataTable =\n",
              "            await google.colab.kernel.invokeFunction('convertToInteractive',\n",
              "                                                     [key], {});\n",
              "          if (!dataTable) return;\n",
              "\n",
              "          const docLinkHtml = 'Like what you see? Visit the ' +\n",
              "            '<a target=\"_blank\" href=https://colab.research.google.com/notebooks/data_table.ipynb>data table notebook</a>'\n",
              "            + ' to learn more about interactive tables.';\n",
              "          element.innerHTML = '';\n",
              "          dataTable['output_type'] = 'display_data';\n",
              "          await google.colab.output.renderOutput(dataTable, element);\n",
              "          const docLink = document.createElement('div');\n",
              "          docLink.innerHTML = docLinkHtml;\n",
              "          element.appendChild(docLink);\n",
              "        }\n",
              "      </script>\n",
              "    </div>\n",
              "  </div>\n",
              "  "
            ]
          },
          "metadata": {},
          "execution_count": 67
        }
      ],
      "source": [
        "# Check head of dataframe\n",
        "train_labels.head(3)"
      ]
    },
    {
      "cell_type": "code",
      "source": [
        "# Merge dataframes\n",
        "train = train_values.merge(train_labels, how = 'inner', on = 'id')"
      ],
      "metadata": {
        "id": "ogkQA-H844jq"
      },
      "execution_count": 68,
      "outputs": []
    },
    {
      "cell_type": "markdown",
      "metadata": {
        "id": "aOsSKU_IyVkD"
      },
      "source": [
        "#### Observation\n",
        "- There seems to be duplicated columns with same information but different column names in the dataframe."
      ]
    },
    {
      "cell_type": "code",
      "execution_count": 69,
      "metadata": {
        "id": "UNYroZOcyVkE",
        "colab": {
          "base_uri": "https://localhost:8080/"
        },
        "outputId": "451d9334-5f68-4d3a-a0d1-e7687f76a162"
      },
      "outputs": [
        {
          "output_type": "stream",
          "name": "stdout",
          "text": [
            "Train: (59400, 40)\n"
          ]
        }
      ],
      "source": [
        "#Check dataframe shapes\n",
        "print('Train:', train.shape)"
      ]
    },
    {
      "cell_type": "code",
      "execution_count": 70,
      "metadata": {
        "id": "ANnq8D3XyVkE",
        "colab": {
          "base_uri": "https://localhost:8080/"
        },
        "outputId": "c11e954d-2700-4319-ce88-bb093edf8e57"
      },
      "outputs": [
        {
          "output_type": "stream",
          "name": "stdout",
          "text": [
            "<class 'pandas.core.frame.DataFrame'>\n",
            "Int64Index: 59400 entries, 69572 to 26348\n",
            "Data columns (total 40 columns):\n",
            " #   Column                 Non-Null Count  Dtype  \n",
            "---  ------                 --------------  -----  \n",
            " 0   amount_tsh             59400 non-null  float64\n",
            " 1   date_recorded          59400 non-null  object \n",
            " 2   funder                 55765 non-null  object \n",
            " 3   gps_height             59400 non-null  int64  \n",
            " 4   installer              55745 non-null  object \n",
            " 5   longitude              59400 non-null  float64\n",
            " 6   latitude               59400 non-null  float64\n",
            " 7   wpt_name               59400 non-null  object \n",
            " 8   num_private            59400 non-null  int64  \n",
            " 9   basin                  59400 non-null  object \n",
            " 10  subvillage             59029 non-null  object \n",
            " 11  region                 59400 non-null  object \n",
            " 12  region_code            59400 non-null  int64  \n",
            " 13  district_code          59400 non-null  int64  \n",
            " 14  lga                    59400 non-null  object \n",
            " 15  ward                   59400 non-null  object \n",
            " 16  population             59400 non-null  int64  \n",
            " 17  public_meeting         56066 non-null  object \n",
            " 18  recorded_by            59400 non-null  object \n",
            " 19  scheme_management      55523 non-null  object \n",
            " 20  scheme_name            31234 non-null  object \n",
            " 21  permit                 56344 non-null  object \n",
            " 22  construction_year      59400 non-null  int64  \n",
            " 23  extraction_type        59400 non-null  object \n",
            " 24  extraction_type_group  59400 non-null  object \n",
            " 25  extraction_type_class  59400 non-null  object \n",
            " 26  management             59400 non-null  object \n",
            " 27  management_group       59400 non-null  object \n",
            " 28  payment                59400 non-null  object \n",
            " 29  payment_type           59400 non-null  object \n",
            " 30  water_quality          59400 non-null  object \n",
            " 31  quality_group          59400 non-null  object \n",
            " 32  quantity               59400 non-null  object \n",
            " 33  quantity_group         59400 non-null  object \n",
            " 34  source                 59400 non-null  object \n",
            " 35  source_type            59400 non-null  object \n",
            " 36  source_class           59400 non-null  object \n",
            " 37  waterpoint_type        59400 non-null  object \n",
            " 38  waterpoint_type_group  59400 non-null  object \n",
            " 39  status_group           59400 non-null  object \n",
            "dtypes: float64(3), int64(6), object(31)\n",
            "memory usage: 18.6+ MB\n"
          ]
        }
      ],
      "source": [
        "# Chech train dataframe information\n",
        "train.info()"
      ]
    },
    {
      "cell_type": "code",
      "execution_count": 71,
      "metadata": {
        "id": "TZXdyEmZyVkE",
        "colab": {
          "base_uri": "https://localhost:8080/",
          "height": 332
        },
        "outputId": "b4692253-aeed-44c0-da0f-75664da9379b"
      },
      "outputs": [
        {
          "output_type": "execute_result",
          "data": {
            "text/plain": [
              "                     count         mean          std       min        25%  \\\n",
              "amount_tsh         59400.0   317.650385  2997.574558   0.00000   0.000000   \n",
              "gps_height         59400.0   668.297239   693.116350 -90.00000   0.000000   \n",
              "longitude          59400.0    34.077427     6.567432   0.00000  33.090347   \n",
              "latitude           59400.0    -5.706033     2.946019 -11.64944  -8.540621   \n",
              "num_private        59400.0     0.474141    12.236230   0.00000   0.000000   \n",
              "region_code        59400.0    15.297003    17.587406   1.00000   5.000000   \n",
              "district_code      59400.0     5.629747     9.633649   0.00000   2.000000   \n",
              "population         59400.0   179.909983   471.482176   0.00000   0.000000   \n",
              "construction_year  59400.0  1300.652475   951.620547   0.00000   0.000000   \n",
              "\n",
              "                           50%          75%           max  \n",
              "amount_tsh            0.000000    20.000000  3.500000e+05  \n",
              "gps_height          369.000000  1319.250000  2.770000e+03  \n",
              "longitude            34.908743    37.178387  4.034519e+01  \n",
              "latitude             -5.021597    -3.326156 -2.000000e-08  \n",
              "num_private           0.000000     0.000000  1.776000e+03  \n",
              "region_code          12.000000    17.000000  9.900000e+01  \n",
              "district_code         3.000000     5.000000  8.000000e+01  \n",
              "population           25.000000   215.000000  3.050000e+04  \n",
              "construction_year  1986.000000  2004.000000  2.013000e+03  "
            ],
            "text/html": [
              "\n",
              "  <div id=\"df-ff5614f0-3120-4a12-8234-8ac6c126b60f\">\n",
              "    <div class=\"colab-df-container\">\n",
              "      <div>\n",
              "<style scoped>\n",
              "    .dataframe tbody tr th:only-of-type {\n",
              "        vertical-align: middle;\n",
              "    }\n",
              "\n",
              "    .dataframe tbody tr th {\n",
              "        vertical-align: top;\n",
              "    }\n",
              "\n",
              "    .dataframe thead th {\n",
              "        text-align: right;\n",
              "    }\n",
              "</style>\n",
              "<table border=\"1\" class=\"dataframe\">\n",
              "  <thead>\n",
              "    <tr style=\"text-align: right;\">\n",
              "      <th></th>\n",
              "      <th>count</th>\n",
              "      <th>mean</th>\n",
              "      <th>std</th>\n",
              "      <th>min</th>\n",
              "      <th>25%</th>\n",
              "      <th>50%</th>\n",
              "      <th>75%</th>\n",
              "      <th>max</th>\n",
              "    </tr>\n",
              "  </thead>\n",
              "  <tbody>\n",
              "    <tr>\n",
              "      <th>amount_tsh</th>\n",
              "      <td>59400.0</td>\n",
              "      <td>317.650385</td>\n",
              "      <td>2997.574558</td>\n",
              "      <td>0.00000</td>\n",
              "      <td>0.000000</td>\n",
              "      <td>0.000000</td>\n",
              "      <td>20.000000</td>\n",
              "      <td>3.500000e+05</td>\n",
              "    </tr>\n",
              "    <tr>\n",
              "      <th>gps_height</th>\n",
              "      <td>59400.0</td>\n",
              "      <td>668.297239</td>\n",
              "      <td>693.116350</td>\n",
              "      <td>-90.00000</td>\n",
              "      <td>0.000000</td>\n",
              "      <td>369.000000</td>\n",
              "      <td>1319.250000</td>\n",
              "      <td>2.770000e+03</td>\n",
              "    </tr>\n",
              "    <tr>\n",
              "      <th>longitude</th>\n",
              "      <td>59400.0</td>\n",
              "      <td>34.077427</td>\n",
              "      <td>6.567432</td>\n",
              "      <td>0.00000</td>\n",
              "      <td>33.090347</td>\n",
              "      <td>34.908743</td>\n",
              "      <td>37.178387</td>\n",
              "      <td>4.034519e+01</td>\n",
              "    </tr>\n",
              "    <tr>\n",
              "      <th>latitude</th>\n",
              "      <td>59400.0</td>\n",
              "      <td>-5.706033</td>\n",
              "      <td>2.946019</td>\n",
              "      <td>-11.64944</td>\n",
              "      <td>-8.540621</td>\n",
              "      <td>-5.021597</td>\n",
              "      <td>-3.326156</td>\n",
              "      <td>-2.000000e-08</td>\n",
              "    </tr>\n",
              "    <tr>\n",
              "      <th>num_private</th>\n",
              "      <td>59400.0</td>\n",
              "      <td>0.474141</td>\n",
              "      <td>12.236230</td>\n",
              "      <td>0.00000</td>\n",
              "      <td>0.000000</td>\n",
              "      <td>0.000000</td>\n",
              "      <td>0.000000</td>\n",
              "      <td>1.776000e+03</td>\n",
              "    </tr>\n",
              "    <tr>\n",
              "      <th>region_code</th>\n",
              "      <td>59400.0</td>\n",
              "      <td>15.297003</td>\n",
              "      <td>17.587406</td>\n",
              "      <td>1.00000</td>\n",
              "      <td>5.000000</td>\n",
              "      <td>12.000000</td>\n",
              "      <td>17.000000</td>\n",
              "      <td>9.900000e+01</td>\n",
              "    </tr>\n",
              "    <tr>\n",
              "      <th>district_code</th>\n",
              "      <td>59400.0</td>\n",
              "      <td>5.629747</td>\n",
              "      <td>9.633649</td>\n",
              "      <td>0.00000</td>\n",
              "      <td>2.000000</td>\n",
              "      <td>3.000000</td>\n",
              "      <td>5.000000</td>\n",
              "      <td>8.000000e+01</td>\n",
              "    </tr>\n",
              "    <tr>\n",
              "      <th>population</th>\n",
              "      <td>59400.0</td>\n",
              "      <td>179.909983</td>\n",
              "      <td>471.482176</td>\n",
              "      <td>0.00000</td>\n",
              "      <td>0.000000</td>\n",
              "      <td>25.000000</td>\n",
              "      <td>215.000000</td>\n",
              "      <td>3.050000e+04</td>\n",
              "    </tr>\n",
              "    <tr>\n",
              "      <th>construction_year</th>\n",
              "      <td>59400.0</td>\n",
              "      <td>1300.652475</td>\n",
              "      <td>951.620547</td>\n",
              "      <td>0.00000</td>\n",
              "      <td>0.000000</td>\n",
              "      <td>1986.000000</td>\n",
              "      <td>2004.000000</td>\n",
              "      <td>2.013000e+03</td>\n",
              "    </tr>\n",
              "  </tbody>\n",
              "</table>\n",
              "</div>\n",
              "      <button class=\"colab-df-convert\" onclick=\"convertToInteractive('df-ff5614f0-3120-4a12-8234-8ac6c126b60f')\"\n",
              "              title=\"Convert this dataframe to an interactive table.\"\n",
              "              style=\"display:none;\">\n",
              "        \n",
              "  <svg xmlns=\"http://www.w3.org/2000/svg\" height=\"24px\"viewBox=\"0 0 24 24\"\n",
              "       width=\"24px\">\n",
              "    <path d=\"M0 0h24v24H0V0z\" fill=\"none\"/>\n",
              "    <path d=\"M18.56 5.44l.94 2.06.94-2.06 2.06-.94-2.06-.94-.94-2.06-.94 2.06-2.06.94zm-11 1L8.5 8.5l.94-2.06 2.06-.94-2.06-.94L8.5 2.5l-.94 2.06-2.06.94zm10 10l.94 2.06.94-2.06 2.06-.94-2.06-.94-.94-2.06-.94 2.06-2.06.94z\"/><path d=\"M17.41 7.96l-1.37-1.37c-.4-.4-.92-.59-1.43-.59-.52 0-1.04.2-1.43.59L10.3 9.45l-7.72 7.72c-.78.78-.78 2.05 0 2.83L4 21.41c.39.39.9.59 1.41.59.51 0 1.02-.2 1.41-.59l7.78-7.78 2.81-2.81c.8-.78.8-2.07 0-2.86zM5.41 20L4 18.59l7.72-7.72 1.47 1.35L5.41 20z\"/>\n",
              "  </svg>\n",
              "      </button>\n",
              "      \n",
              "  <style>\n",
              "    .colab-df-container {\n",
              "      display:flex;\n",
              "      flex-wrap:wrap;\n",
              "      gap: 12px;\n",
              "    }\n",
              "\n",
              "    .colab-df-convert {\n",
              "      background-color: #E8F0FE;\n",
              "      border: none;\n",
              "      border-radius: 50%;\n",
              "      cursor: pointer;\n",
              "      display: none;\n",
              "      fill: #1967D2;\n",
              "      height: 32px;\n",
              "      padding: 0 0 0 0;\n",
              "      width: 32px;\n",
              "    }\n",
              "\n",
              "    .colab-df-convert:hover {\n",
              "      background-color: #E2EBFA;\n",
              "      box-shadow: 0px 1px 2px rgba(60, 64, 67, 0.3), 0px 1px 3px 1px rgba(60, 64, 67, 0.15);\n",
              "      fill: #174EA6;\n",
              "    }\n",
              "\n",
              "    [theme=dark] .colab-df-convert {\n",
              "      background-color: #3B4455;\n",
              "      fill: #D2E3FC;\n",
              "    }\n",
              "\n",
              "    [theme=dark] .colab-df-convert:hover {\n",
              "      background-color: #434B5C;\n",
              "      box-shadow: 0px 1px 3px 1px rgba(0, 0, 0, 0.15);\n",
              "      filter: drop-shadow(0px 1px 2px rgba(0, 0, 0, 0.3));\n",
              "      fill: #FFFFFF;\n",
              "    }\n",
              "  </style>\n",
              "\n",
              "      <script>\n",
              "        const buttonEl =\n",
              "          document.querySelector('#df-ff5614f0-3120-4a12-8234-8ac6c126b60f button.colab-df-convert');\n",
              "        buttonEl.style.display =\n",
              "          google.colab.kernel.accessAllowed ? 'block' : 'none';\n",
              "\n",
              "        async function convertToInteractive(key) {\n",
              "          const element = document.querySelector('#df-ff5614f0-3120-4a12-8234-8ac6c126b60f');\n",
              "          const dataTable =\n",
              "            await google.colab.kernel.invokeFunction('convertToInteractive',\n",
              "                                                     [key], {});\n",
              "          if (!dataTable) return;\n",
              "\n",
              "          const docLinkHtml = 'Like what you see? Visit the ' +\n",
              "            '<a target=\"_blank\" href=https://colab.research.google.com/notebooks/data_table.ipynb>data table notebook</a>'\n",
              "            + ' to learn more about interactive tables.';\n",
              "          element.innerHTML = '';\n",
              "          dataTable['output_type'] = 'display_data';\n",
              "          await google.colab.output.renderOutput(dataTable, element);\n",
              "          const docLink = document.createElement('div');\n",
              "          docLink.innerHTML = docLinkHtml;\n",
              "          element.appendChild(docLink);\n",
              "        }\n",
              "      </script>\n",
              "    </div>\n",
              "  </div>\n",
              "  "
            ]
          },
          "metadata": {},
          "execution_count": 71
        }
      ],
      "source": [
        "# Check train dataframe description\n",
        "train.describe().T"
      ]
    },
    {
      "cell_type": "markdown",
      "metadata": {
        "id": "nft2tKUmyVkE"
      },
      "source": [
        "## 2.4. Data Cleaning"
      ]
    },
    {
      "cell_type": "markdown",
      "metadata": {
        "id": "nx2PgJw5yVkF"
      },
      "source": [
        "To use my data for medelling, I will have to employ data cleaning methods to make it ready and suitable.\n",
        "Methods to be employed are :\n",
        "\n",
        "- Consistency\n",
        "- Validity\n",
        "- Completeness\n",
        "- Collinearity\n"
      ]
    },
    {
      "cell_type": "markdown",
      "metadata": {
        "id": "JHAcfnqNyVkF"
      },
      "source": [
        "## 2.4.1. Consistency\n",
        "- Checking to see there are any duplicates both in rows and in columns."
      ]
    },
    {
      "cell_type": "code",
      "execution_count": 72,
      "metadata": {
        "id": "tvEB13bgyVkF",
        "colab": {
          "base_uri": "https://localhost:8080/"
        },
        "outputId": "927a7422-a180-47ca-ac8c-18067666ef77"
      },
      "outputs": [
        {
          "output_type": "stream",
          "name": "stdout",
          "text": [
            "There are 36 duplicates\n"
          ]
        }
      ],
      "source": [
        "# Checking for duplicates in rows\n",
        "# With id as a unique identifier it makes it easier to identify duplicates\n",
        "print(f'There are {train.duplicated().sum()} duplicates')"
      ]
    },
    {
      "cell_type": "code",
      "execution_count": 73,
      "metadata": {
        "id": "qiyPXM_ryVkF"
      },
      "outputs": [],
      "source": [
        "#drop all duplicates in rows\n",
        "train.drop_duplicates(inplace=True)"
      ]
    },
    {
      "cell_type": "markdown",
      "metadata": {
        "id": "5KWkfLxtyVkF"
      },
      "source": [
        "As mentioned earlier there are columns that seem to have repeated information.\n",
        "I will explore these columns to assertain if they are indeed duplicated then drop some of them."
      ]
    },
    {
      "cell_type": "code",
      "execution_count": 74,
      "metadata": {
        "colab": {
          "base_uri": "https://localhost:8080/"
        },
        "id": "MgmydeJUyVkF",
        "outputId": "ccc95c18-a9fe-4637-a2a1-3db7772d1266"
      },
      "outputs": [
        {
          "output_type": "execute_result",
          "data": {
            "text/plain": [
              "amount_tsh                  98\n",
              "date_recorded              356\n",
              "funder                    1898\n",
              "gps_height                2428\n",
              "installer                 2146\n",
              "longitude                57516\n",
              "latitude                 57517\n",
              "wpt_name                 37400\n",
              "num_private                 65\n",
              "basin                        9\n",
              "subvillage               19288\n",
              "region                      21\n",
              "region_code                 27\n",
              "district_code               20\n",
              "lga                        125\n",
              "ward                      2092\n",
              "population                1049\n",
              "public_meeting               3\n",
              "recorded_by                  1\n",
              "scheme_management           13\n",
              "scheme_name               2697\n",
              "permit                       3\n",
              "construction_year           55\n",
              "extraction_type             18\n",
              "extraction_type_group       13\n",
              "extraction_type_class        7\n",
              "management                  12\n",
              "management_group             5\n",
              "payment                      7\n",
              "payment_type                 7\n",
              "water_quality                8\n",
              "quality_group                6\n",
              "quantity                     5\n",
              "quantity_group               5\n",
              "source                      10\n",
              "source_type                  7\n",
              "source_class                 3\n",
              "waterpoint_type              7\n",
              "waterpoint_type_group        6\n",
              "status_group                 3\n",
              "dtype: int64"
            ]
          },
          "metadata": {},
          "execution_count": 74
        }
      ],
      "source": [
        "# Get unique values for columns\n",
        "train.apply(lambda x: len(x.unique()))"
      ]
    },
    {
      "cell_type": "markdown",
      "metadata": {
        "id": "RKfjjkk8yVkG"
      },
      "source": [
        "#### Waterpoint"
      ]
    },
    {
      "cell_type": "code",
      "execution_count": 75,
      "metadata": {
        "colab": {
          "base_uri": "https://localhost:8080/"
        },
        "id": "rxWvTPzZyVkG",
        "outputId": "5016a9e6-2d33-456a-8e31-b0271b392bf3"
      },
      "outputs": [
        {
          "output_type": "execute_result",
          "data": {
            "text/plain": [
              "communal standpipe             28516\n",
              "hand pump                      17466\n",
              "other                           6377\n",
              "communal standpipe multiple     6099\n",
              "improved spring                  783\n",
              "cattle trough                    116\n",
              "dam                                7\n",
              "Name: waterpoint_type, dtype: int64"
            ]
          },
          "metadata": {},
          "execution_count": 75
        }
      ],
      "source": [
        "# Check value counts\n",
        "train['waterpoint_type'].value_counts()"
      ]
    },
    {
      "cell_type": "code",
      "execution_count": 76,
      "metadata": {
        "colab": {
          "base_uri": "https://localhost:8080/"
        },
        "id": "rLgejIU1yVkG",
        "outputId": "667c0d12-e6ac-4714-de23-fd4abae5a284"
      },
      "outputs": [
        {
          "output_type": "execute_result",
          "data": {
            "text/plain": [
              "communal standpipe    34615\n",
              "hand pump             17466\n",
              "other                  6377\n",
              "improved spring         783\n",
              "cattle trough           116\n",
              "dam                       7\n",
              "Name: waterpoint_type_group, dtype: int64"
            ]
          },
          "metadata": {},
          "execution_count": 76
        }
      ],
      "source": [
        "# Check value counts\n",
        "train['waterpoint_type_group'].value_counts()"
      ]
    },
    {
      "cell_type": "code",
      "execution_count": 77,
      "metadata": {
        "id": "vtgZi1PtyVkG"
      },
      "outputs": [],
      "source": [
        "# Both columns have the same data\n",
        "# Communal standpipe and standpipe multiple are merged in waterpoint type group\n",
        "# I will drop one of the columns. \n",
        "train = train.drop(['waterpoint_type'],axis=1)"
      ]
    },
    {
      "cell_type": "markdown",
      "metadata": {
        "id": "cJ0WhyLHyVkG"
      },
      "source": [
        "#### Source"
      ]
    },
    {
      "cell_type": "code",
      "execution_count": 78,
      "metadata": {
        "colab": {
          "base_uri": "https://localhost:8080/"
        },
        "id": "WjzUZY2-yVkG",
        "outputId": "45875b32-a903-497a-cad9-b6d5283d60c3"
      },
      "outputs": [
        {
          "output_type": "execute_result",
          "data": {
            "text/plain": [
              "spring                  17020\n",
              "shallow well            16801\n",
              "machine dbh             11069\n",
              "river                    9612\n",
              "rainwater harvesting     2293\n",
              "hand dtw                  874\n",
              "lake                      763\n",
              "dam                       655\n",
              "other                     211\n",
              "unknown                    66\n",
              "Name: source, dtype: int64"
            ]
          },
          "metadata": {},
          "execution_count": 78
        }
      ],
      "source": [
        "# Check value counts\n",
        "train['source'].value_counts()"
      ]
    },
    {
      "cell_type": "code",
      "execution_count": 79,
      "metadata": {
        "colab": {
          "base_uri": "https://localhost:8080/"
        },
        "id": "8siTQPr4yVkH",
        "outputId": "59198db9-fc42-46eb-9380-f8f624f57c55"
      },
      "outputs": [
        {
          "output_type": "execute_result",
          "data": {
            "text/plain": [
              "spring                  17020\n",
              "shallow well            16801\n",
              "borehole                11943\n",
              "river/lake              10375\n",
              "rainwater harvesting     2293\n",
              "dam                       655\n",
              "other                     277\n",
              "Name: source_type, dtype: int64"
            ]
          },
          "metadata": {},
          "execution_count": 79
        }
      ],
      "source": [
        "# Check value counts\n",
        "train['source_type'].value_counts()"
      ]
    },
    {
      "cell_type": "code",
      "execution_count": 80,
      "metadata": {
        "colab": {
          "base_uri": "https://localhost:8080/"
        },
        "id": "JyVhgD8ayVkH",
        "outputId": "9c85f87e-18c0-4f28-e501-dbdacc32aad8"
      },
      "outputs": [
        {
          "output_type": "execute_result",
          "data": {
            "text/plain": [
              "groundwater    45764\n",
              "surface        13323\n",
              "unknown          277\n",
              "Name: source_class, dtype: int64"
            ]
          },
          "metadata": {},
          "execution_count": 80
        }
      ],
      "source": [
        "# Check value counts\n",
        "train['source_class'].value_counts()"
      ]
    },
    {
      "cell_type": "code",
      "execution_count": 81,
      "metadata": {
        "id": "tTBAZ6f2yVkO"
      },
      "outputs": [],
      "source": [
        "# Source and source type have similar data \n",
        "# Some values are merged in the source type column\n",
        "# I will drop one of the columns\n",
        "train = train.drop(['source'],axis=1)"
      ]
    },
    {
      "cell_type": "markdown",
      "metadata": {
        "id": "l2Wu2PzuyVkP"
      },
      "source": [
        "#### Quantity"
      ]
    },
    {
      "cell_type": "code",
      "execution_count": 82,
      "metadata": {
        "colab": {
          "base_uri": "https://localhost:8080/"
        },
        "id": "SynalXESyVkP",
        "outputId": "5d3a29a2-ae07-4f0a-e8c8-e77c38e43d54"
      },
      "outputs": [
        {
          "output_type": "execute_result",
          "data": {
            "text/plain": [
              "enough          33165\n",
              "insufficient    15119\n",
              "dry              6243\n",
              "seasonal         4048\n",
              "unknown           789\n",
              "Name: quantity, dtype: int64"
            ]
          },
          "metadata": {},
          "execution_count": 82
        }
      ],
      "source": [
        "# Check value counts\n",
        "train['quantity'].value_counts()"
      ]
    },
    {
      "cell_type": "code",
      "execution_count": 83,
      "metadata": {
        "colab": {
          "base_uri": "https://localhost:8080/"
        },
        "id": "mKHaP_MlyVkP",
        "outputId": "c4560be6-bffa-46c2-9e92-641ee78de964"
      },
      "outputs": [
        {
          "output_type": "execute_result",
          "data": {
            "text/plain": [
              "enough          33165\n",
              "insufficient    15119\n",
              "dry              6243\n",
              "seasonal         4048\n",
              "unknown           789\n",
              "Name: quantity_group, dtype: int64"
            ]
          },
          "metadata": {},
          "execution_count": 83
        }
      ],
      "source": [
        "# Check value counts\n",
        "train['quantity_group'].value_counts()"
      ]
    },
    {
      "cell_type": "code",
      "execution_count": 84,
      "metadata": {
        "id": "am-tTLGuyVkP"
      },
      "outputs": [],
      "source": [
        "# Both columns have the same data\n",
        "# I will drop one of the columns. \n",
        "train = train.drop(['quantity_group'],axis=1)"
      ]
    },
    {
      "cell_type": "markdown",
      "metadata": {
        "id": "ZqlqJ_NwyVkQ"
      },
      "source": [
        "#### Quality"
      ]
    },
    {
      "cell_type": "code",
      "execution_count": 85,
      "metadata": {
        "colab": {
          "base_uri": "https://localhost:8080/"
        },
        "id": "n-J-R0nAyVkQ",
        "outputId": "728dec27-1ccc-4e33-ca7b-404f5584b65d"
      },
      "outputs": [
        {
          "output_type": "execute_result",
          "data": {
            "text/plain": [
              "soft                  50785\n",
              "salty                  4856\n",
              "unknown                1873\n",
              "milky                   804\n",
              "coloured                490\n",
              "salty abandoned         339\n",
              "fluoride                200\n",
              "fluoride abandoned       17\n",
              "Name: water_quality, dtype: int64"
            ]
          },
          "metadata": {},
          "execution_count": 85
        }
      ],
      "source": [
        "# Check value counts\n",
        "train['water_quality'].value_counts()"
      ]
    },
    {
      "cell_type": "code",
      "execution_count": 86,
      "metadata": {
        "colab": {
          "base_uri": "https://localhost:8080/"
        },
        "id": "VVXEmDP0yVkQ",
        "outputId": "0a850555-db43-45ff-f191-812958bfc54b"
      },
      "outputs": [
        {
          "output_type": "execute_result",
          "data": {
            "text/plain": [
              "good        50785\n",
              "salty        5195\n",
              "unknown      1873\n",
              "milky         804\n",
              "colored       490\n",
              "fluoride      217\n",
              "Name: quality_group, dtype: int64"
            ]
          },
          "metadata": {},
          "execution_count": 86
        }
      ],
      "source": [
        "# Check value counts\n",
        "train['quality_group'].value_counts()"
      ]
    },
    {
      "cell_type": "code",
      "execution_count": 87,
      "metadata": {
        "id": "0RP_607SyVkR"
      },
      "outputs": [],
      "source": [
        "# Source and source type have similar data \n",
        "# Some values are merged in the quality group column\n",
        "# I will drop one of the columns\n",
        "train = train.drop(['quality_group'],axis=1)"
      ]
    },
    {
      "cell_type": "markdown",
      "metadata": {
        "id": "ZYjCTjocyVkR"
      },
      "source": [
        "#### Payment"
      ]
    },
    {
      "cell_type": "code",
      "execution_count": 88,
      "metadata": {
        "colab": {
          "base_uri": "https://localhost:8080/"
        },
        "id": "hUEh5fugyVkR",
        "outputId": "59e89185-bd72-4090-9693-a334942cffb8"
      },
      "outputs": [
        {
          "output_type": "execute_result",
          "data": {
            "text/plain": [
              "never pay                25337\n",
              "pay per bucket            8984\n",
              "pay monthly               8300\n",
              "unknown                   8134\n",
              "pay when scheme fails     3914\n",
              "pay annually              3642\n",
              "other                     1053\n",
              "Name: payment, dtype: int64"
            ]
          },
          "metadata": {},
          "execution_count": 88
        }
      ],
      "source": [
        "# Check value counts\n",
        "train['payment'].value_counts()"
      ]
    },
    {
      "cell_type": "code",
      "execution_count": 89,
      "metadata": {
        "colab": {
          "base_uri": "https://localhost:8080/"
        },
        "id": "1pFTbBHByVkR",
        "outputId": "77508214-4f2a-4c0b-cb42-6750c8a72970"
      },
      "outputs": [
        {
          "output_type": "execute_result",
          "data": {
            "text/plain": [
              "never pay     25337\n",
              "per bucket     8984\n",
              "monthly        8300\n",
              "unknown        8134\n",
              "on failure     3914\n",
              "annually       3642\n",
              "other          1053\n",
              "Name: payment_type, dtype: int64"
            ]
          },
          "metadata": {},
          "execution_count": 89
        }
      ],
      "source": [
        "# Check value counts\n",
        "train['payment_type'].value_counts()"
      ]
    },
    {
      "cell_type": "code",
      "execution_count": 90,
      "metadata": {
        "id": "g9Peo18TyVkR"
      },
      "outputs": [],
      "source": [
        "# Both columns have the same data\n",
        "# I will drop one of the columns. \n",
        "train = train.drop(['payment'],axis=1)"
      ]
    },
    {
      "cell_type": "markdown",
      "metadata": {
        "id": "1p4gp3EJyVkR"
      },
      "source": [
        "#### Management"
      ]
    },
    {
      "cell_type": "code",
      "execution_count": 91,
      "metadata": {
        "colab": {
          "base_uri": "https://localhost:8080/"
        },
        "id": "AXoLmPRtyVkR",
        "outputId": "fa2ac574-862e-44ac-a4de-fc2b192f8e87"
      },
      "outputs": [
        {
          "output_type": "execute_result",
          "data": {
            "text/plain": [
              "vwc                 40493\n",
              "wug                  6495\n",
              "water board          2933\n",
              "wua                  2535\n",
              "private operator     1971\n",
              "parastatal           1766\n",
              "water authority       904\n",
              "other                 844\n",
              "company               685\n",
              "unknown               561\n",
              "other - school         99\n",
              "trust                  78\n",
              "Name: management, dtype: int64"
            ]
          },
          "metadata": {},
          "execution_count": 91
        }
      ],
      "source": [
        "# Check value counts\n",
        "train['management'].value_counts()"
      ]
    },
    {
      "cell_type": "code",
      "execution_count": 92,
      "metadata": {
        "colab": {
          "base_uri": "https://localhost:8080/"
        },
        "id": "RWk__8mKyVkR",
        "outputId": "018db5ee-7c13-43fa-f792-e6e3ae53ac8b"
      },
      "outputs": [
        {
          "output_type": "execute_result",
          "data": {
            "text/plain": [
              "user-group    52456\n",
              "commercial     3638\n",
              "parastatal     1766\n",
              "other           943\n",
              "unknown         561\n",
              "Name: management_group, dtype: int64"
            ]
          },
          "metadata": {},
          "execution_count": 92
        }
      ],
      "source": [
        "# Check value counts\n",
        "train['management_group'].value_counts()"
      ]
    },
    {
      "cell_type": "code",
      "execution_count": 93,
      "metadata": {
        "id": "MAFR1H3ByVkR"
      },
      "outputs": [],
      "source": [
        "# Source and source type have similar data \n",
        "# Some values are merged in the management group column\n",
        "# I will drop one of the columns\n",
        "train = train.drop(['management'],axis=1)"
      ]
    },
    {
      "cell_type": "markdown",
      "metadata": {
        "id": "ZY5eNcYgyVkR"
      },
      "source": [
        "#### Extraction"
      ]
    },
    {
      "cell_type": "code",
      "execution_count": 94,
      "metadata": {
        "colab": {
          "base_uri": "https://localhost:8080/"
        },
        "id": "MqJ2muDFyVkR",
        "outputId": "6f41ce23-a167-48d8-d186-04c4a040203f"
      },
      "outputs": [
        {
          "output_type": "execute_result",
          "data": {
            "text/plain": [
              "gravity                      26776\n",
              "nira/tanira                   8143\n",
              "other                         6427\n",
              "submersible                   4759\n",
              "swn 80                        3663\n",
              "mono                          2865\n",
              "india mark ii                 2398\n",
              "afridev                       1769\n",
              "ksb                           1413\n",
              "other - rope pump              451\n",
              "other - swn 81                 229\n",
              "windmill                       117\n",
              "india mark iii                  97\n",
              "cemo                            90\n",
              "other - play pump               85\n",
              "walimi                          48\n",
              "climax                          32\n",
              "other - mkulima/shinyanga        2\n",
              "Name: extraction_type, dtype: int64"
            ]
          },
          "metadata": {},
          "execution_count": 94
        }
      ],
      "source": [
        "# Check value counts\n",
        "train['extraction_type'].value_counts()"
      ]
    },
    {
      "cell_type": "code",
      "execution_count": 95,
      "metadata": {
        "colab": {
          "base_uri": "https://localhost:8080/"
        },
        "id": "x_R_0i0zyVkR",
        "outputId": "16ea0d29-d909-4551-bbde-5eb9f2b831e0"
      },
      "outputs": [
        {
          "output_type": "execute_result",
          "data": {
            "text/plain": [
              "gravity            26776\n",
              "nira/tanira         8143\n",
              "other               6427\n",
              "submersible         6172\n",
              "swn 80              3663\n",
              "mono                2865\n",
              "india mark ii       2398\n",
              "afridev             1769\n",
              "rope pump            451\n",
              "other handpump       364\n",
              "other motorpump      122\n",
              "wind-powered         117\n",
              "india mark iii        97\n",
              "Name: extraction_type_group, dtype: int64"
            ]
          },
          "metadata": {},
          "execution_count": 95
        }
      ],
      "source": [
        "# Check value counts\n",
        "train['extraction_type_group'].value_counts()"
      ]
    },
    {
      "cell_type": "code",
      "execution_count": 96,
      "metadata": {
        "colab": {
          "base_uri": "https://localhost:8080/"
        },
        "id": "6b37uFYzyVkR",
        "outputId": "dbd3eb9a-eb7b-4e56-f7a1-c9856aac1cdd"
      },
      "outputs": [
        {
          "output_type": "execute_result",
          "data": {
            "text/plain": [
              "gravity         26776\n",
              "handpump        16434\n",
              "other            6427\n",
              "submersible      6172\n",
              "motorpump        2987\n",
              "rope pump         451\n",
              "wind-powered      117\n",
              "Name: extraction_type_class, dtype: int64"
            ]
          },
          "metadata": {},
          "execution_count": 96
        }
      ],
      "source": [
        "# Check value counts\n",
        "train['extraction_type_class'].value_counts()"
      ]
    },
    {
      "cell_type": "code",
      "execution_count": 97,
      "metadata": {
        "id": "cW8ioHxsyVkS"
      },
      "outputs": [],
      "source": [
        "# Source and source type have similar data \n",
        "# Some values are merged in the extraction type class column\n",
        "# I will drop two of the columns\n",
        "train = train.drop(['extraction_type', 'extraction_type_group'],axis=1)"
      ]
    },
    {
      "cell_type": "markdown",
      "metadata": {
        "id": "wDDqYgj4yVkS"
      },
      "source": [
        "#### Geography"
      ]
    },
    {
      "cell_type": "code",
      "execution_count": 98,
      "metadata": {
        "id": "XYd0WosYyVkS"
      },
      "outputs": [],
      "source": [
        "# There are too many columns representing geographical data\n",
        "# e.g. gps_height, longitude, latitude, region_code and district_code\n",
        "# These are less likely to add any predictive power to the model\n",
        "# I will drop some of these columns\n",
        "train = train.drop(['gps_height', 'region_code', 'district_code', 'ward'], axis=1)"
      ]
    },
    {
      "cell_type": "markdown",
      "metadata": {
        "id": "TpNdZc5FyVkS"
      },
      "source": [
        "## 2.4.2. Validity\n",
        "- Check to see if all the columns in the dataset are valid/useful for this analysis\n",
        "- Dropping any that isn't useful."
      ]
    },
    {
      "cell_type": "markdown",
      "metadata": {
        "id": "M7RLMCSlyVkS"
      },
      "source": [
        "#### num_private and wpt_name\n",
        "\n",
        "- 'num_private' hasn't been given a description on Driven Data, it appears to be superflous.\n",
        "- 'waterpoint_type_group' can be dropped to leave 'wpt_name'\n",
        "-  I will drop these columns"
      ]
    },
    {
      "cell_type": "code",
      "execution_count": 103,
      "metadata": {
        "id": "NoDIjaeYyVkS"
      },
      "outputs": [],
      "source": [
        "# Drop columns\n",
        "train = train.drop(['num_private', 'waterpoint_type_group'], axis=1)"
      ]
    },
    {
      "cell_type": "markdown",
      "metadata": {
        "id": "3M2q-H2syVkS"
      },
      "source": [
        "#### recorded_by\n",
        "- The values in this column are same. \n",
        "- There is no point to go forward with this column."
      ]
    },
    {
      "cell_type": "code",
      "execution_count": 104,
      "metadata": {
        "colab": {
          "base_uri": "https://localhost:8080/"
        },
        "id": "s3YXZJAmyVkS",
        "outputId": "c264a61b-e4e7-457e-9881-616b0ba0f3b2"
      },
      "outputs": [
        {
          "output_type": "execute_result",
          "data": {
            "text/plain": [
              "GeoData Consultants Ltd    59364\n",
              "Name: recorded_by, dtype: int64"
            ]
          },
          "metadata": {},
          "execution_count": 104
        }
      ],
      "source": [
        "# Check value counts\n",
        "train['recorded_by'].value_counts()"
      ]
    },
    {
      "cell_type": "code",
      "execution_count": 105,
      "metadata": {
        "id": "Nbtj2_nJyVkS"
      },
      "outputs": [],
      "source": [
        "# Drop column\n",
        "train = train.drop(['recorded_by'],axis=1)"
      ]
    },
    {
      "cell_type": "markdown",
      "metadata": {
        "id": "ZURgNa--yVkS"
      },
      "source": [
        "#### Construction Year\n",
        "\n",
        "- I will turn construction_year into a categorical column containing the following values: '60s', '70s','80s', '90s, '00s', '10s', 'unknown'."
      ]
    },
    {
      "cell_type": "code",
      "execution_count": 106,
      "metadata": {
        "id": "BV3cimgVyVkS"
      },
      "outputs": [],
      "source": [
        "# Define a grouping function\n",
        "def construction_grouping(row):\n",
        "    if row['construction_year'] >= 1960 and row['construction_year'] < 1970:\n",
        "        return '60s'\n",
        "    elif row['construction_year'] >= 1970 and row['construction_year'] < 1980:\n",
        "        return '70s'\n",
        "    elif row['construction_year'] >= 1980 and row['construction_year'] < 1990:\n",
        "        return '80s'\n",
        "    elif row['construction_year'] >= 1990 and row['construction_year'] < 2000:\n",
        "        return '90s'\n",
        "    elif row['construction_year'] >= 2000 and row['construction_year'] < 2010:\n",
        "        return '00s'\n",
        "    elif row['construction_year'] >= 2010:\n",
        "        return '10s'\n",
        "    else:\n",
        "        return 'unknown'\n",
        "    \n",
        "train['construction_year'] = train.apply(lambda row: construction_grouping(row), axis=1)"
      ]
    },
    {
      "cell_type": "markdown",
      "metadata": {
        "id": "G68_v2ggyVkS"
      },
      "source": [
        "**bold text**#### Date recorded\n",
        "- Date recorded is in object form.\n",
        "- I will convert 'date_recorded' into records of days since it was recorded"
      ]
    },
    {
      "cell_type": "code",
      "execution_count": 107,
      "metadata": {
        "id": "9hF_NNZ3yVkS"
      },
      "outputs": [],
      "source": [
        "# Get days from since recorded\n",
        "train.date_recorded = pd.datetime(2013, 12, 3) - pd.to_datetime(train.date_recorded)\n",
        "train.columns = ['days_since_recorded' if x=='date_recorded' else x for x in train.columns]\n",
        "train.days_since_recorded = train.days_since_recorded.astype('timedelta64[D]').astype(int)"
      ]
    },
    {
      "cell_type": "markdown",
      "source": [
        "**bold text**#### Status Group\n",
        "- We only need to non functional and well that finction but need repair\n",
        "- I will drop functional wells"
      ],
      "metadata": {
        "id": "VagXfm2BWZ4S"
      }
    },
    {
      "cell_type": "code",
      "source": [
        "# Check unique values in status group\n",
        "train['status_group'].value_counts().to_frame()"
      ],
      "metadata": {
        "colab": {
          "base_uri": "https://localhost:8080/",
          "height": 143
        },
        "id": "_BQPF0ekM-_w",
        "outputId": "59932c37-d4ae-4dfa-de01-5c315eb1bf99"
      },
      "execution_count": 132,
      "outputs": [
        {
          "output_type": "execute_result",
          "data": {
            "text/plain": [
              "                         status_group\n",
              "functional                      32237\n",
              "non functional                  22813\n",
              "functional needs repair          4314"
            ],
            "text/html": [
              "\n",
              "  <div id=\"df-ebab4c15-dc65-428b-ae4e-41317a81cd07\">\n",
              "    <div class=\"colab-df-container\">\n",
              "      <div>\n",
              "<style scoped>\n",
              "    .dataframe tbody tr th:only-of-type {\n",
              "        vertical-align: middle;\n",
              "    }\n",
              "\n",
              "    .dataframe tbody tr th {\n",
              "        vertical-align: top;\n",
              "    }\n",
              "\n",
              "    .dataframe thead th {\n",
              "        text-align: right;\n",
              "    }\n",
              "</style>\n",
              "<table border=\"1\" class=\"dataframe\">\n",
              "  <thead>\n",
              "    <tr style=\"text-align: right;\">\n",
              "      <th></th>\n",
              "      <th>status_group</th>\n",
              "    </tr>\n",
              "  </thead>\n",
              "  <tbody>\n",
              "    <tr>\n",
              "      <th>functional</th>\n",
              "      <td>32237</td>\n",
              "    </tr>\n",
              "    <tr>\n",
              "      <th>non functional</th>\n",
              "      <td>22813</td>\n",
              "    </tr>\n",
              "    <tr>\n",
              "      <th>functional needs repair</th>\n",
              "      <td>4314</td>\n",
              "    </tr>\n",
              "  </tbody>\n",
              "</table>\n",
              "</div>\n",
              "      <button class=\"colab-df-convert\" onclick=\"convertToInteractive('df-ebab4c15-dc65-428b-ae4e-41317a81cd07')\"\n",
              "              title=\"Convert this dataframe to an interactive table.\"\n",
              "              style=\"display:none;\">\n",
              "        \n",
              "  <svg xmlns=\"http://www.w3.org/2000/svg\" height=\"24px\"viewBox=\"0 0 24 24\"\n",
              "       width=\"24px\">\n",
              "    <path d=\"M0 0h24v24H0V0z\" fill=\"none\"/>\n",
              "    <path d=\"M18.56 5.44l.94 2.06.94-2.06 2.06-.94-2.06-.94-.94-2.06-.94 2.06-2.06.94zm-11 1L8.5 8.5l.94-2.06 2.06-.94-2.06-.94L8.5 2.5l-.94 2.06-2.06.94zm10 10l.94 2.06.94-2.06 2.06-.94-2.06-.94-.94-2.06-.94 2.06-2.06.94z\"/><path d=\"M17.41 7.96l-1.37-1.37c-.4-.4-.92-.59-1.43-.59-.52 0-1.04.2-1.43.59L10.3 9.45l-7.72 7.72c-.78.78-.78 2.05 0 2.83L4 21.41c.39.39.9.59 1.41.59.51 0 1.02-.2 1.41-.59l7.78-7.78 2.81-2.81c.8-.78.8-2.07 0-2.86zM5.41 20L4 18.59l7.72-7.72 1.47 1.35L5.41 20z\"/>\n",
              "  </svg>\n",
              "      </button>\n",
              "      \n",
              "  <style>\n",
              "    .colab-df-container {\n",
              "      display:flex;\n",
              "      flex-wrap:wrap;\n",
              "      gap: 12px;\n",
              "    }\n",
              "\n",
              "    .colab-df-convert {\n",
              "      background-color: #E8F0FE;\n",
              "      border: none;\n",
              "      border-radius: 50%;\n",
              "      cursor: pointer;\n",
              "      display: none;\n",
              "      fill: #1967D2;\n",
              "      height: 32px;\n",
              "      padding: 0 0 0 0;\n",
              "      width: 32px;\n",
              "    }\n",
              "\n",
              "    .colab-df-convert:hover {\n",
              "      background-color: #E2EBFA;\n",
              "      box-shadow: 0px 1px 2px rgba(60, 64, 67, 0.3), 0px 1px 3px 1px rgba(60, 64, 67, 0.15);\n",
              "      fill: #174EA6;\n",
              "    }\n",
              "\n",
              "    [theme=dark] .colab-df-convert {\n",
              "      background-color: #3B4455;\n",
              "      fill: #D2E3FC;\n",
              "    }\n",
              "\n",
              "    [theme=dark] .colab-df-convert:hover {\n",
              "      background-color: #434B5C;\n",
              "      box-shadow: 0px 1px 3px 1px rgba(0, 0, 0, 0.15);\n",
              "      filter: drop-shadow(0px 1px 2px rgba(0, 0, 0, 0.3));\n",
              "      fill: #FFFFFF;\n",
              "    }\n",
              "  </style>\n",
              "\n",
              "      <script>\n",
              "        const buttonEl =\n",
              "          document.querySelector('#df-ebab4c15-dc65-428b-ae4e-41317a81cd07 button.colab-df-convert');\n",
              "        buttonEl.style.display =\n",
              "          google.colab.kernel.accessAllowed ? 'block' : 'none';\n",
              "\n",
              "        async function convertToInteractive(key) {\n",
              "          const element = document.querySelector('#df-ebab4c15-dc65-428b-ae4e-41317a81cd07');\n",
              "          const dataTable =\n",
              "            await google.colab.kernel.invokeFunction('convertToInteractive',\n",
              "                                                     [key], {});\n",
              "          if (!dataTable) return;\n",
              "\n",
              "          const docLinkHtml = 'Like what you see? Visit the ' +\n",
              "            '<a target=\"_blank\" href=https://colab.research.google.com/notebooks/data_table.ipynb>data table notebook</a>'\n",
              "            + ' to learn more about interactive tables.';\n",
              "          element.innerHTML = '';\n",
              "          dataTable['output_type'] = 'display_data';\n",
              "          await google.colab.output.renderOutput(dataTable, element);\n",
              "          const docLink = document.createElement('div');\n",
              "          docLink.innerHTML = docLinkHtml;\n",
              "          element.appendChild(docLink);\n",
              "        }\n",
              "      </script>\n",
              "    </div>\n",
              "  </div>\n",
              "  "
            ]
          },
          "metadata": {},
          "execution_count": 132
        }
      ]
    },
    {
      "cell_type": "code",
      "source": [
        "# Drop functional wells\n",
        "train = train.loc[train['status_group'] != 'functional']"
      ],
      "metadata": {
        "id": "ExyRfc4SWqZn"
      },
      "execution_count": 134,
      "outputs": []
    },
    {
      "cell_type": "markdown",
      "metadata": {
        "id": "wQ3bzEkdyVkS"
      },
      "source": [
        "## 2.4.3. Completeness\n",
        "- Check to see if there are any missing/null values, and impute them."
      ]
    },
    {
      "cell_type": "code",
      "execution_count": 109,
      "metadata": {
        "id": "rKqUSO5SyVkS"
      },
      "outputs": [],
      "source": [
        "# Define a function to get missing data\n",
        "def missing_data(df):\n",
        "    missing_data = df.isna().sum()\n",
        "    missing_data = missing_data[missing_data>0]\n",
        "    return missing_data"
      ]
    },
    {
      "cell_type": "code",
      "execution_count": 110,
      "metadata": {
        "colab": {
          "base_uri": "https://localhost:8080/"
        },
        "id": "CyTVxcFGyVkS",
        "outputId": "2c584df7-bbf6-4675-81e4-0075273a5bd1"
      },
      "outputs": [
        {
          "output_type": "execute_result",
          "data": {
            "text/plain": [
              "funder                3635\n",
              "installer             3655\n",
              "subvillage             371\n",
              "public_meeting        3314\n",
              "scheme_management     3877\n",
              "scheme_name          28139\n",
              "permit                3056\n",
              "dtype: int64"
            ]
          },
          "metadata": {},
          "execution_count": 110
        }
      ],
      "source": [
        "# print missing columns on training test\n",
        "missing_data(train)"
      ]
    },
    {
      "cell_type": "markdown",
      "metadata": {
        "id": "CAlkSbhEyVkS"
      },
      "source": [
        "To get a better understanding of how to deal with the missing values, I will explore the columns further. "
      ]
    },
    {
      "cell_type": "markdown",
      "metadata": {
        "id": "BmHnHhu1yVkS"
      },
      "source": [
        "#### funder column"
      ]
    },
    {
      "cell_type": "code",
      "execution_count": 111,
      "metadata": {
        "colab": {
          "base_uri": "https://localhost:8080/"
        },
        "id": "kXJbNNrDyVkT",
        "outputId": "da4dde35-48da-43ea-9aa2-8fad18f64cac"
      },
      "outputs": [
        {
          "output_type": "execute_result",
          "data": {
            "text/plain": [
              "Government Of Tanzania    9076\n",
              "Danida                    3114\n",
              "Hesawa                    2198\n",
              "Rwssp                     1372\n",
              "World Bank                1349\n",
              "                          ... \n",
              "Rarymond Ekura               1\n",
              "Justine Marwa                1\n",
              "Municipal Council            1\n",
              "Afdp                         1\n",
              "Samlo                        1\n",
              "Name: funder, Length: 1897, dtype: int64"
            ]
          },
          "metadata": {},
          "execution_count": 111
        }
      ],
      "source": [
        "# get value counts\n",
        "train['funder'].value_counts()"
      ]
    },
    {
      "cell_type": "code",
      "execution_count": 112,
      "metadata": {
        "id": "MznxWzqtyVkT"
      },
      "outputs": [],
      "source": [
        "# I will group the column into 6 categories. The top 5 value counts and the rest in other\n",
        "\n",
        "def funder_grouping(dataframe):\n",
        "    if dataframe['funder'] == 'Government Of Tanzania':\n",
        "        return 'government'\n",
        "    elif dataframe['funder'] == 'Danida':\n",
        "        return 'danida'\n",
        "    elif dataframe['funder'] == 'Hesawa':\n",
        "        return 'hesawa'\n",
        "    elif dataframe['funder'] == 'Rwssp':\n",
        "        return 'rwssp'\n",
        "    elif dataframe['funder'] == 'World Bank':\n",
        "        return 'world_bank'    \n",
        "    else:\n",
        "        return 'other'\n",
        "    \n",
        "train['funder'] = train.apply(lambda row: funder_grouping(row), axis=1)"
      ]
    },
    {
      "cell_type": "markdown",
      "metadata": {
        "id": "vzQyh0Y3yVkT"
      },
      "source": [
        "#### installer column"
      ]
    },
    {
      "cell_type": "code",
      "execution_count": 113,
      "metadata": {
        "colab": {
          "base_uri": "https://localhost:8080/"
        },
        "id": "z2hUnvxwyVkT",
        "outputId": "cfad1333-a533-4798-fa62-e1eb55187b1c"
      },
      "outputs": [
        {
          "output_type": "execute_result",
          "data": {
            "text/plain": [
              "DWE                17385\n",
              "Government          1818\n",
              "RWE                 1205\n",
              "Commu               1060\n",
              "DANIDA              1050\n",
              "                   ...  \n",
              "Wizara  ya maji        1\n",
              "TWESS                  1\n",
              "Nasan workers          1\n",
              "R                      1\n",
              "SELEPTA                1\n",
              "Name: installer, Length: 2145, dtype: int64"
            ]
          },
          "metadata": {},
          "execution_count": 113
        }
      ],
      "source": [
        "# get value counts\n",
        "train['installer'].value_counts()"
      ]
    },
    {
      "cell_type": "code",
      "execution_count": 114,
      "metadata": {
        "id": "OY3WN1-oyVkT"
      },
      "outputs": [],
      "source": [
        "# I will group the column into 6 categories. The top 5 value counts and the rest in other\n",
        "def installer_grouping(dataframe):\n",
        "    if dataframe['installer'] == 'DWE':\n",
        "        return 'dwe'\n",
        "    elif dataframe['installer'] == 'Government':\n",
        "        return 'government'\n",
        "    elif dataframe['installer'] == 'RWE':\n",
        "        return 'rwe'\n",
        "    elif dataframe['installer'] == 'Commu':\n",
        "        return 'commu'\n",
        "    elif dataframe['installer'] == 'DANIDA':\n",
        "        return 'danida'    \n",
        "    else:\n",
        "        return 'other'\n",
        "    \n",
        "train['installer'] = train.apply(lambda row: installer_grouping(row), axis=1)"
      ]
    },
    {
      "cell_type": "markdown",
      "metadata": {
        "id": "IT2EXfupyVkT"
      },
      "source": [
        "#### subvillage"
      ]
    },
    {
      "cell_type": "code",
      "execution_count": 115,
      "metadata": {
        "colab": {
          "base_uri": "https://localhost:8080/"
        },
        "id": "ZPe7PPFRyVkT",
        "outputId": "4f57e1be-c628-41ae-8fcb-26fd3e8159fa"
      },
      "outputs": [
        {
          "output_type": "execute_result",
          "data": {
            "text/plain": [
              "Shuleni         505\n",
              "Madukani        503\n",
              "Majengo         502\n",
              "Kati            373\n",
              "Mtakuja         262\n",
              "               ... \n",
              "Maekani           1\n",
              "Kipompo           1\n",
              "Chanyamilima      1\n",
              "Ikalime           1\n",
              "Kikatanyemba      1\n",
              "Name: subvillage, Length: 19287, dtype: int64"
            ]
          },
          "metadata": {},
          "execution_count": 115
        }
      ],
      "source": [
        "# get value counts\n",
        "# It is harder to divide this column since we have no dominating values\n",
        "train['subvillage'].value_counts()\n",
        "\n",
        "# probably better off dropping this column"
      ]
    },
    {
      "cell_type": "code",
      "execution_count": 116,
      "metadata": {
        "id": "E6b-lzzeyVkT"
      },
      "outputs": [],
      "source": [
        "train = train.drop(['subvillage'],axis = 1)"
      ]
    },
    {
      "cell_type": "markdown",
      "metadata": {
        "id": "rqRlN8phyVkT"
      },
      "source": [
        "#### public meeting"
      ]
    },
    {
      "cell_type": "code",
      "execution_count": 117,
      "metadata": {
        "colab": {
          "base_uri": "https://localhost:8080/"
        },
        "id": "tKlI8oacyVkT",
        "outputId": "6c5186a6-8e71-40d1-a0b3-f1ec57ba016e"
      },
      "outputs": [
        {
          "output_type": "execute_result",
          "data": {
            "text/plain": [
              "True     50996\n",
              "False     5054\n",
              "Name: public_meeting, dtype: int64"
            ]
          },
          "metadata": {},
          "execution_count": 117
        }
      ],
      "source": [
        "# get value counts\n",
        "train['public_meeting'].value_counts()"
      ]
    },
    {
      "cell_type": "code",
      "execution_count": 118,
      "metadata": {
        "id": "ZPyQ3LI8yVkT"
      },
      "outputs": [],
      "source": [
        "# There are more trues that Falses. \n",
        "# I will fill the missing values with Unknown\n",
        "train.public_meeting = train.public_meeting.fillna('Unknown')"
      ]
    },
    {
      "cell_type": "markdown",
      "metadata": {
        "id": "bqgQa8kbyVkT"
      },
      "source": [
        "#### scheme management"
      ]
    },
    {
      "cell_type": "code",
      "execution_count": 119,
      "metadata": {
        "colab": {
          "base_uri": "https://localhost:8080/"
        },
        "id": "NnQEbK-myVkT",
        "outputId": "64e5faac-e1d0-45f0-c902-6b2d866d237b"
      },
      "outputs": [
        {
          "output_type": "execute_result",
          "data": {
            "text/plain": [
              "VWC                 36779\n",
              "WUG                  5186\n",
              "Water authority      3153\n",
              "WUA                  2883\n",
              "Water Board          2748\n",
              "Parastatal           1678\n",
              "Private operator     1063\n",
              "Company              1061\n",
              "Other                 766\n",
              "SWC                    97\n",
              "Trust                  72\n",
              "None                    1\n",
              "Name: scheme_management, dtype: int64"
            ]
          },
          "metadata": {},
          "execution_count": 119
        }
      ],
      "source": [
        "# get value counts\n",
        "train['scheme_management'].value_counts()"
      ]
    },
    {
      "cell_type": "code",
      "execution_count": 120,
      "metadata": {
        "id": "AUOx2P2OyVkT"
      },
      "outputs": [],
      "source": [
        "# There are too many categories in this column\n",
        "# I will divide it into 6 categories with 5 being the top 5 and the rest in other\n",
        "\n",
        "def scheme_grouping(row):\n",
        "    '''Keep top 5 values and set the rest to 'other'. '''\n",
        "    if row['scheme_management'] == 'VWC':\n",
        "        return 'vwc'\n",
        "    elif row['scheme_management'] == 'WUG':\n",
        "        return 'wug'\n",
        "    elif row['scheme_management'] == 'Water authority':\n",
        "        return 'water_authority'\n",
        "    elif row['scheme_management'] == 'WUA':\n",
        "        return 'wua'\n",
        "    elif row['scheme_management'] == 'Water Board':\n",
        "        return 'water_board'\n",
        "    else:\n",
        "        return 'other'\n",
        "\n",
        "train['scheme_management'] = train.apply(lambda row: scheme_grouping(row), axis=1)"
      ]
    },
    {
      "cell_type": "markdown",
      "metadata": {
        "id": "eeWzHrl9yVkT"
      },
      "source": [
        "#### scheme name"
      ]
    },
    {
      "cell_type": "code",
      "execution_count": 121,
      "metadata": {
        "colab": {
          "base_uri": "https://localhost:8080/"
        },
        "id": "1TMq073GyVkT",
        "outputId": "eac23ade-217a-4d45-e09d-ea4d359c8597"
      },
      "outputs": [
        {
          "output_type": "execute_result",
          "data": {
            "text/plain": [
              "K                       682\n",
              "None                    644\n",
              "Borehole                545\n",
              "Chalinze wate           405\n",
              "M                       400\n",
              "                       ... \n",
              "Visiga water supplly      1\n",
              "Villagers                 1\n",
              "Saadani Chumv             1\n",
              "Magundi water supply      1\n",
              "Mtawanya                  1\n",
              "Name: scheme_name, Length: 2696, dtype: int64"
            ]
          },
          "metadata": {},
          "execution_count": 121
        }
      ],
      "source": [
        "# get value counts\n",
        "train['scheme_name'].value_counts()"
      ]
    },
    {
      "cell_type": "code",
      "execution_count": 122,
      "metadata": {
        "colab": {
          "base_uri": "https://localhost:8080/"
        },
        "id": "GCTuLhkAyVka",
        "outputId": "9e103f94-0c9d-4edc-e3db-9de8920608ef"
      },
      "outputs": [
        {
          "output_type": "execute_result",
          "data": {
            "text/plain": [
              "2697"
            ]
          },
          "metadata": {},
          "execution_count": 122
        }
      ],
      "source": [
        "# Check unique values\n",
        "len(train.scheme_name.unique())"
      ]
    },
    {
      "cell_type": "code",
      "execution_count": 123,
      "metadata": {
        "id": "3cOExU3ByVka"
      },
      "outputs": [],
      "source": [
        "# It is harder to divide this column since we have no dominating values\n",
        "# its better to drop the column\n",
        "train = train.drop('scheme_name', axis = 1)"
      ]
    },
    {
      "cell_type": "markdown",
      "metadata": {
        "id": "ZMAGJTxzyVka"
      },
      "source": [
        "#### permit"
      ]
    },
    {
      "cell_type": "code",
      "execution_count": 124,
      "metadata": {
        "colab": {
          "base_uri": "https://localhost:8080/"
        },
        "id": "VCoLFSCByVka",
        "outputId": "9cb162a3-a6ae-4501-ff2b-c8390136a371"
      },
      "outputs": [
        {
          "output_type": "execute_result",
          "data": {
            "text/plain": [
              "True     38838\n",
              "False    17470\n",
              "Name: permit, dtype: int64"
            ]
          },
          "metadata": {},
          "execution_count": 124
        }
      ],
      "source": [
        "# get value counts\n",
        "train['permit'].value_counts()"
      ]
    },
    {
      "cell_type": "code",
      "execution_count": 125,
      "metadata": {
        "id": "jn9NASvOyVka"
      },
      "outputs": [],
      "source": [
        "# There are more trues that Falses. \n",
        "# I will fill the missing values with Unknown\n",
        "train.permit = train.permit.fillna('Unknown')"
      ]
    },
    {
      "cell_type": "markdown",
      "metadata": {
        "id": "s2Zl1GcayVkb"
      },
      "source": [
        "\n",
        "\n",
        "Checking for missing values again in both the train and test data\n",
        "\n"
      ]
    },
    {
      "cell_type": "code",
      "execution_count": 126,
      "metadata": {
        "colab": {
          "base_uri": "https://localhost:8080/"
        },
        "id": "HnrcZF_4yVkb",
        "outputId": "1dc6929b-059e-44d2-a7d8-19e3cb84068e"
      },
      "outputs": [
        {
          "output_type": "execute_result",
          "data": {
            "text/plain": [
              "Series([], dtype: int64)"
            ]
          },
          "metadata": {},
          "execution_count": 126
        }
      ],
      "source": [
        "# Check for missing data\n",
        "missing_data(train)"
      ]
    },
    {
      "cell_type": "markdown",
      "metadata": {
        "id": "dqKQslA4yVkb"
      },
      "source": [
        "\n",
        "\n",
        "Great! There are no more missing values"
      ]
    },
    {
      "cell_type": "code",
      "execution_count": 135,
      "metadata": {
        "colab": {
          "base_uri": "https://localhost:8080/",
          "height": 423
        },
        "id": "0L-oej7oyVkb",
        "outputId": "e7a6acfc-51de-4bff-d69b-211bcdc0fbea"
      },
      "outputs": [
        {
          "output_type": "execute_result",
          "data": {
            "text/plain": [
              "       amount_tsh  days_since_recorded funder installer  longitude   latitude  \\\n",
              "id                                                                              \n",
              "67743         0.0                  309  other     other  38.486161 -11.155298   \n",
              "19816         0.0                  428  other     other  33.362410  -3.766365   \n",
              "54551         0.0                  420  rwssp       dwe  32.620617  -4.226198   \n",
              "53934         0.0                  395  other     other  32.711100  -5.146712   \n",
              "48451       500.0                  883  other       dwe  34.642439  -9.106185   \n",
              "\n",
              "                   wpt_name                    basin     region  \\\n",
              "id                                                                \n",
              "67743  Zahanati Ya Nanyumbu  Ruvuma / Southern Coast     Mtwara   \n",
              "19816            Kwa Ngomho                 Internal  Shinyanga   \n",
              "54551          Tushirikiane          Lake Tanganyika  Shinyanga   \n",
              "53934     Kwa Ramadhan Musa          Lake Tanganyika     Tabora   \n",
              "48451       Kwa John Mtenzi                   Rufiji     Iringa   \n",
              "\n",
              "                   lga  population public_meeting scheme_management permit  \\\n",
              "id                                                                           \n",
              "67743         Nanyumbu          58           True               vwc   True   \n",
              "19816  Shinyanga Rural           0           True               vwc   True   \n",
              "54551           Kahama           0           True             other   True   \n",
              "53934     Tabora Urban           0           True               vwc   True   \n",
              "48451           Njombe          35           True               wua   True   \n",
              "\n",
              "      construction_year extraction_type_class management_group payment_type  \\\n",
              "id                                                                            \n",
              "67743               80s           submersible       user-group    never pay   \n",
              "19816           unknown              handpump       user-group    never pay   \n",
              "54551           unknown              handpump       user-group      unknown   \n",
              "53934           unknown              handpump       user-group    never pay   \n",
              "48451               70s               gravity       user-group      monthly   \n",
              "\n",
              "      water_quality  quantity   source_type source_class    status_group  \n",
              "id                                                                        \n",
              "67743          soft       dry      borehole  groundwater  non functional  \n",
              "19816          soft    enough      borehole  groundwater  non functional  \n",
              "54551         milky    enough  shallow well  groundwater  non functional  \n",
              "53934         salty  seasonal      borehole  groundwater  non functional  \n",
              "48451          soft       dry    river/lake      surface  non functional  "
            ],
            "text/html": [
              "\n",
              "  <div id=\"df-c0382bd7-ba59-439e-9ea6-2ffada393692\">\n",
              "    <div class=\"colab-df-container\">\n",
              "      <div>\n",
              "<style scoped>\n",
              "    .dataframe tbody tr th:only-of-type {\n",
              "        vertical-align: middle;\n",
              "    }\n",
              "\n",
              "    .dataframe tbody tr th {\n",
              "        vertical-align: top;\n",
              "    }\n",
              "\n",
              "    .dataframe thead th {\n",
              "        text-align: right;\n",
              "    }\n",
              "</style>\n",
              "<table border=\"1\" class=\"dataframe\">\n",
              "  <thead>\n",
              "    <tr style=\"text-align: right;\">\n",
              "      <th></th>\n",
              "      <th>amount_tsh</th>\n",
              "      <th>days_since_recorded</th>\n",
              "      <th>funder</th>\n",
              "      <th>installer</th>\n",
              "      <th>longitude</th>\n",
              "      <th>latitude</th>\n",
              "      <th>wpt_name</th>\n",
              "      <th>basin</th>\n",
              "      <th>region</th>\n",
              "      <th>lga</th>\n",
              "      <th>population</th>\n",
              "      <th>public_meeting</th>\n",
              "      <th>scheme_management</th>\n",
              "      <th>permit</th>\n",
              "      <th>construction_year</th>\n",
              "      <th>extraction_type_class</th>\n",
              "      <th>management_group</th>\n",
              "      <th>payment_type</th>\n",
              "      <th>water_quality</th>\n",
              "      <th>quantity</th>\n",
              "      <th>source_type</th>\n",
              "      <th>source_class</th>\n",
              "      <th>status_group</th>\n",
              "    </tr>\n",
              "    <tr>\n",
              "      <th>id</th>\n",
              "      <th></th>\n",
              "      <th></th>\n",
              "      <th></th>\n",
              "      <th></th>\n",
              "      <th></th>\n",
              "      <th></th>\n",
              "      <th></th>\n",
              "      <th></th>\n",
              "      <th></th>\n",
              "      <th></th>\n",
              "      <th></th>\n",
              "      <th></th>\n",
              "      <th></th>\n",
              "      <th></th>\n",
              "      <th></th>\n",
              "      <th></th>\n",
              "      <th></th>\n",
              "      <th></th>\n",
              "      <th></th>\n",
              "      <th></th>\n",
              "      <th></th>\n",
              "      <th></th>\n",
              "      <th></th>\n",
              "    </tr>\n",
              "  </thead>\n",
              "  <tbody>\n",
              "    <tr>\n",
              "      <th>67743</th>\n",
              "      <td>0.0</td>\n",
              "      <td>309</td>\n",
              "      <td>other</td>\n",
              "      <td>other</td>\n",
              "      <td>38.486161</td>\n",
              "      <td>-11.155298</td>\n",
              "      <td>Zahanati Ya Nanyumbu</td>\n",
              "      <td>Ruvuma / Southern Coast</td>\n",
              "      <td>Mtwara</td>\n",
              "      <td>Nanyumbu</td>\n",
              "      <td>58</td>\n",
              "      <td>True</td>\n",
              "      <td>vwc</td>\n",
              "      <td>True</td>\n",
              "      <td>80s</td>\n",
              "      <td>submersible</td>\n",
              "      <td>user-group</td>\n",
              "      <td>never pay</td>\n",
              "      <td>soft</td>\n",
              "      <td>dry</td>\n",
              "      <td>borehole</td>\n",
              "      <td>groundwater</td>\n",
              "      <td>non functional</td>\n",
              "    </tr>\n",
              "    <tr>\n",
              "      <th>19816</th>\n",
              "      <td>0.0</td>\n",
              "      <td>428</td>\n",
              "      <td>other</td>\n",
              "      <td>other</td>\n",
              "      <td>33.362410</td>\n",
              "      <td>-3.766365</td>\n",
              "      <td>Kwa Ngomho</td>\n",
              "      <td>Internal</td>\n",
              "      <td>Shinyanga</td>\n",
              "      <td>Shinyanga Rural</td>\n",
              "      <td>0</td>\n",
              "      <td>True</td>\n",
              "      <td>vwc</td>\n",
              "      <td>True</td>\n",
              "      <td>unknown</td>\n",
              "      <td>handpump</td>\n",
              "      <td>user-group</td>\n",
              "      <td>never pay</td>\n",
              "      <td>soft</td>\n",
              "      <td>enough</td>\n",
              "      <td>borehole</td>\n",
              "      <td>groundwater</td>\n",
              "      <td>non functional</td>\n",
              "    </tr>\n",
              "    <tr>\n",
              "      <th>54551</th>\n",
              "      <td>0.0</td>\n",
              "      <td>420</td>\n",
              "      <td>rwssp</td>\n",
              "      <td>dwe</td>\n",
              "      <td>32.620617</td>\n",
              "      <td>-4.226198</td>\n",
              "      <td>Tushirikiane</td>\n",
              "      <td>Lake Tanganyika</td>\n",
              "      <td>Shinyanga</td>\n",
              "      <td>Kahama</td>\n",
              "      <td>0</td>\n",
              "      <td>True</td>\n",
              "      <td>other</td>\n",
              "      <td>True</td>\n",
              "      <td>unknown</td>\n",
              "      <td>handpump</td>\n",
              "      <td>user-group</td>\n",
              "      <td>unknown</td>\n",
              "      <td>milky</td>\n",
              "      <td>enough</td>\n",
              "      <td>shallow well</td>\n",
              "      <td>groundwater</td>\n",
              "      <td>non functional</td>\n",
              "    </tr>\n",
              "    <tr>\n",
              "      <th>53934</th>\n",
              "      <td>0.0</td>\n",
              "      <td>395</td>\n",
              "      <td>other</td>\n",
              "      <td>other</td>\n",
              "      <td>32.711100</td>\n",
              "      <td>-5.146712</td>\n",
              "      <td>Kwa Ramadhan Musa</td>\n",
              "      <td>Lake Tanganyika</td>\n",
              "      <td>Tabora</td>\n",
              "      <td>Tabora Urban</td>\n",
              "      <td>0</td>\n",
              "      <td>True</td>\n",
              "      <td>vwc</td>\n",
              "      <td>True</td>\n",
              "      <td>unknown</td>\n",
              "      <td>handpump</td>\n",
              "      <td>user-group</td>\n",
              "      <td>never pay</td>\n",
              "      <td>salty</td>\n",
              "      <td>seasonal</td>\n",
              "      <td>borehole</td>\n",
              "      <td>groundwater</td>\n",
              "      <td>non functional</td>\n",
              "    </tr>\n",
              "    <tr>\n",
              "      <th>48451</th>\n",
              "      <td>500.0</td>\n",
              "      <td>883</td>\n",
              "      <td>other</td>\n",
              "      <td>dwe</td>\n",
              "      <td>34.642439</td>\n",
              "      <td>-9.106185</td>\n",
              "      <td>Kwa John Mtenzi</td>\n",
              "      <td>Rufiji</td>\n",
              "      <td>Iringa</td>\n",
              "      <td>Njombe</td>\n",
              "      <td>35</td>\n",
              "      <td>True</td>\n",
              "      <td>wua</td>\n",
              "      <td>True</td>\n",
              "      <td>70s</td>\n",
              "      <td>gravity</td>\n",
              "      <td>user-group</td>\n",
              "      <td>monthly</td>\n",
              "      <td>soft</td>\n",
              "      <td>dry</td>\n",
              "      <td>river/lake</td>\n",
              "      <td>surface</td>\n",
              "      <td>non functional</td>\n",
              "    </tr>\n",
              "  </tbody>\n",
              "</table>\n",
              "</div>\n",
              "      <button class=\"colab-df-convert\" onclick=\"convertToInteractive('df-c0382bd7-ba59-439e-9ea6-2ffada393692')\"\n",
              "              title=\"Convert this dataframe to an interactive table.\"\n",
              "              style=\"display:none;\">\n",
              "        \n",
              "  <svg xmlns=\"http://www.w3.org/2000/svg\" height=\"24px\"viewBox=\"0 0 24 24\"\n",
              "       width=\"24px\">\n",
              "    <path d=\"M0 0h24v24H0V0z\" fill=\"none\"/>\n",
              "    <path d=\"M18.56 5.44l.94 2.06.94-2.06 2.06-.94-2.06-.94-.94-2.06-.94 2.06-2.06.94zm-11 1L8.5 8.5l.94-2.06 2.06-.94-2.06-.94L8.5 2.5l-.94 2.06-2.06.94zm10 10l.94 2.06.94-2.06 2.06-.94-2.06-.94-.94-2.06-.94 2.06-2.06.94z\"/><path d=\"M17.41 7.96l-1.37-1.37c-.4-.4-.92-.59-1.43-.59-.52 0-1.04.2-1.43.59L10.3 9.45l-7.72 7.72c-.78.78-.78 2.05 0 2.83L4 21.41c.39.39.9.59 1.41.59.51 0 1.02-.2 1.41-.59l7.78-7.78 2.81-2.81c.8-.78.8-2.07 0-2.86zM5.41 20L4 18.59l7.72-7.72 1.47 1.35L5.41 20z\"/>\n",
              "  </svg>\n",
              "      </button>\n",
              "      \n",
              "  <style>\n",
              "    .colab-df-container {\n",
              "      display:flex;\n",
              "      flex-wrap:wrap;\n",
              "      gap: 12px;\n",
              "    }\n",
              "\n",
              "    .colab-df-convert {\n",
              "      background-color: #E8F0FE;\n",
              "      border: none;\n",
              "      border-radius: 50%;\n",
              "      cursor: pointer;\n",
              "      display: none;\n",
              "      fill: #1967D2;\n",
              "      height: 32px;\n",
              "      padding: 0 0 0 0;\n",
              "      width: 32px;\n",
              "    }\n",
              "\n",
              "    .colab-df-convert:hover {\n",
              "      background-color: #E2EBFA;\n",
              "      box-shadow: 0px 1px 2px rgba(60, 64, 67, 0.3), 0px 1px 3px 1px rgba(60, 64, 67, 0.15);\n",
              "      fill: #174EA6;\n",
              "    }\n",
              "\n",
              "    [theme=dark] .colab-df-convert {\n",
              "      background-color: #3B4455;\n",
              "      fill: #D2E3FC;\n",
              "    }\n",
              "\n",
              "    [theme=dark] .colab-df-convert:hover {\n",
              "      background-color: #434B5C;\n",
              "      box-shadow: 0px 1px 3px 1px rgba(0, 0, 0, 0.15);\n",
              "      filter: drop-shadow(0px 1px 2px rgba(0, 0, 0, 0.3));\n",
              "      fill: #FFFFFF;\n",
              "    }\n",
              "  </style>\n",
              "\n",
              "      <script>\n",
              "        const buttonEl =\n",
              "          document.querySelector('#df-c0382bd7-ba59-439e-9ea6-2ffada393692 button.colab-df-convert');\n",
              "        buttonEl.style.display =\n",
              "          google.colab.kernel.accessAllowed ? 'block' : 'none';\n",
              "\n",
              "        async function convertToInteractive(key) {\n",
              "          const element = document.querySelector('#df-c0382bd7-ba59-439e-9ea6-2ffada393692');\n",
              "          const dataTable =\n",
              "            await google.colab.kernel.invokeFunction('convertToInteractive',\n",
              "                                                     [key], {});\n",
              "          if (!dataTable) return;\n",
              "\n",
              "          const docLinkHtml = 'Like what you see? Visit the ' +\n",
              "            '<a target=\"_blank\" href=https://colab.research.google.com/notebooks/data_table.ipynb>data table notebook</a>'\n",
              "            + ' to learn more about interactive tables.';\n",
              "          element.innerHTML = '';\n",
              "          dataTable['output_type'] = 'display_data';\n",
              "          await google.colab.output.renderOutput(dataTable, element);\n",
              "          const docLink = document.createElement('div');\n",
              "          docLink.innerHTML = docLinkHtml;\n",
              "          element.appendChild(docLink);\n",
              "        }\n",
              "      </script>\n",
              "    </div>\n",
              "  </div>\n",
              "  "
            ]
          },
          "metadata": {},
          "execution_count": 135
        }
      ],
      "source": [
        "# Get a general outlook of cleaned train data\n",
        "train.head()"
      ]
    },
    {
      "cell_type": "code",
      "execution_count": 136,
      "metadata": {
        "colab": {
          "base_uri": "https://localhost:8080/"
        },
        "id": "xm9FOoN0yVkb",
        "outputId": "c34e270f-a7b9-4fa9-de6a-84d2eb4bd1af"
      },
      "outputs": [
        {
          "output_type": "execute_result",
          "data": {
            "text/plain": [
              "(27127, 23)"
            ]
          },
          "metadata": {},
          "execution_count": 136
        }
      ],
      "source": [
        "# get shape of cleaned train data\n",
        "train.shape"
      ]
    },
    {
      "cell_type": "markdown",
      "metadata": {
        "id": "mNjfpHMkyVkb"
      },
      "source": [
        "## 2.5. Exploratory Data Analysis (EDA)\n",
        "\n",
        "In trying to understand our data better, let's check for the distribution of the individual features in our dataset.\n",
        "\n",
        "Answer a few questions:\n",
        "\n",
        "1. What is the distribution of status of wells?\n",
        "2. Does location have an impact on well functionality?\n",
        "3. Does a water source, water quality and quantity affect functionality?\n",
        "4. What is the relationship between functionality and money spent?\n",
        "5. Does proximity to a waterpoint affect functionality?\n",
        "6. Does construction perios have an effect on functionality?\n",
        "\n",
        "\n",
        "\n"
      ]
    },
    {
      "cell_type": "markdown",
      "source": [
        "## 2.5.1 Distribution of well status"
      ],
      "metadata": {
        "id": "meLGXkefcmz4"
      }
    },
    {
      "cell_type": "code",
      "source": [
        "fig,ax = plt.subplots(figsize = (10,8))\n",
        "sns.countplot(data = train, x = 'status_group')\n",
        "ax.set_title('Distribution of wells')\n",
        "ax.set_xlabel('Well Status') \n",
        "ax.set_ylabel('Distribution');"
      ],
      "metadata": {
        "id": "5czGlj0xciYk",
        "outputId": "af0f58d9-7ed1-4190-fe95-068525b2266c",
        "colab": {
          "base_uri": "https://localhost:8080/",
          "height": 513
        }
      },
      "execution_count": 146,
      "outputs": [
        {
          "output_type": "display_data",
          "data": {
            "text/plain": [
              "<Figure size 720x576 with 1 Axes>"
            ],
            "image/png": "[encoded data removed]"
          },
          "metadata": {
            "needs_background": "light"
          }
        }
      ]
    },
    {
      "cell_type": "markdown",
      "source": [
        "- There are more non functiional wells that there are funtional wells that need repairs.\n",
        "- The data is imbalanced."
      ],
      "metadata": {
        "id": "uywX767TfkR1"
      }
    },
    {
      "cell_type": "markdown",
      "source": [
        "## 2.5.2 Location effect on functionality"
      ],
      "metadata": {
        "id": "pEfu_inefaQ_"
      }
    },
    {
      "cell_type": "code",
      "source": [
        "fig, ax = plt.subplots(figsize = (10,8))\n",
        "sns.scatterplot(data = train, x = 'longitude', y = 'latitude', hue = 'status_group' )\n",
        "ax.set_xlim(28,42)\n",
        "ax.set_title('Map of well distribution')\n",
        "ax.set_xlabel('longitude')\n",
        "ax.set_ylabel('latitude');"
      ],
      "metadata": {
        "id": "FNe_mhXyfZpq",
        "outputId": "2876ac55-95c4-4f38-e040-fc10c525e79a",
        "colab": {
          "base_uri": "https://localhost:8080/",
          "height": 513
        }
      },
      "execution_count": 157,
      "outputs": [
        {
          "output_type": "display_data",
          "data": {
            "text/plain": [
              "<Figure size 720x576 with 1 Axes>"
            ],
            "image/png": "[encoded data removed]"
          },
          "metadata": {
            "needs_background": "light"
          }
        }
      ]
    },
    {
      "cell_type": "markdown",
      "metadata": {
        "id": "XMq7mU6KyVkb"
      },
      "source": [
        "## 2.5.1 Relationship between functionality and money spent?"
      ]
    },
    {
      "cell_type": "code",
      "execution_count": 137,
      "metadata": {
        "colab": {
          "base_uri": "https://localhost:8080/",
          "height": 280
        },
        "id": "83C18OjByVkb",
        "outputId": "a4abc295-f27f-49e9-ff10-16e560214e46"
      },
      "outputs": [
        {
          "output_type": "display_data",
          "data": {
            "text/plain": [
              "<Figure size 432x288 with 1 Axes>"
            ],
            "image/png": "[encoded data removed]"
          },
          "metadata": {
            "needs_background": "light"
          }
        }
      ],
      "source": [
        "sns.barplot(data = train, x = 'amount_tsh', y = 'status_group')\n",
        "plt.show()"
      ]
    },
    {
      "cell_type": "markdown",
      "metadata": {
        "id": "pHMFEyLEyVkb"
      },
      "source": [
        "### Observation\n",
        "\n",
        "- Waterpumps that had high investments are all functional"
      ]
    },
    {
      "cell_type": "markdown",
      "metadata": {
        "id": "cAg6vMqAyVkb"
      },
      "source": [
        "## 2.5.2. Do all functional waterpoint have good quality water?"
      ]
    },
    {
      "cell_type": "code",
      "execution_count": 138,
      "metadata": {
        "colab": {
          "base_uri": "https://localhost:8080/",
          "height": 370
        },
        "id": "cENI9FZmyVkb",
        "outputId": "37448a06-3f32-4794-a634-d3600f252eec"
      },
      "outputs": [
        {
          "output_type": "error",
          "ename": "TypeError",
          "evalue": "ignored",
          "traceback": [
            "\u001b[0;31m---------------------------------------------------------------------------\u001b[0m",
            "\u001b[0;31mTypeError\u001b[0m                                 Traceback (most recent call last)",
            "\u001b[0;32m<ipython-input-138-e2735e38de9b>\u001b[0m in \u001b[0;36m<module>\u001b[0;34m\u001b[0m\n\u001b[1;32m      1\u001b[0m \u001b[0mplt\u001b[0m\u001b[0;34m.\u001b[0m\u001b[0mfigure\u001b[0m\u001b[0;34m(\u001b[0m\u001b[0mfigsize\u001b[0m \u001b[0;34m=\u001b[0m \u001b[0;34m(\u001b[0m\u001b[0;36m16\u001b[0m\u001b[0;34m,\u001b[0m \u001b[0;36m7\u001b[0m\u001b[0;34m)\u001b[0m\u001b[0;34m)\u001b[0m\u001b[0;34m\u001b[0m\u001b[0;34m\u001b[0m\u001b[0m\n\u001b[0;32m----> 2\u001b[0;31m \u001b[0msns\u001b[0m\u001b[0;34m.\u001b[0m\u001b[0mbarplot\u001b[0m\u001b[0;34m(\u001b[0m\u001b[0mdata\u001b[0m \u001b[0;34m=\u001b[0m \u001b[0mtrain\u001b[0m\u001b[0;34m,\u001b[0m \u001b[0mx\u001b[0m \u001b[0;34m=\u001b[0m \u001b[0;34m'water_quality'\u001b[0m\u001b[0;34m,\u001b[0m \u001b[0my\u001b[0m \u001b[0;34m=\u001b[0m \u001b[0;34m'status_group'\u001b[0m\u001b[0;34m)\u001b[0m\u001b[0;34m\u001b[0m\u001b[0;34m\u001b[0m\u001b[0m\n\u001b[0m\u001b[1;32m      3\u001b[0m \u001b[0mplt\u001b[0m\u001b[0;34m.\u001b[0m\u001b[0mshow\u001b[0m\u001b[0;34m(\u001b[0m\u001b[0;34m)\u001b[0m\u001b[0;34m\u001b[0m\u001b[0;34m\u001b[0m\u001b[0m\n",
            "\u001b[0;32m/usr/local/lib/python3.7/dist-packages/seaborn/_decorators.py\u001b[0m in \u001b[0;36minner_f\u001b[0;34m(*args, **kwargs)\u001b[0m\n\u001b[1;32m     44\u001b[0m             )\n\u001b[1;32m     45\u001b[0m         \u001b[0mkwargs\u001b[0m\u001b[0;34m.\u001b[0m\u001b[0mupdate\u001b[0m\u001b[0;34m(\u001b[0m\u001b[0;34m{\u001b[0m\u001b[0mk\u001b[0m\u001b[0;34m:\u001b[0m \u001b[0marg\u001b[0m \u001b[0;32mfor\u001b[0m \u001b[0mk\u001b[0m\u001b[0;34m,\u001b[0m \u001b[0marg\u001b[0m \u001b[0;32min\u001b[0m \u001b[0mzip\u001b[0m\u001b[0;34m(\u001b[0m\u001b[0msig\u001b[0m\u001b[0;34m.\u001b[0m\u001b[0mparameters\u001b[0m\u001b[0;34m,\u001b[0m \u001b[0margs\u001b[0m\u001b[0;34m)\u001b[0m\u001b[0;34m}\u001b[0m\u001b[0;34m)\u001b[0m\u001b[0;34m\u001b[0m\u001b[0;34m\u001b[0m\u001b[0m\n\u001b[0;32m---> 46\u001b[0;31m         \u001b[0;32mreturn\u001b[0m \u001b[0mf\u001b[0m\u001b[0;34m(\u001b[0m\u001b[0;34m**\u001b[0m\u001b[0mkwargs\u001b[0m\u001b[0;34m)\u001b[0m\u001b[0;34m\u001b[0m\u001b[0;34m\u001b[0m\u001b[0m\n\u001b[0m\u001b[1;32m     47\u001b[0m     \u001b[0;32mreturn\u001b[0m \u001b[0minner_f\u001b[0m\u001b[0;34m\u001b[0m\u001b[0;34m\u001b[0m\u001b[0m\n\u001b[1;32m     48\u001b[0m \u001b[0;34m\u001b[0m\u001b[0m\n",
            "\u001b[0;32m/usr/local/lib/python3.7/dist-packages/seaborn/categorical.py\u001b[0m in \u001b[0;36mbarplot\u001b[0;34m(x, y, hue, data, order, hue_order, estimator, ci, n_boot, units, seed, orient, color, palette, saturation, errcolor, errwidth, capsize, dodge, ax, **kwargs)\u001b[0m\n\u001b[1;32m   3183\u001b[0m                           \u001b[0mestimator\u001b[0m\u001b[0;34m,\u001b[0m \u001b[0mci\u001b[0m\u001b[0;34m,\u001b[0m \u001b[0mn_boot\u001b[0m\u001b[0;34m,\u001b[0m \u001b[0munits\u001b[0m\u001b[0;34m,\u001b[0m \u001b[0mseed\u001b[0m\u001b[0;34m,\u001b[0m\u001b[0;34m\u001b[0m\u001b[0;34m\u001b[0m\u001b[0m\n\u001b[1;32m   3184\u001b[0m                           \u001b[0morient\u001b[0m\u001b[0;34m,\u001b[0m \u001b[0mcolor\u001b[0m\u001b[0;34m,\u001b[0m \u001b[0mpalette\u001b[0m\u001b[0;34m,\u001b[0m \u001b[0msaturation\u001b[0m\u001b[0;34m,\u001b[0m\u001b[0;34m\u001b[0m\u001b[0;34m\u001b[0m\u001b[0m\n\u001b[0;32m-> 3185\u001b[0;31m                           errcolor, errwidth, capsize, dodge)\n\u001b[0m\u001b[1;32m   3186\u001b[0m \u001b[0;34m\u001b[0m\u001b[0m\n\u001b[1;32m   3187\u001b[0m     \u001b[0;32mif\u001b[0m \u001b[0max\u001b[0m \u001b[0;32mis\u001b[0m \u001b[0;32mNone\u001b[0m\u001b[0;34m:\u001b[0m\u001b[0;34m\u001b[0m\u001b[0;34m\u001b[0m\u001b[0m\n",
            "\u001b[0;32m/usr/local/lib/python3.7/dist-packages/seaborn/categorical.py\u001b[0m in \u001b[0;36m__init__\u001b[0;34m(self, x, y, hue, data, order, hue_order, estimator, ci, n_boot, units, seed, orient, color, palette, saturation, errcolor, errwidth, capsize, dodge)\u001b[0m\n\u001b[1;32m   1583\u001b[0m         \u001b[0;34m\"\"\"Initialize the plotter.\"\"\"\u001b[0m\u001b[0;34m\u001b[0m\u001b[0;34m\u001b[0m\u001b[0m\n\u001b[1;32m   1584\u001b[0m         self.establish_variables(x, y, hue, data, orient,\n\u001b[0;32m-> 1585\u001b[0;31m                                  order, hue_order, units)\n\u001b[0m\u001b[1;32m   1586\u001b[0m         \u001b[0mself\u001b[0m\u001b[0;34m.\u001b[0m\u001b[0mestablish_colors\u001b[0m\u001b[0;34m(\u001b[0m\u001b[0mcolor\u001b[0m\u001b[0;34m,\u001b[0m \u001b[0mpalette\u001b[0m\u001b[0;34m,\u001b[0m \u001b[0msaturation\u001b[0m\u001b[0;34m)\u001b[0m\u001b[0;34m\u001b[0m\u001b[0;34m\u001b[0m\u001b[0m\n\u001b[1;32m   1587\u001b[0m         \u001b[0mself\u001b[0m\u001b[0;34m.\u001b[0m\u001b[0mestimate_statistic\u001b[0m\u001b[0;34m(\u001b[0m\u001b[0mestimator\u001b[0m\u001b[0;34m,\u001b[0m \u001b[0mci\u001b[0m\u001b[0;34m,\u001b[0m \u001b[0mn_boot\u001b[0m\u001b[0;34m,\u001b[0m \u001b[0mseed\u001b[0m\u001b[0;34m)\u001b[0m\u001b[0;34m\u001b[0m\u001b[0;34m\u001b[0m\u001b[0m\n",
            "\u001b[0;32m/usr/local/lib/python3.7/dist-packages/seaborn/categorical.py\u001b[0m in \u001b[0;36mestablish_variables\u001b[0;34m(self, x, y, hue, data, orient, order, hue_order, units)\u001b[0m\n\u001b[1;32m    155\u001b[0m             \u001b[0;31m# Figure out the plotting orientation\u001b[0m\u001b[0;34m\u001b[0m\u001b[0;34m\u001b[0m\u001b[0;34m\u001b[0m\u001b[0m\n\u001b[1;32m    156\u001b[0m             orient = infer_orient(\n\u001b[0;32m--> 157\u001b[0;31m                 \u001b[0mx\u001b[0m\u001b[0;34m,\u001b[0m \u001b[0my\u001b[0m\u001b[0;34m,\u001b[0m \u001b[0morient\u001b[0m\u001b[0;34m,\u001b[0m \u001b[0mrequire_numeric\u001b[0m\u001b[0;34m=\u001b[0m\u001b[0mself\u001b[0m\u001b[0;34m.\u001b[0m\u001b[0mrequire_numeric\u001b[0m\u001b[0;34m\u001b[0m\u001b[0;34m\u001b[0m\u001b[0m\n\u001b[0m\u001b[1;32m    158\u001b[0m             )\n\u001b[1;32m    159\u001b[0m \u001b[0;34m\u001b[0m\u001b[0m\n",
            "\u001b[0;32m/usr/local/lib/python3.7/dist-packages/seaborn/_core.py\u001b[0m in \u001b[0;36minfer_orient\u001b[0;34m(x, y, orient, require_numeric)\u001b[0m\n\u001b[1;32m   1350\u001b[0m     \u001b[0;32melif\u001b[0m \u001b[0mrequire_numeric\u001b[0m \u001b[0;32mand\u001b[0m \u001b[0;34m\"numeric\"\u001b[0m \u001b[0;32mnot\u001b[0m \u001b[0;32min\u001b[0m \u001b[0;34m(\u001b[0m\u001b[0mx_type\u001b[0m\u001b[0;34m,\u001b[0m \u001b[0my_type\u001b[0m\u001b[0;34m)\u001b[0m\u001b[0;34m:\u001b[0m\u001b[0;34m\u001b[0m\u001b[0;34m\u001b[0m\u001b[0m\n\u001b[1;32m   1351\u001b[0m         \u001b[0merr\u001b[0m \u001b[0;34m=\u001b[0m \u001b[0;34m\"Neither the `x` nor `y` variable appears to be numeric.\"\u001b[0m\u001b[0;34m\u001b[0m\u001b[0;34m\u001b[0m\u001b[0m\n\u001b[0;32m-> 1352\u001b[0;31m         \u001b[0;32mraise\u001b[0m \u001b[0mTypeError\u001b[0m\u001b[0;34m(\u001b[0m\u001b[0merr\u001b[0m\u001b[0;34m)\u001b[0m\u001b[0;34m\u001b[0m\u001b[0;34m\u001b[0m\u001b[0m\n\u001b[0m\u001b[1;32m   1353\u001b[0m \u001b[0;34m\u001b[0m\u001b[0m\n\u001b[1;32m   1354\u001b[0m     \u001b[0;32melse\u001b[0m\u001b[0;34m:\u001b[0m\u001b[0;34m\u001b[0m\u001b[0;34m\u001b[0m\u001b[0m\n",
            "\u001b[0;31mTypeError\u001b[0m: Neither the `x` nor `y` variable appears to be numeric."
          ]
        },
        {
          "output_type": "display_data",
          "data": {
            "text/plain": [
              "<Figure size 1152x504 with 0 Axes>"
            ]
          },
          "metadata": {}
        }
      ],
      "source": []
    },
    {
      "cell_type": "markdown",
      "metadata": {
        "id": "MoShi0M-yVkb"
      },
      "source": [
        "- There is a mixture of different water qualities amongst the functional wells\n",
        "- I will check to see the distribution of the water qualities"
      ]
    },
    {
      "cell_type": "code",
      "execution_count": null,
      "metadata": {
        "colab": {
          "base_uri": "https://localhost:8080/",
          "height": 388
        },
        "id": "hK_t7iGdyVkc",
        "outputId": "41c1e746-f542-4ad1-b053-c3945edacdb6"
      },
      "outputs": [
        {
          "output_type": "display_data",
          "data": {
            "text/plain": [
              "<Figure size 576x432 with 1 Axes>"
            ],
            "image/png": "[encoded data removed]"
          },
          "metadata": {
            "needs_background": "light"
          }
        }
      ],
      "source": [
        "fig, ax = plt.subplots(figsize = (8,6))\n",
        "\n",
        "sns.countplot(data = train, y = 'water_quality', hue = 'status_group')\n",
        "plt.show()"
      ]
    },
    {
      "cell_type": "markdown",
      "metadata": {
        "id": "VuNKEJwCyVkc"
      },
      "source": [
        "- Most of the fuctional wells have soft water"
      ]
    },
    {
      "cell_type": "markdown",
      "metadata": {
        "id": "i2vAMH_6yVkc"
      },
      "source": [
        "## 2.5.3.  Ranking of the status of the waterpoints?"
      ]
    },
    {
      "cell_type": "code",
      "execution_count": null,
      "metadata": {
        "colab": {
          "base_uri": "https://localhost:8080/",
          "height": 280
        },
        "id": "KqH0BBC-yVkc",
        "outputId": "26c880d9-5d26-4ed8-9e7c-7e7c188623e5"
      },
      "outputs": [
        {
          "output_type": "display_data",
          "data": {
            "text/plain": [
              "<Figure size 432x288 with 1 Axes>"
            ],
            "image/png": "[encoded data removed]"
          },
          "metadata": {}
        }
      ],
      "source": [
        "# Ranking of the status of the waterpoints\n",
        "sns.set_style(\"darkgrid\");\n",
        "sns.set_color_codes(palette = 'bright');\n",
        "sns.countplot(x = train['status_group'], color = 'b');"
      ]
    },
    {
      "cell_type": "markdown",
      "metadata": {
        "id": "bx5g67NFyVkc"
      },
      "source": [
        "### Observation\n",
        "- There are more functional waterpoints which is great\n",
        "- There are more non functional waterpoints than functional ones that need repair"
      ]
    },
    {
      "cell_type": "markdown",
      "metadata": {
        "id": "wkqptMpyyVkc"
      },
      "source": [
        "## 2.5.4. What is the status of waterpumps with different extraction types?"
      ]
    },
    {
      "cell_type": "code",
      "execution_count": null,
      "metadata": {
        "colab": {
          "base_uri": "https://localhost:8080/",
          "height": 517
        },
        "id": "HclD8AwVyVkc",
        "outputId": "72088428-6236-420b-9fb3-937c5197037f"
      },
      "outputs": [
        {
          "output_type": "display_data",
          "data": {
            "text/html": [
              "<html>\n",
              "<head><meta charset=\"utf-8\" /></head>\n",
              "<body>\n",
              "    <div>            <script src=\"https://cdnjs.cloudflare.com/ajax/libs/mathjax/2.7.5/MathJax.js?config=TeX-AMS-MML_SVG\"></script><script type=\"text/javascript\">if (window.MathJax) {MathJax.Hub.Config({SVG: {font: \"STIX-Web\"}});}</script>                <script type=\"text/javascript\">window.PlotlyConfig = {MathJaxConfig: 'local'};</script>\n",
              "        <script src=\"https://cdn.plot.ly/plotly-2.8.3.min.js\"></script>                <div id=\"46ae70b2-81af-4d1b-8054-b5feafcc8aa8\" class=\"plotly-graph-div\" style=\"height:500px; width:1000px;\"></div>            <script type=\"text/javascript\">                                    window.PLOTLYENV=window.PLOTLYENV || {};                                    if (document.getElementById(\"46ae70b2-81af-4d1b-8054-b5feafcc8aa8\")) {                    Plotly.newPlot(                        \"46ae70b2-81af-4d1b-8054-b5feafcc8aa8\",                        [{\"alignmentgroup\":\"True\",\"hovertemplate\":\"status_group=functional<br>extraction_type_class=%{x}<br>permit=%{y}<extra></extra>\",\"legendgroup\":\"functional\",\"marker\":{\"color\":\"#636efa\",\"pattern\":{\"shape\":\"\"}},\"name\":\"functional\",\"offsetgroup\":\"functional\",\"orientation\":\"v\",\"showlegend\":true,\"textposition\":\"auto\",\"x\":[\"gravity\",\"handpump\",\"motorpump\",\"other\",\"rope pump\",\"submersible\",\"wind-powered\"],\"xaxis\":\"x\",\"y\":[16048,10375,1135,1029,293,3329,50],\"yaxis\":\"y\",\"type\":\"bar\"},{\"alignmentgroup\":\"True\",\"hovertemplate\":\"status_group=functional needs repair<br>extraction_type_class=%{x}<br>permit=%{y}<extra></extra>\",\"legendgroup\":\"functional needs repair\",\"marker\":{\"color\":\"#EF553B\",\"pattern\":{\"shape\":\"\"}},\"name\":\"functional needs repair\",\"offsetgroup\":\"functional needs repair\",\"orientation\":\"v\",\"showlegend\":true,\"textposition\":\"auto\",\"x\":[\"gravity\",\"handpump\",\"motorpump\",\"other\",\"rope pump\",\"submersible\",\"wind-powered\"],\"xaxis\":\"x\",\"y\":[2701,995,138,206,17,253,7],\"yaxis\":\"y\",\"type\":\"bar\"},{\"alignmentgroup\":\"True\",\"hovertemplate\":\"status_group=non functional<br>extraction_type_class=%{x}<br>permit=%{y}<extra></extra>\",\"legendgroup\":\"non functional\",\"marker\":{\"color\":\"#00cc96\",\"pattern\":{\"shape\":\"\"}},\"name\":\"non functional\",\"offsetgroup\":\"non functional\",\"orientation\":\"v\",\"showlegend\":true,\"textposition\":\"auto\",\"x\":[\"gravity\",\"handpump\",\"motorpump\",\"other\",\"rope pump\",\"submersible\",\"wind-powered\"],\"xaxis\":\"x\",\"y\":[8031,5086,1714,5195,141,2597,60],\"yaxis\":\"y\",\"type\":\"bar\"}],                        {\"template\":{\"data\":{\"bar\":[{\"error_x\":{\"color\":\"#2a3f5f\"},\"error_y\":{\"color\":\"#2a3f5f\"},\"marker\":{\"line\":{\"color\":\"#E5ECF6\",\"width\":0.5},\"pattern\":{\"fillmode\":\"overlay\",\"size\":10,\"solidity\":0.2}},\"type\":\"bar\"}],\"barpolar\":[{\"marker\":{\"line\":{\"color\":\"#E5ECF6\",\"width\":0.5},\"pattern\":{\"fillmode\":\"overlay\",\"size\":10,\"solidity\":0.2}},\"type\":\"barpolar\"}],\"carpet\":[{\"aaxis\":{\"endlinecolor\":\"#2a3f5f\",\"gridcolor\":\"white\",\"linecolor\":\"white\",\"minorgridcolor\":\"white\",\"startlinecolor\":\"#2a3f5f\"},\"baxis\":{\"endlinecolor\":\"#2a3f5f\",\"gridcolor\":\"white\",\"linecolor\":\"white\",\"minorgridcolor\":\"white\",\"startlinecolor\":\"#2a3f5f\"},\"type\":\"carpet\"}],\"choropleth\":[{\"colorbar\":{\"outlinewidth\":0,\"ticks\":\"\"},\"type\":\"choropleth\"}],\"contour\":[{\"colorbar\":{\"outlinewidth\":0,\"ticks\":\"\"},\"colorscale\":[[0.0,\"#0d0887\"],[0.1111111111111111,\"#46039f\"],[0.2222222222222222,\"#7201a8\"],[0.3333333333333333,\"#9c179e\"],[0.4444444444444444,\"#bd3786\"],[0.5555555555555556,\"#d8576b\"],[0.6666666666666666,\"#ed7953\"],[0.7777777777777778,\"#fb9f3a\"],[0.8888888888888888,\"#fdca26\"],[1.0,\"#f0f921\"]],\"type\":\"contour\"}],\"contourcarpet\":[{\"colorbar\":{\"outlinewidth\":0,\"ticks\":\"\"},\"type\":\"contourcarpet\"}],\"heatmap\":[{\"colorbar\":{\"outlinewidth\":0,\"ticks\":\"\"},\"colorscale\":[[0.0,\"#0d0887\"],[0.1111111111111111,\"#46039f\"],[0.2222222222222222,\"#7201a8\"],[0.3333333333333333,\"#9c179e\"],[0.4444444444444444,\"#bd3786\"],[0.5555555555555556,\"#d8576b\"],[0.6666666666666666,\"#ed7953\"],[0.7777777777777778,\"#fb9f3a\"],[0.8888888888888888,\"#fdca26\"],[1.0,\"#f0f921\"]],\"type\":\"heatmap\"}],\"heatmapgl\":[{\"colorbar\":{\"outlinewidth\":0,\"ticks\":\"\"},\"colorscale\":[[0.0,\"#0d0887\"],[0.1111111111111111,\"#46039f\"],[0.2222222222222222,\"#7201a8\"],[0.3333333333333333,\"#9c179e\"],[0.4444444444444444,\"#bd3786\"],[0.5555555555555556,\"#d8576b\"],[0.6666666666666666,\"#ed7953\"],[0.7777777777777778,\"#fb9f3a\"],[0.8888888888888888,\"#fdca26\"],[1.0,\"#f0f921\"]],\"type\":\"heatmapgl\"}],\"histogram\":[{\"marker\":{\"pattern\":{\"fillmode\":\"overlay\",\"size\":10,\"solidity\":0.2}},\"type\":\"histogram\"}],\"histogram2d\":[{\"colorbar\":{\"outlinewidth\":0,\"ticks\":\"\"},\"colorscale\":[[0.0,\"#0d0887\"],[0.1111111111111111,\"#46039f\"],[0.2222222222222222,\"#7201a8\"],[0.3333333333333333,\"#9c179e\"],[0.4444444444444444,\"#bd3786\"],[0.5555555555555556,\"#d8576b\"],[0.6666666666666666,\"#ed7953\"],[0.7777777777777778,\"#fb9f3a\"],[0.8888888888888888,\"#fdca26\"],[1.0,\"#f0f921\"]],\"type\":\"histogram2d\"}],\"histogram2dcontour\":[{\"colorbar\":{\"outlinewidth\":0,\"ticks\":\"\"},\"colorscale\":[[0.0,\"#0d0887\"],[0.1111111111111111,\"#46039f\"],[0.2222222222222222,\"#7201a8\"],[0.3333333333333333,\"#9c179e\"],[0.4444444444444444,\"#bd3786\"],[0.5555555555555556,\"#d8576b\"],[0.6666666666666666,\"#ed7953\"],[0.7777777777777778,\"#fb9f3a\"],[0.8888888888888888,\"#fdca26\"],[1.0,\"#f0f921\"]],\"type\":\"histogram2dcontour\"}],\"mesh3d\":[{\"colorbar\":{\"outlinewidth\":0,\"ticks\":\"\"},\"type\":\"mesh3d\"}],\"parcoords\":[{\"line\":{\"colorbar\":{\"outlinewidth\":0,\"ticks\":\"\"}},\"type\":\"parcoords\"}],\"pie\":[{\"automargin\":true,\"type\":\"pie\"}],\"scatter\":[{\"marker\":{\"colorbar\":{\"outlinewidth\":0,\"ticks\":\"\"}},\"type\":\"scatter\"}],\"scatter3d\":[{\"line\":{\"colorbar\":{\"outlinewidth\":0,\"ticks\":\"\"}},\"marker\":{\"colorbar\":{\"outlinewidth\":0,\"ticks\":\"\"}},\"type\":\"scatter3d\"}],\"scattercarpet\":[{\"marker\":{\"colorbar\":{\"outlinewidth\":0,\"ticks\":\"\"}},\"type\":\"scattercarpet\"}],\"scattergeo\":[{\"marker\":{\"colorbar\":{\"outlinewidth\":0,\"ticks\":\"\"}},\"type\":\"scattergeo\"}],\"scattergl\":[{\"marker\":{\"colorbar\":{\"outlinewidth\":0,\"ticks\":\"\"}},\"type\":\"scattergl\"}],\"scattermapbox\":[{\"marker\":{\"colorbar\":{\"outlinewidth\":0,\"ticks\":\"\"}},\"type\":\"scattermapbox\"}],\"scatterpolar\":[{\"marker\":{\"colorbar\":{\"outlinewidth\":0,\"ticks\":\"\"}},\"type\":\"scatterpolar\"}],\"scatterpolargl\":[{\"marker\":{\"colorbar\":{\"outlinewidth\":0,\"ticks\":\"\"}},\"type\":\"scatterpolargl\"}],\"scatterternary\":[{\"marker\":{\"colorbar\":{\"outlinewidth\":0,\"ticks\":\"\"}},\"type\":\"scatterternary\"}],\"surface\":[{\"colorbar\":{\"outlinewidth\":0,\"ticks\":\"\"},\"colorscale\":[[0.0,\"#0d0887\"],[0.1111111111111111,\"#46039f\"],[0.2222222222222222,\"#7201a8\"],[0.3333333333333333,\"#9c179e\"],[0.4444444444444444,\"#bd3786\"],[0.5555555555555556,\"#d8576b\"],[0.6666666666666666,\"#ed7953\"],[0.7777777777777778,\"#fb9f3a\"],[0.8888888888888888,\"#fdca26\"],[1.0,\"#f0f921\"]],\"type\":\"surface\"}],\"table\":[{\"cells\":{\"fill\":{\"color\":\"#EBF0F8\"},\"line\":{\"color\":\"white\"}},\"header\":{\"fill\":{\"color\":\"#C8D4E3\"},\"line\":{\"color\":\"white\"}},\"type\":\"table\"}]},\"layout\":{\"annotationdefaults\":{\"arrowcolor\":\"#2a3f5f\",\"arrowhead\":0,\"arrowwidth\":1},\"autotypenumbers\":\"strict\",\"coloraxis\":{\"colorbar\":{\"outlinewidth\":0,\"ticks\":\"\"}},\"colorscale\":{\"diverging\":[[0,\"#8e0152\"],[0.1,\"#c51b7d\"],[0.2,\"#de77ae\"],[0.3,\"#f1b6da\"],[0.4,\"#fde0ef\"],[0.5,\"#f7f7f7\"],[0.6,\"#e6f5d0\"],[0.7,\"#b8e186\"],[0.8,\"#7fbc41\"],[0.9,\"#4d9221\"],[1,\"#276419\"]],\"sequential\":[[0.0,\"#0d0887\"],[0.1111111111111111,\"#46039f\"],[0.2222222222222222,\"#7201a8\"],[0.3333333333333333,\"#9c179e\"],[0.4444444444444444,\"#bd3786\"],[0.5555555555555556,\"#d8576b\"],[0.6666666666666666,\"#ed7953\"],[0.7777777777777778,\"#fb9f3a\"],[0.8888888888888888,\"#fdca26\"],[1.0,\"#f0f921\"]],\"sequentialminus\":[[0.0,\"#0d0887\"],[0.1111111111111111,\"#46039f\"],[0.2222222222222222,\"#7201a8\"],[0.3333333333333333,\"#9c179e\"],[0.4444444444444444,\"#bd3786\"],[0.5555555555555556,\"#d8576b\"],[0.6666666666666666,\"#ed7953\"],[0.7777777777777778,\"#fb9f3a\"],[0.8888888888888888,\"#fdca26\"],[1.0,\"#f0f921\"]]},\"colorway\":[\"#636efa\",\"#EF553B\",\"#00cc96\",\"#ab63fa\",\"#FFA15A\",\"#19d3f3\",\"#FF6692\",\"#B6E880\",\"#FF97FF\",\"#FECB52\"],\"font\":{\"color\":\"#2a3f5f\"},\"geo\":{\"bgcolor\":\"white\",\"lakecolor\":\"white\",\"landcolor\":\"#E5ECF6\",\"showlakes\":true,\"showland\":true,\"subunitcolor\":\"white\"},\"hoverlabel\":{\"align\":\"left\"},\"hovermode\":\"closest\",\"mapbox\":{\"style\":\"light\"},\"paper_bgcolor\":\"white\",\"plot_bgcolor\":\"#E5ECF6\",\"polar\":{\"angularaxis\":{\"gridcolor\":\"white\",\"linecolor\":\"white\",\"ticks\":\"\"},\"bgcolor\":\"#E5ECF6\",\"radialaxis\":{\"gridcolor\":\"white\",\"linecolor\":\"white\",\"ticks\":\"\"}},\"scene\":{\"xaxis\":{\"backgroundcolor\":\"#E5ECF6\",\"gridcolor\":\"white\",\"gridwidth\":2,\"linecolor\":\"white\",\"showbackground\":true,\"ticks\":\"\",\"zerolinecolor\":\"white\"},\"yaxis\":{\"backgroundcolor\":\"#E5ECF6\",\"gridcolor\":\"white\",\"gridwidth\":2,\"linecolor\":\"white\",\"showbackground\":true,\"ticks\":\"\",\"zerolinecolor\":\"white\"},\"zaxis\":{\"backgroundcolor\":\"#E5ECF6\",\"gridcolor\":\"white\",\"gridwidth\":2,\"linecolor\":\"white\",\"showbackground\":true,\"ticks\":\"\",\"zerolinecolor\":\"white\"}},\"shapedefaults\":{\"line\":{\"color\":\"#2a3f5f\"}},\"ternary\":{\"aaxis\":{\"gridcolor\":\"white\",\"linecolor\":\"white\",\"ticks\":\"\"},\"baxis\":{\"gridcolor\":\"white\",\"linecolor\":\"white\",\"ticks\":\"\"},\"bgcolor\":\"#E5ECF6\",\"caxis\":{\"gridcolor\":\"white\",\"linecolor\":\"white\",\"ticks\":\"\"}},\"title\":{\"x\":0.05},\"xaxis\":{\"automargin\":true,\"gridcolor\":\"white\",\"linecolor\":\"white\",\"ticks\":\"\",\"title\":{\"standoff\":15},\"zerolinecolor\":\"white\",\"zerolinewidth\":2},\"yaxis\":{\"automargin\":true,\"gridcolor\":\"white\",\"linecolor\":\"white\",\"ticks\":\"\",\"title\":{\"standoff\":15},\"zerolinecolor\":\"white\",\"zerolinewidth\":2}}},\"xaxis\":{\"anchor\":\"y\",\"domain\":[0.0,1.0],\"title\":{\"text\":\"extraction_type_class\"}},\"yaxis\":{\"anchor\":\"x\",\"domain\":[0.0,1.0],\"title\":{\"text\":\"permit\"}},\"legend\":{\"title\":{\"text\":\"status_group\"},\"tracegroupgap\":0},\"title\":{\"text\":\"Distribution of waterpumps\"},\"barmode\":\"relative\",\"height\":500,\"width\":1000},                        {\"responsive\": true}                    ).then(function(){\n",
              "                            \n",
              "var gd = document.getElementById('46ae70b2-81af-4d1b-8054-b5feafcc8aa8');\n",
              "var x = new MutationObserver(function (mutations, observer) {{\n",
              "        var display = window.getComputedStyle(gd).display;\n",
              "        if (!display || display === 'none') {{\n",
              "            console.log([gd, 'removed!']);\n",
              "            Plotly.purge(gd);\n",
              "            observer.disconnect();\n",
              "        }}\n",
              "}});\n",
              "\n",
              "// Listen for the removal of the full notebook cells\n",
              "var notebookContainer = gd.closest('#notebook-container');\n",
              "if (notebookContainer) {{\n",
              "    x.observe(notebookContainer, {childList: true});\n",
              "}}\n",
              "\n",
              "// Listen for the clearing of the current output cell\n",
              "var outputEl = gd.closest('.output');\n",
              "if (outputEl) {{\n",
              "    x.observe(outputEl, {childList: true});\n",
              "}}\n",
              "\n",
              "                        })                };                            </script>        </div>\n",
              "</body>\n",
              "</html>"
            ]
          },
          "metadata": {}
        }
      ],
      "source": [
        "# Status group of different extraction types\n",
        "df = train.groupby(['extraction_type_class', 'status_group']).count()['permit'].head(200).reset_index()\n",
        "\n",
        "\n",
        "fig = px.bar(df, x = \"extraction_type_class\", y = \"permit\",color = \"status_group\", \n",
        "             title=\"Distribution of waterpumps\", width=1000, height=500)\n",
        "\n",
        "fig.show()\n",
        "\n",
        "del df"
      ]
    },
    {
      "cell_type": "markdown",
      "metadata": {
        "id": "A_FUHmT6yVkc"
      },
      "source": [
        "### Observation\n",
        "- Waterpumps relying on gravity and handpump are the most functional.\n",
        "- Technologocally advanced waterpumps seem to have more non functionals e.g. motorpump\n",
        "- It would be a great idea to explore if fuel shortage could be a causal factor. "
      ]
    },
    {
      "cell_type": "markdown",
      "metadata": {
        "id": "Uizr70qWyVkc"
      },
      "source": [
        "## 2.5.5. What is the distribution of the status of waterpumps across regions?"
      ]
    },
    {
      "cell_type": "code",
      "execution_count": null,
      "metadata": {
        "colab": {
          "base_uri": "https://localhost:8080/",
          "height": 517
        },
        "id": "oQWbyFJryVkc",
        "outputId": "2b2f0246-e687-4404-e604-ab3600f81069"
      },
      "outputs": [
        {
          "output_type": "display_data",
          "data": {
            "text/html": [
              "<html>\n",
              "<head><meta charset=\"utf-8\" /></head>\n",
              "<body>\n",
              "    <div>            <script src=\"https://cdnjs.cloudflare.com/ajax/libs/mathjax/2.7.5/MathJax.js?config=TeX-AMS-MML_SVG\"></script><script type=\"text/javascript\">if (window.MathJax) {MathJax.Hub.Config({SVG: {font: \"STIX-Web\"}});}</script>                <script type=\"text/javascript\">window.PlotlyConfig = {MathJaxConfig: 'local'};</script>\n",
              "        <script src=\"https://cdn.plot.ly/plotly-2.8.3.min.js\"></script>                <div id=\"271758bb-1962-4b04-8487-76d5d798a14b\" class=\"plotly-graph-div\" style=\"height:500px; width:1000px;\"></div>            <script type=\"text/javascript\">                                    window.PLOTLYENV=window.PLOTLYENV || {};                                    if (document.getElementById(\"271758bb-1962-4b04-8487-76d5d798a14b\")) {                    Plotly.newPlot(                        \"271758bb-1962-4b04-8487-76d5d798a14b\",                        [{\"alignmentgroup\":\"True\",\"hovertemplate\":\"status_group=functional<br>region=%{x}<br>permit=%{y}<extra></extra>\",\"legendgroup\":\"functional\",\"marker\":{\"color\":\"#636efa\",\"pattern\":{\"shape\":\"\"}},\"name\":\"functional\",\"offsetgroup\":\"functional\",\"orientation\":\"v\",\"showlegend\":true,\"textposition\":\"auto\",\"x\":[\"Arusha\",\"Dar es Salaam\",\"Dodoma\",\"Iringa\",\"Kagera\",\"Kigoma\",\"Kilimanjaro\",\"Lindi\",\"Manyara\",\"Mara\",\"Mbeya\",\"Morogoro\",\"Mtwara\",\"Mwanza\",\"Pwani\",\"Rukwa\",\"Ruvuma\",\"Shinyanga\",\"Singida\",\"Tabora\",\"Tanga\"],\"xaxis\":\"x\",\"y\":[2294,461,1009,4141,1727,1363,2640,460,987,886,2319,2119,524,1502,1556,707,1480,2789,1011,848,1436],\"yaxis\":\"y\",\"type\":\"bar\"},{\"alignmentgroup\":\"True\",\"hovertemplate\":\"status_group=functional needs repair<br>region=%{x}<br>permit=%{y}<extra></extra>\",\"legendgroup\":\"functional needs repair\",\"marker\":{\"color\":\"#EF553B\",\"pattern\":{\"shape\":\"\"}},\"name\":\"functional needs repair\",\"offsetgroup\":\"functional needs repair\",\"orientation\":\"v\",\"showlegend\":true,\"textposition\":\"auto\",\"x\":[\"Arusha\",\"Dar es Salaam\",\"Dodoma\",\"Iringa\",\"Kagera\",\"Kigoma\",\"Kilimanjaro\",\"Lindi\",\"Manyara\",\"Mara\",\"Mbeya\",\"Morogoro\",\"Mtwara\",\"Mwanza\",\"Pwani\",\"Rukwa\",\"Ruvuma\",\"Shinyanga\",\"Singida\",\"Tabora\",\"Tanga\"],\"xaxis\":\"x\",\"y\":[175,3,209,123,304,603,322,93,96,60,504,300,126,183,36,135,164,635,128,45,73],\"yaxis\":\"y\",\"type\":\"bar\"},{\"alignmentgroup\":\"True\",\"hovertemplate\":\"status_group=non functional<br>region=%{x}<br>permit=%{y}<extra></extra>\",\"legendgroup\":\"non functional\",\"marker\":{\"color\":\"#00cc96\",\"pattern\":{\"shape\":\"\"}},\"name\":\"non functional\",\"offsetgroup\":\"non functional\",\"orientation\":\"v\",\"showlegend\":true,\"textposition\":\"auto\",\"x\":[\"Arusha\",\"Dar es Salaam\",\"Dodoma\",\"Iringa\",\"Kagera\",\"Kigoma\",\"Kilimanjaro\",\"Lindi\",\"Manyara\",\"Mara\",\"Mbeya\",\"Morogoro\",\"Mtwara\",\"Mwanza\",\"Pwani\",\"Rukwa\",\"Ruvuma\",\"Shinyanga\",\"Singida\",\"Tabora\",\"Tanga\"],\"xaxis\":\"x\",\"y\":[881,341,983,1030,1285,850,1417,993,500,1023,1816,1587,1080,1417,1043,966,996,1558,954,1066,1038],\"yaxis\":\"y\",\"type\":\"bar\"}],                        {\"template\":{\"data\":{\"bar\":[{\"error_x\":{\"color\":\"#2a3f5f\"},\"error_y\":{\"color\":\"#2a3f5f\"},\"marker\":{\"line\":{\"color\":\"#E5ECF6\",\"width\":0.5},\"pattern\":{\"fillmode\":\"overlay\",\"size\":10,\"solidity\":0.2}},\"type\":\"bar\"}],\"barpolar\":[{\"marker\":{\"line\":{\"color\":\"#E5ECF6\",\"width\":0.5},\"pattern\":{\"fillmode\":\"overlay\",\"size\":10,\"solidity\":0.2}},\"type\":\"barpolar\"}],\"carpet\":[{\"aaxis\":{\"endlinecolor\":\"#2a3f5f\",\"gridcolor\":\"white\",\"linecolor\":\"white\",\"minorgridcolor\":\"white\",\"startlinecolor\":\"#2a3f5f\"},\"baxis\":{\"endlinecolor\":\"#2a3f5f\",\"gridcolor\":\"white\",\"linecolor\":\"white\",\"minorgridcolor\":\"white\",\"startlinecolor\":\"#2a3f5f\"},\"type\":\"carpet\"}],\"choropleth\":[{\"colorbar\":{\"outlinewidth\":0,\"ticks\":\"\"},\"type\":\"choropleth\"}],\"contour\":[{\"colorbar\":{\"outlinewidth\":0,\"ticks\":\"\"},\"colorscale\":[[0.0,\"#0d0887\"],[0.1111111111111111,\"#46039f\"],[0.2222222222222222,\"#7201a8\"],[0.3333333333333333,\"#9c179e\"],[0.4444444444444444,\"#bd3786\"],[0.5555555555555556,\"#d8576b\"],[0.6666666666666666,\"#ed7953\"],[0.7777777777777778,\"#fb9f3a\"],[0.8888888888888888,\"#fdca26\"],[1.0,\"#f0f921\"]],\"type\":\"contour\"}],\"contourcarpet\":[{\"colorbar\":{\"outlinewidth\":0,\"ticks\":\"\"},\"type\":\"contourcarpet\"}],\"heatmap\":[{\"colorbar\":{\"outlinewidth\":0,\"ticks\":\"\"},\"colorscale\":[[0.0,\"#0d0887\"],[0.1111111111111111,\"#46039f\"],[0.2222222222222222,\"#7201a8\"],[0.3333333333333333,\"#9c179e\"],[0.4444444444444444,\"#bd3786\"],[0.5555555555555556,\"#d8576b\"],[0.6666666666666666,\"#ed7953\"],[0.7777777777777778,\"#fb9f3a\"],[0.8888888888888888,\"#fdca26\"],[1.0,\"#f0f921\"]],\"type\":\"heatmap\"}],\"heatmapgl\":[{\"colorbar\":{\"outlinewidth\":0,\"ticks\":\"\"},\"colorscale\":[[0.0,\"#0d0887\"],[0.1111111111111111,\"#46039f\"],[0.2222222222222222,\"#7201a8\"],[0.3333333333333333,\"#9c179e\"],[0.4444444444444444,\"#bd3786\"],[0.5555555555555556,\"#d8576b\"],[0.6666666666666666,\"#ed7953\"],[0.7777777777777778,\"#fb9f3a\"],[0.8888888888888888,\"#fdca26\"],[1.0,\"#f0f921\"]],\"type\":\"heatmapgl\"}],\"histogram\":[{\"marker\":{\"pattern\":{\"fillmode\":\"overlay\",\"size\":10,\"solidity\":0.2}},\"type\":\"histogram\"}],\"histogram2d\":[{\"colorbar\":{\"outlinewidth\":0,\"ticks\":\"\"},\"colorscale\":[[0.0,\"#0d0887\"],[0.1111111111111111,\"#46039f\"],[0.2222222222222222,\"#7201a8\"],[0.3333333333333333,\"#9c179e\"],[0.4444444444444444,\"#bd3786\"],[0.5555555555555556,\"#d8576b\"],[0.6666666666666666,\"#ed7953\"],[0.7777777777777778,\"#fb9f3a\"],[0.8888888888888888,\"#fdca26\"],[1.0,\"#f0f921\"]],\"type\":\"histogram2d\"}],\"histogram2dcontour\":[{\"colorbar\":{\"outlinewidth\":0,\"ticks\":\"\"},\"colorscale\":[[0.0,\"#0d0887\"],[0.1111111111111111,\"#46039f\"],[0.2222222222222222,\"#7201a8\"],[0.3333333333333333,\"#9c179e\"],[0.4444444444444444,\"#bd3786\"],[0.5555555555555556,\"#d8576b\"],[0.6666666666666666,\"#ed7953\"],[0.7777777777777778,\"#fb9f3a\"],[0.8888888888888888,\"#fdca26\"],[1.0,\"#f0f921\"]],\"type\":\"histogram2dcontour\"}],\"mesh3d\":[{\"colorbar\":{\"outlinewidth\":0,\"ticks\":\"\"},\"type\":\"mesh3d\"}],\"parcoords\":[{\"line\":{\"colorbar\":{\"outlinewidth\":0,\"ticks\":\"\"}},\"type\":\"parcoords\"}],\"pie\":[{\"automargin\":true,\"type\":\"pie\"}],\"scatter\":[{\"marker\":{\"colorbar\":{\"outlinewidth\":0,\"ticks\":\"\"}},\"type\":\"scatter\"}],\"scatter3d\":[{\"line\":{\"colorbar\":{\"outlinewidth\":0,\"ticks\":\"\"}},\"marker\":{\"colorbar\":{\"outlinewidth\":0,\"ticks\":\"\"}},\"type\":\"scatter3d\"}],\"scattercarpet\":[{\"marker\":{\"colorbar\":{\"outlinewidth\":0,\"ticks\":\"\"}},\"type\":\"scattercarpet\"}],\"scattergeo\":[{\"marker\":{\"colorbar\":{\"outlinewidth\":0,\"ticks\":\"\"}},\"type\":\"scattergeo\"}],\"scattergl\":[{\"marker\":{\"colorbar\":{\"outlinewidth\":0,\"ticks\":\"\"}},\"type\":\"scattergl\"}],\"scattermapbox\":[{\"marker\":{\"colorbar\":{\"outlinewidth\":0,\"ticks\":\"\"}},\"type\":\"scattermapbox\"}],\"scatterpolar\":[{\"marker\":{\"colorbar\":{\"outlinewidth\":0,\"ticks\":\"\"}},\"type\":\"scatterpolar\"}],\"scatterpolargl\":[{\"marker\":{\"colorbar\":{\"outlinewidth\":0,\"ticks\":\"\"}},\"type\":\"scatterpolargl\"}],\"scatterternary\":[{\"marker\":{\"colorbar\":{\"outlinewidth\":0,\"ticks\":\"\"}},\"type\":\"scatterternary\"}],\"surface\":[{\"colorbar\":{\"outlinewidth\":0,\"ticks\":\"\"},\"colorscale\":[[0.0,\"#0d0887\"],[0.1111111111111111,\"#46039f\"],[0.2222222222222222,\"#7201a8\"],[0.3333333333333333,\"#9c179e\"],[0.4444444444444444,\"#bd3786\"],[0.5555555555555556,\"#d8576b\"],[0.6666666666666666,\"#ed7953\"],[0.7777777777777778,\"#fb9f3a\"],[0.8888888888888888,\"#fdca26\"],[1.0,\"#f0f921\"]],\"type\":\"surface\"}],\"table\":[{\"cells\":{\"fill\":{\"color\":\"#EBF0F8\"},\"line\":{\"color\":\"white\"}},\"header\":{\"fill\":{\"color\":\"#C8D4E3\"},\"line\":{\"color\":\"white\"}},\"type\":\"table\"}]},\"layout\":{\"annotationdefaults\":{\"arrowcolor\":\"#2a3f5f\",\"arrowhead\":0,\"arrowwidth\":1},\"autotypenumbers\":\"strict\",\"coloraxis\":{\"colorbar\":{\"outlinewidth\":0,\"ticks\":\"\"}},\"colorscale\":{\"diverging\":[[0,\"#8e0152\"],[0.1,\"#c51b7d\"],[0.2,\"#de77ae\"],[0.3,\"#f1b6da\"],[0.4,\"#fde0ef\"],[0.5,\"#f7f7f7\"],[0.6,\"#e6f5d0\"],[0.7,\"#b8e186\"],[0.8,\"#7fbc41\"],[0.9,\"#4d9221\"],[1,\"#276419\"]],\"sequential\":[[0.0,\"#0d0887\"],[0.1111111111111111,\"#46039f\"],[0.2222222222222222,\"#7201a8\"],[0.3333333333333333,\"#9c179e\"],[0.4444444444444444,\"#bd3786\"],[0.5555555555555556,\"#d8576b\"],[0.6666666666666666,\"#ed7953\"],[0.7777777777777778,\"#fb9f3a\"],[0.8888888888888888,\"#fdca26\"],[1.0,\"#f0f921\"]],\"sequentialminus\":[[0.0,\"#0d0887\"],[0.1111111111111111,\"#46039f\"],[0.2222222222222222,\"#7201a8\"],[0.3333333333333333,\"#9c179e\"],[0.4444444444444444,\"#bd3786\"],[0.5555555555555556,\"#d8576b\"],[0.6666666666666666,\"#ed7953\"],[0.7777777777777778,\"#fb9f3a\"],[0.8888888888888888,\"#fdca26\"],[1.0,\"#f0f921\"]]},\"colorway\":[\"#636efa\",\"#EF553B\",\"#00cc96\",\"#ab63fa\",\"#FFA15A\",\"#19d3f3\",\"#FF6692\",\"#B6E880\",\"#FF97FF\",\"#FECB52\"],\"font\":{\"color\":\"#2a3f5f\"},\"geo\":{\"bgcolor\":\"white\",\"lakecolor\":\"white\",\"landcolor\":\"#E5ECF6\",\"showlakes\":true,\"showland\":true,\"subunitcolor\":\"white\"},\"hoverlabel\":{\"align\":\"left\"},\"hovermode\":\"closest\",\"mapbox\":{\"style\":\"light\"},\"paper_bgcolor\":\"white\",\"plot_bgcolor\":\"#E5ECF6\",\"polar\":{\"angularaxis\":{\"gridcolor\":\"white\",\"linecolor\":\"white\",\"ticks\":\"\"},\"bgcolor\":\"#E5ECF6\",\"radialaxis\":{\"gridcolor\":\"white\",\"linecolor\":\"white\",\"ticks\":\"\"}},\"scene\":{\"xaxis\":{\"backgroundcolor\":\"#E5ECF6\",\"gridcolor\":\"white\",\"gridwidth\":2,\"linecolor\":\"white\",\"showbackground\":true,\"ticks\":\"\",\"zerolinecolor\":\"white\"},\"yaxis\":{\"backgroundcolor\":\"#E5ECF6\",\"gridcolor\":\"white\",\"gridwidth\":2,\"linecolor\":\"white\",\"showbackground\":true,\"ticks\":\"\",\"zerolinecolor\":\"white\"},\"zaxis\":{\"backgroundcolor\":\"#E5ECF6\",\"gridcolor\":\"white\",\"gridwidth\":2,\"linecolor\":\"white\",\"showbackground\":true,\"ticks\":\"\",\"zerolinecolor\":\"white\"}},\"shapedefaults\":{\"line\":{\"color\":\"#2a3f5f\"}},\"ternary\":{\"aaxis\":{\"gridcolor\":\"white\",\"linecolor\":\"white\",\"ticks\":\"\"},\"baxis\":{\"gridcolor\":\"white\",\"linecolor\":\"white\",\"ticks\":\"\"},\"bgcolor\":\"#E5ECF6\",\"caxis\":{\"gridcolor\":\"white\",\"linecolor\":\"white\",\"ticks\":\"\"}},\"title\":{\"x\":0.05},\"xaxis\":{\"automargin\":true,\"gridcolor\":\"white\",\"linecolor\":\"white\",\"ticks\":\"\",\"title\":{\"standoff\":15},\"zerolinecolor\":\"white\",\"zerolinewidth\":2},\"yaxis\":{\"automargin\":true,\"gridcolor\":\"white\",\"linecolor\":\"white\",\"ticks\":\"\",\"title\":{\"standoff\":15},\"zerolinecolor\":\"white\",\"zerolinewidth\":2}}},\"xaxis\":{\"anchor\":\"y\",\"domain\":[0.0,1.0],\"title\":{\"text\":\"region\"}},\"yaxis\":{\"anchor\":\"x\",\"domain\":[0.0,1.0],\"title\":{\"text\":\"permit\"}},\"legend\":{\"title\":{\"text\":\"status_group\"},\"tracegroupgap\":0},\"title\":{\"text\":\"Distribution of waterpumps\"},\"barmode\":\"relative\",\"height\":500,\"width\":1000},                        {\"responsive\": true}                    ).then(function(){\n",
              "                            \n",
              "var gd = document.getElementById('271758bb-1962-4b04-8487-76d5d798a14b');\n",
              "var x = new MutationObserver(function (mutations, observer) {{\n",
              "        var display = window.getComputedStyle(gd).display;\n",
              "        if (!display || display === 'none') {{\n",
              "            console.log([gd, 'removed!']);\n",
              "            Plotly.purge(gd);\n",
              "            observer.disconnect();\n",
              "        }}\n",
              "}});\n",
              "\n",
              "// Listen for the removal of the full notebook cells\n",
              "var notebookContainer = gd.closest('#notebook-container');\n",
              "if (notebookContainer) {{\n",
              "    x.observe(notebookContainer, {childList: true});\n",
              "}}\n",
              "\n",
              "// Listen for the clearing of the current output cell\n",
              "var outputEl = gd.closest('.output');\n",
              "if (outputEl) {{\n",
              "    x.observe(outputEl, {childList: true});\n",
              "}}\n",
              "\n",
              "                        })                };                            </script>        </div>\n",
              "</body>\n",
              "</html>"
            ]
          },
          "metadata": {}
        }
      ],
      "source": [
        "# Distribution of the status of waterpumps across regions\n",
        "\n",
        "df = train.groupby(['region', 'status_group']).count()['permit'].head(200).reset_index()\n",
        "\n",
        "\n",
        "fig = px.bar(df, x = \"region\", y = \"permit\", color = \"status_group\", title = \"Distribution of waterpumps\", \n",
        "             width = 1000, height = 500)\n",
        "\n",
        "fig.show()\n",
        "\n",
        "del df"
      ]
    },
    {
      "cell_type": "markdown",
      "metadata": {
        "id": "sVQ3FSwSyVkc"
      },
      "source": [
        "### Observation\n",
        "- Iringa has the highest number of functional waterpumps\n",
        "- Most regions have more functional waterpumps than non functional\n",
        "- The ratio of functional need repair waterpumps is smaller for all regions"
      ]
    },
    {
      "cell_type": "markdown",
      "metadata": {
        "id": "prhOhzoxyVkc"
      },
      "source": [
        "## 2.6.  Pre-Processing Data\n",
        "- Here I will drop some columns which may not be relevant for my modelling\n",
        "- I will rank status of waterpumps as 0,1,2\n",
        "- Create dummmies for categotical columns"
      ]
    },
    {
      "cell_type": "markdown",
      "metadata": {
        "id": "oWPFrEVWyVkc"
      },
      "source": [
        "## 2.6.1. Dropping non-relevant columns\n",
        "- The left out geographical data are less likely to add any predictive power to the model"
      ]
    },
    {
      "cell_type": "code",
      "execution_count": null,
      "metadata": {
        "id": "yGiR85KUyVkc"
      },
      "outputs": [],
      "source": [
        "# I will drop these columns\n",
        "train = train.drop(['region', 'longitude', 'latitude', 'lga'], axis=1)"
      ]
    },
    {
      "cell_type": "markdown",
      "metadata": {
        "id": "DRC1fIJRyVkc"
      },
      "source": [
        "## 2.6.2. status_group\n",
        "- I will categorize the values in the column into 0, 1, 2"
      ]
    },
    {
      "cell_type": "code",
      "execution_count": null,
      "metadata": {
        "id": "ilJtUoAzyVkc"
      },
      "outputs": [],
      "source": [
        "# Create a column assigning 0,1,2 for target variable\n",
        "val_status_group={'functional':2, 'functional needs repair':1,\n",
        "                   'non functional':0}\n",
        "train['status_group_vals']=train.status_group.replace(val_status_group)"
      ]
    },
    {
      "cell_type": "code",
      "execution_count": null,
      "metadata": {
        "id": "VLtMtlJcyVkc"
      },
      "outputs": [],
      "source": [
        "# Drop column\n",
        "train = train.drop(['status_group'],axis=1)"
      ]
    },
    {
      "cell_type": "markdown",
      "metadata": {
        "id": "gZj2efxDyVkc"
      },
      "source": [
        "## 2.6.3. Create dummies\n",
        "- Creating dummies for categorical columns"
      ]
    },
    {
      "cell_type": "code",
      "execution_count": null,
      "metadata": {
        "id": "aOGCfWJ5yVkc"
      },
      "outputs": [],
      "source": [
        "# Create dummies for caterogical columns\n",
        "categoricals = ['funder', 'installer', 'basin', 'public_meeting', 'scheme_management', 'permit',\n",
        "              'construction_year', 'extraction_type_class','management_group', 'payment_type', 'water_quality',\n",
        "              'quantity', 'source_type', 'source_class','waterpoint_type_group']\n",
        "\n",
        "train = pd.get_dummies(train, columns = categoricals)\n"
      ]
    },
    {
      "cell_type": "code",
      "execution_count": null,
      "metadata": {
        "colab": {
          "base_uri": "https://localhost:8080/"
        },
        "id": "SRP6_D-dyVkd",
        "outputId": "26be0785-91d2-456b-8b0c-14dcaf4dc15d"
      },
      "outputs": [
        {
          "output_type": "execute_result",
          "data": {
            "text/plain": [
              "(59400, 93)"
            ]
          },
          "metadata": {},
          "execution_count": 87
        }
      ],
      "source": [
        "train.shape"
      ]
    },
    {
      "cell_type": "markdown",
      "metadata": {
        "id": "0U7x3MBeyVkd"
      },
      "source": [
        "# 3. Modelling\n",
        "\n",
        "The metric I will be using for modellling is Accuracy\n",
        "\n",
        "For modelling I will apply:\n",
        "\n",
        "### 1. Perform an X_Train-y_Test Split\n",
        "\n",
        "### 2. Build and Evaluate a Baseline Model\n",
        "\n",
        "\n",
        "### 3. Grid search to Find the Random Forest Model\n",
        "\n",
        "\n",
        "### 4. Build Iterative Models to Find the Best Decision Tree Model\n",
        "\n",
        "### 5. Build additional Logistic Regression Models\n",
        "\n",
        "\n",
        "### 7. Choose and Evaluate a Final Model\n"
      ]
    },
    {
      "cell_type": "markdown",
      "metadata": {
        "id": "Z1FYKbodyVkd"
      },
      "source": [
        "## 3.1. Perform an X_Train-y_Test Split"
      ]
    },
    {
      "cell_type": "code",
      "execution_count": null,
      "metadata": {
        "id": "vqfYZcX2yVkd"
      },
      "outputs": [],
      "source": [
        "# Create y_train and X_train\n",
        "y = train.status_group_vals\n",
        "X = train.drop('status_group_vals', axis=1)"
      ]
    },
    {
      "cell_type": "code",
      "execution_count": null,
      "metadata": {
        "colab": {
          "base_uri": "https://localhost:8080/"
        },
        "id": "4dU7TpN3yVkd",
        "outputId": "59c12cc0-3684-4f0c-d283-10d44dc524f5"
      },
      "outputs": [
        {
          "output_type": "stream",
          "name": "stdout",
          "text": [
            "Raw Counts\n",
            "2    32259\n",
            "0    22824\n",
            "1     4317\n",
            "Name: status_group_vals, dtype: int64\n",
            "\n",
            "Percentages\n",
            "2    0.543081\n",
            "0    0.384242\n",
            "1    0.072677\n",
            "Name: status_group_vals, dtype: float64\n"
          ]
        }
      ],
      "source": [
        "# check the dummy accuracy of the raw data\n",
        "print(\"Raw Counts\")\n",
        "print(train[\"status_group_vals\"].value_counts())\n",
        "print()\n",
        "print(\"Percentages\")\n",
        "print(train[\"status_group_vals\"].value_counts(normalize=True))"
      ]
    },
    {
      "cell_type": "markdown",
      "metadata": {
        "id": "wk7GAFXqyVkd"
      },
      "source": [
        "functional - 0.54304\n",
        "\n",
        "functional needs repair - 0.38429\n",
        "                   \n",
        "non functional - 0.07267\n",
        "\n",
        "Dummy Accuracy =  0.54304\n",
        "\n",
        "Because 54.30% of the waterpoints are functional\n",
        "\n",
        "Prediction of functional waterpoints would be at 54.30% accuracy"
      ]
    },
    {
      "cell_type": "code",
      "execution_count": null,
      "metadata": {
        "id": "2K2sfXJDyVkd"
      },
      "outputs": [],
      "source": [
        "# perform a train test split\n",
        "X_train, X_test, y_train, y_test = train_test_split(X, y, test_size = 0.2, random_state = 42)"
      ]
    },
    {
      "cell_type": "code",
      "execution_count": null,
      "metadata": {
        "colab": {
          "base_uri": "https://localhost:8080/"
        },
        "id": "EqmukLJ0yVkd",
        "outputId": "b195f1a3-c114-49cc-ac73-1ddd38d75306"
      },
      "outputs": [
        {
          "output_type": "stream",
          "name": "stdout",
          "text": [
            "(47520, 92)\n",
            "(47520,)\n",
            "(11880, 92)\n",
            "(11880,)\n"
          ]
        }
      ],
      "source": [
        "print(X_train.shape)\n",
        "print(y_train.shape)\n",
        "print(X_test.shape)\n",
        "print(y_test.shape)"
      ]
    },
    {
      "cell_type": "markdown",
      "metadata": {
        "id": "fs2MHQRxyVkd"
      },
      "source": [
        "## 3.2. Baseline Model\n",
        "- Without performing any preprocessing or hyperparameter tuning, build and evaluate a several classification models then pick the top three for further tuning."
      ]
    },
    {
      "cell_type": "code",
      "execution_count": null,
      "metadata": {
        "id": "mNBWt5EWyVkd"
      },
      "outputs": [],
      "source": [
        "# Create names for the different classification methods\n",
        "rf = RandomForestClassifier(random_state = 42)\n",
        "lr = LogisticRegression(random_state = 42)\n",
        "dt = DecisionTreeClassifier(random_state = 42)\n",
        "knn = KNeighborsClassifier()\n",
        "nb = GaussianNB()"
      ]
    },
    {
      "cell_type": "code",
      "execution_count": null,
      "metadata": {
        "id": "XmsLAeAryVkd"
      },
      "outputs": [],
      "source": [
        "# Create a function for classification\n",
        "train_accuracy = []\n",
        "test_accuracy = []\n",
        "model_list = [rf,lr, dt, knn, nb]\n",
        "for i in model_list:\n",
        "    i = i.fit(X_train, y_train)\n",
        "    ytrain_pred = i.predict(X_train)\n",
        "    ytest_pred = i.predict(X_test)\n",
        "    train_accuracy.append(accuracy_score(ytrain_pred, y_train))\n",
        "    test_accuracy.append(accuracy_score(ytest_pred, y_test))"
      ]
    },
    {
      "cell_type": "code",
      "execution_count": null,
      "metadata": {
        "colab": {
          "base_uri": "https://localhost:8080/"
        },
        "id": "Xo1zpeuMyVkd",
        "outputId": "d8e85f3f-083b-4458-c345-52d441f7fd9e"
      },
      "outputs": [
        {
          "output_type": "execute_result",
          "data": {
            "text/plain": [
              "[0.9999158249158249,\n",
              " 0.5429713804713805,\n",
              " 1.0,\n",
              " 0.6691498316498317,\n",
              " 0.5797138047138047]"
            ]
          },
          "metadata": {},
          "execution_count": 94
        }
      ],
      "source": [
        "# print train accuracy\n",
        "train_accuracy"
      ]
    },
    {
      "cell_type": "code",
      "execution_count": null,
      "metadata": {
        "colab": {
          "base_uri": "https://localhost:8080/"
        },
        "id": "xyFR8UrryVkd",
        "outputId": "78895333-2130-4fa8-99b6-7de40ced75a5"
      },
      "outputs": [
        {
          "output_type": "execute_result",
          "data": {
            "text/plain": [
              "[0.7824074074074074,\n",
              " 0.5435185185185185,\n",
              " 0.7236531986531987,\n",
              " 0.5042929292929293,\n",
              " 0.5874579124579125]"
            ]
          },
          "metadata": {},
          "execution_count": 95
        }
      ],
      "source": [
        "# print test accuracy\n",
        "test_accuracy"
      ]
    },
    {
      "cell_type": "code",
      "execution_count": null,
      "metadata": {
        "colab": {
          "base_uri": "https://localhost:8080/",
          "height": 428
        },
        "id": "N1hOaXsCyVkd",
        "outputId": "81d89a8e-42fa-46e7-ec38-63ade3979d82"
      },
      "outputs": [
        {
          "output_type": "display_data",
          "data": {
            "text/plain": [
              "<Figure size 504x504 with 1 Axes>"
            ],
            "image/png": "[encoded data removed]"
          },
          "metadata": {}
        }
      ],
      "source": [
        "# I will visualize the test accuracy results\n",
        "model_names = [\"rf\",\"lr\",\"dt\",\"knn\", \"nb\"]\n",
        "plt.figure(figsize = (7, 7))\n",
        "sns.barplot(x = model_names, y = test_accuracy)\n",
        "plt.show()"
      ]
    },
    {
      "cell_type": "markdown",
      "metadata": {
        "id": "yi0FNjaoyVkd"
      },
      "source": [
        "### Summary of results\n",
        "\n",
        "- Random Forest Classifier\n",
        "      - Train Accuracy = 93.99%\n",
        "      - Test Accuracy = 78.62%\n",
        "- Logistic Regression Classifier\n",
        "      - Train Accuracy = 71.84%\n",
        "      - Test Accuracy = 71.95%\n",
        "- Decision Tree accuracy \n",
        "      - Train Accuracy = 93.99%\n",
        "      - Test Accuracy = 75.10%\n",
        "- KNN accuracy \n",
        "      - Train Accuracy = 78.39%\n",
        "      - Test Accuracy = 69.98%\n",
        "- Gaussian accuracy\n",
        "      - Train Accuracy = 62.34%\n",
        "      - Test Accuracy =  62.87%\n",
        "\n",
        "\n",
        "Using the test accuracy, the top perfoming models are:\n",
        "- Random Forest Classifier (best)\n",
        "- Decision Tree Classifier\n",
        "- Logisitic Regression Classifier\n",
        "\n",
        "- Random Forest and Decision Trees show high cases of overfitting. More tuning could improve these models.\n",
        "- While Logistic regression has a lesser percentage in testing fit compared to the other two, it shows less chances of overfitting but it could be improved.\n",
        "- I will perform more tuning to these three classification models to improve them"
      ]
    },
    {
      "cell_type": "markdown",
      "metadata": {
        "id": "N9oZnc2IyVkd"
      },
      "source": [
        "## 3.3. Random Forest\n",
        "- I will employ hyperparameter tuning to improve model accuracy\n",
        "\n",
        "- Using random search, I will carry out several iterations to get the best conditions for random forest and run them to get an accuracy."
      ]
    },
    {
      "cell_type": "code",
      "execution_count": null,
      "metadata": {
        "colab": {
          "base_uri": "https://localhost:8080/"
        },
        "id": "XeXHLQYyyVkd",
        "outputId": "cdcb6c1e-2311-4685-a584-a6ff3fb98ea2"
      },
      "outputs": [
        {
          "output_type": "stream",
          "name": "stdout",
          "text": [
            "{'n_estimators': [10, 14, 18, 23, 27, 32, 36, 41, 45, 50], 'max_features': ['auto', 'sqrt'], 'max_depth': [10, 20, 30, 40, 50, 60, 70, 80, 90, 100, 110, None], 'min_samples_split': [2, 5, 10], 'min_samples_leaf': [1, 2, 4], 'bootstrap': [True, False]}\n"
          ]
        }
      ],
      "source": [
        "# Number of trees in random forest\n",
        "n_estimators = [int(x) for x in np.linspace(start = 10, stop = 50, num = 10)]\n",
        "\n",
        "# Number of features to consider at every split\n",
        "max_features = ['auto', 'sqrt']\n",
        "\n",
        "# Maximum number of levels in tree\n",
        "max_depth = [int(x) for x in np.linspace(10, 110, num = 11)]\n",
        "max_depth.append(None)\n",
        "\n",
        "# Minimum number of samples required to split a node\n",
        "min_samples_split = [2, 5, 10]\n",
        "\n",
        "# Minimum number of samples required at each leaf node\n",
        "min_samples_leaf = [1, 2, 4]\n",
        "\n",
        "# Method of selecting samples for training each tree\n",
        "bootstrap = [True, False]\n",
        "\n",
        "# Create the random grid\n",
        "random_grid = {'n_estimators': n_estimators,\n",
        "               'max_features': max_features,\n",
        "               'max_depth': max_depth,\n",
        "               'min_samples_split': min_samples_split,\n",
        "               'min_samples_leaf': min_samples_leaf,\n",
        "               'bootstrap': bootstrap}\n",
        "print(random_grid)"
      ]
    },
    {
      "cell_type": "code",
      "execution_count": 98,
      "metadata": {
        "colab": {
          "base_uri": "https://localhost:8080/",
          "height": 370
        },
        "id": "yCRM3BoFyVkd",
        "outputId": "0825ea47-24c9-4009-f556-f132679d0856"
      },
      "outputs": [
        {
          "metadata": {
            "tags": null
          },
          "name": "stdout",
          "output_type": "stream",
          "text": [
            "Fitting 3 folds for each of 100 candidates, totalling 300 fits\n"
          ]
        },
        {
          "output_type": "error",
          "ename": "KeyboardInterrupt",
          "evalue": "ignored",
          "traceback": [
            "\u001b[0;31m---------------------------------------------------------------------------\u001b[0m",
            "\u001b[0;31mKeyboardInterrupt\u001b[0m                         Traceback (most recent call last)",
            "\u001b[0;32m<ipython-input-98-81ab8afd2530>\u001b[0m in \u001b[0;36m<module>\u001b[0;34m\u001b[0m\n\u001b[1;32m      9\u001b[0m \u001b[0;34m\u001b[0m\u001b[0m\n\u001b[1;32m     10\u001b[0m \u001b[0;31m# Fit the random search model\u001b[0m\u001b[0;34m\u001b[0m\u001b[0;34m\u001b[0m\u001b[0;34m\u001b[0m\u001b[0m\n\u001b[0;32m---> 11\u001b[0;31m \u001b[0mrf1_random\u001b[0m\u001b[0;34m.\u001b[0m\u001b[0mfit\u001b[0m\u001b[0;34m(\u001b[0m\u001b[0mX_train\u001b[0m\u001b[0;34m,\u001b[0m \u001b[0my_train\u001b[0m\u001b[0;34m)\u001b[0m\u001b[0;34m\u001b[0m\u001b[0;34m\u001b[0m\u001b[0m\n\u001b[0m",
            "\u001b[0;32m/usr/local/lib/python3.7/dist-packages/sklearn/model_selection/_search.py\u001b[0m in \u001b[0;36mfit\u001b[0;34m(self, X, y, groups, **fit_params)\u001b[0m\n\u001b[1;32m    889\u001b[0m                 \u001b[0;32mreturn\u001b[0m \u001b[0mresults\u001b[0m\u001b[0;34m\u001b[0m\u001b[0;34m\u001b[0m\u001b[0m\n\u001b[1;32m    890\u001b[0m \u001b[0;34m\u001b[0m\u001b[0m\n\u001b[0;32m--> 891\u001b[0;31m             \u001b[0mself\u001b[0m\u001b[0;34m.\u001b[0m\u001b[0m_run_search\u001b[0m\u001b[0;34m(\u001b[0m\u001b[0mevaluate_candidates\u001b[0m\u001b[0;34m)\u001b[0m\u001b[0;34m\u001b[0m\u001b[0;34m\u001b[0m\u001b[0m\n\u001b[0m\u001b[1;32m    892\u001b[0m \u001b[0;34m\u001b[0m\u001b[0m\n\u001b[1;32m    893\u001b[0m             \u001b[0;31m# multimetric is determined here because in the case of a callable\u001b[0m\u001b[0;34m\u001b[0m\u001b[0;34m\u001b[0m\u001b[0;34m\u001b[0m\u001b[0m\n",
            "\u001b[0;32m/usr/local/lib/python3.7/dist-packages/sklearn/model_selection/_search.py\u001b[0m in \u001b[0;36m_run_search\u001b[0;34m(self, evaluate_candidates)\u001b[0m\n\u001b[1;32m   1766\u001b[0m         evaluate_candidates(\n\u001b[1;32m   1767\u001b[0m             ParameterSampler(\n\u001b[0;32m-> 1768\u001b[0;31m                 \u001b[0mself\u001b[0m\u001b[0;34m.\u001b[0m\u001b[0mparam_distributions\u001b[0m\u001b[0;34m,\u001b[0m \u001b[0mself\u001b[0m\u001b[0;34m.\u001b[0m\u001b[0mn_iter\u001b[0m\u001b[0;34m,\u001b[0m \u001b[0mrandom_state\u001b[0m\u001b[0;34m=\u001b[0m\u001b[0mself\u001b[0m\u001b[0;34m.\u001b[0m\u001b[0mrandom_state\u001b[0m\u001b[0;34m\u001b[0m\u001b[0;34m\u001b[0m\u001b[0m\n\u001b[0m\u001b[1;32m   1769\u001b[0m             )\n\u001b[1;32m   1770\u001b[0m         )\n",
            "\u001b[0;32m/usr/local/lib/python3.7/dist-packages/sklearn/model_selection/_search.py\u001b[0m in \u001b[0;36mevaluate_candidates\u001b[0;34m(candidate_params, cv, more_results)\u001b[0m\n\u001b[1;32m    849\u001b[0m                     )\n\u001b[1;32m    850\u001b[0m                     for (cand_idx, parameters), (split_idx, (train, test)) in product(\n\u001b[0;32m--> 851\u001b[0;31m                         \u001b[0menumerate\u001b[0m\u001b[0;34m(\u001b[0m\u001b[0mcandidate_params\u001b[0m\u001b[0;34m)\u001b[0m\u001b[0;34m,\u001b[0m \u001b[0menumerate\u001b[0m\u001b[0;34m(\u001b[0m\u001b[0mcv\u001b[0m\u001b[0;34m.\u001b[0m\u001b[0msplit\u001b[0m\u001b[0;34m(\u001b[0m\u001b[0mX\u001b[0m\u001b[0;34m,\u001b[0m \u001b[0my\u001b[0m\u001b[0;34m,\u001b[0m \u001b[0mgroups\u001b[0m\u001b[0;34m)\u001b[0m\u001b[0;34m)\u001b[0m\u001b[0;34m\u001b[0m\u001b[0;34m\u001b[0m\u001b[0m\n\u001b[0m\u001b[1;32m    852\u001b[0m                     )\n\u001b[1;32m    853\u001b[0m                 )\n",
            "\u001b[0;32m/usr/local/lib/python3.7/dist-packages/joblib/parallel.py\u001b[0m in \u001b[0;36m__call__\u001b[0;34m(self, iterable)\u001b[0m\n\u001b[1;32m   1096\u001b[0m \u001b[0;34m\u001b[0m\u001b[0m\n\u001b[1;32m   1097\u001b[0m             \u001b[0;32mwith\u001b[0m \u001b[0mself\u001b[0m\u001b[0;34m.\u001b[0m\u001b[0m_backend\u001b[0m\u001b[0;34m.\u001b[0m\u001b[0mretrieval_context\u001b[0m\u001b[0;34m(\u001b[0m\u001b[0;34m)\u001b[0m\u001b[0;34m:\u001b[0m\u001b[0;34m\u001b[0m\u001b[0;34m\u001b[0m\u001b[0m\n\u001b[0;32m-> 1098\u001b[0;31m                 \u001b[0mself\u001b[0m\u001b[0;34m.\u001b[0m\u001b[0mretrieve\u001b[0m\u001b[0;34m(\u001b[0m\u001b[0;34m)\u001b[0m\u001b[0;34m\u001b[0m\u001b[0;34m\u001b[0m\u001b[0m\n\u001b[0m\u001b[1;32m   1099\u001b[0m             \u001b[0;31m# Make sure that we get a last message telling us we are done\u001b[0m\u001b[0;34m\u001b[0m\u001b[0;34m\u001b[0m\u001b[0;34m\u001b[0m\u001b[0m\n\u001b[1;32m   1100\u001b[0m             \u001b[0melapsed_time\u001b[0m \u001b[0;34m=\u001b[0m \u001b[0mtime\u001b[0m\u001b[0;34m.\u001b[0m\u001b[0mtime\u001b[0m\u001b[0;34m(\u001b[0m\u001b[0;34m)\u001b[0m \u001b[0;34m-\u001b[0m \u001b[0mself\u001b[0m\u001b[0;34m.\u001b[0m\u001b[0m_start_time\u001b[0m\u001b[0;34m\u001b[0m\u001b[0;34m\u001b[0m\u001b[0m\n",
            "\u001b[0;32m/usr/local/lib/python3.7/dist-packages/joblib/parallel.py\u001b[0m in \u001b[0;36mretrieve\u001b[0;34m(self)\u001b[0m\n\u001b[1;32m    973\u001b[0m             \u001b[0;32mtry\u001b[0m\u001b[0;34m:\u001b[0m\u001b[0;34m\u001b[0m\u001b[0;34m\u001b[0m\u001b[0m\n\u001b[1;32m    974\u001b[0m                 \u001b[0;32mif\u001b[0m \u001b[0mgetattr\u001b[0m\u001b[0;34m(\u001b[0m\u001b[0mself\u001b[0m\u001b[0;34m.\u001b[0m\u001b[0m_backend\u001b[0m\u001b[0;34m,\u001b[0m \u001b[0;34m'supports_timeout'\u001b[0m\u001b[0;34m,\u001b[0m \u001b[0;32mFalse\u001b[0m\u001b[0;34m)\u001b[0m\u001b[0;34m:\u001b[0m\u001b[0;34m\u001b[0m\u001b[0;34m\u001b[0m\u001b[0m\n\u001b[0;32m--> 975\u001b[0;31m                     \u001b[0mself\u001b[0m\u001b[0;34m.\u001b[0m\u001b[0m_output\u001b[0m\u001b[0;34m.\u001b[0m\u001b[0mextend\u001b[0m\u001b[0;34m(\u001b[0m\u001b[0mjob\u001b[0m\u001b[0;34m.\u001b[0m\u001b[0mget\u001b[0m\u001b[0;34m(\u001b[0m\u001b[0mtimeout\u001b[0m\u001b[0;34m=\u001b[0m\u001b[0mself\u001b[0m\u001b[0;34m.\u001b[0m\u001b[0mtimeout\u001b[0m\u001b[0;34m)\u001b[0m\u001b[0;34m)\u001b[0m\u001b[0;34m\u001b[0m\u001b[0;34m\u001b[0m\u001b[0m\n\u001b[0m\u001b[1;32m    976\u001b[0m                 \u001b[0;32melse\u001b[0m\u001b[0;34m:\u001b[0m\u001b[0;34m\u001b[0m\u001b[0;34m\u001b[0m\u001b[0m\n\u001b[1;32m    977\u001b[0m                     \u001b[0mself\u001b[0m\u001b[0;34m.\u001b[0m\u001b[0m_output\u001b[0m\u001b[0;34m.\u001b[0m\u001b[0mextend\u001b[0m\u001b[0;34m(\u001b[0m\u001b[0mjob\u001b[0m\u001b[0;34m.\u001b[0m\u001b[0mget\u001b[0m\u001b[0;34m(\u001b[0m\u001b[0;34m)\u001b[0m\u001b[0;34m)\u001b[0m\u001b[0;34m\u001b[0m\u001b[0;34m\u001b[0m\u001b[0m\n",
            "\u001b[0;32m/usr/local/lib/python3.7/dist-packages/joblib/_parallel_backends.py\u001b[0m in \u001b[0;36mwrap_future_result\u001b[0;34m(future, timeout)\u001b[0m\n\u001b[1;32m    565\u001b[0m         AsyncResults.get from multiprocessing.\"\"\"\n\u001b[1;32m    566\u001b[0m         \u001b[0;32mtry\u001b[0m\u001b[0;34m:\u001b[0m\u001b[0;34m\u001b[0m\u001b[0;34m\u001b[0m\u001b[0m\n\u001b[0;32m--> 567\u001b[0;31m             \u001b[0;32mreturn\u001b[0m \u001b[0mfuture\u001b[0m\u001b[0;34m.\u001b[0m\u001b[0mresult\u001b[0m\u001b[0;34m(\u001b[0m\u001b[0mtimeout\u001b[0m\u001b[0;34m=\u001b[0m\u001b[0mtimeout\u001b[0m\u001b[0;34m)\u001b[0m\u001b[0;34m\u001b[0m\u001b[0;34m\u001b[0m\u001b[0m\n\u001b[0m\u001b[1;32m    568\u001b[0m         \u001b[0;32mexcept\u001b[0m \u001b[0mCfTimeoutError\u001b[0m \u001b[0;32mas\u001b[0m \u001b[0me\u001b[0m\u001b[0;34m:\u001b[0m\u001b[0;34m\u001b[0m\u001b[0;34m\u001b[0m\u001b[0m\n\u001b[1;32m    569\u001b[0m             \u001b[0;32mraise\u001b[0m \u001b[0mTimeoutError\u001b[0m \u001b[0;32mfrom\u001b[0m \u001b[0me\u001b[0m\u001b[0;34m\u001b[0m\u001b[0;34m\u001b[0m\u001b[0m\n",
            "\u001b[0;32m/usr/lib/python3.7/concurrent/futures/_base.py\u001b[0m in \u001b[0;36mresult\u001b[0;34m(self, timeout)\u001b[0m\n\u001b[1;32m    428\u001b[0m                 \u001b[0;32mreturn\u001b[0m \u001b[0mself\u001b[0m\u001b[0;34m.\u001b[0m\u001b[0m__get_result\u001b[0m\u001b[0;34m(\u001b[0m\u001b[0;34m)\u001b[0m\u001b[0;34m\u001b[0m\u001b[0;34m\u001b[0m\u001b[0m\n\u001b[1;32m    429\u001b[0m \u001b[0;34m\u001b[0m\u001b[0m\n\u001b[0;32m--> 430\u001b[0;31m             \u001b[0mself\u001b[0m\u001b[0;34m.\u001b[0m\u001b[0m_condition\u001b[0m\u001b[0;34m.\u001b[0m\u001b[0mwait\u001b[0m\u001b[0;34m(\u001b[0m\u001b[0mtimeout\u001b[0m\u001b[0;34m)\u001b[0m\u001b[0;34m\u001b[0m\u001b[0;34m\u001b[0m\u001b[0m\n\u001b[0m\u001b[1;32m    431\u001b[0m \u001b[0;34m\u001b[0m\u001b[0m\n\u001b[1;32m    432\u001b[0m             \u001b[0;32mif\u001b[0m \u001b[0mself\u001b[0m\u001b[0;34m.\u001b[0m\u001b[0m_state\u001b[0m \u001b[0;32min\u001b[0m \u001b[0;34m[\u001b[0m\u001b[0mCANCELLED\u001b[0m\u001b[0;34m,\u001b[0m \u001b[0mCANCELLED_AND_NOTIFIED\u001b[0m\u001b[0;34m]\u001b[0m\u001b[0;34m:\u001b[0m\u001b[0;34m\u001b[0m\u001b[0;34m\u001b[0m\u001b[0m\n",
            "\u001b[0;32m/usr/lib/python3.7/threading.py\u001b[0m in \u001b[0;36mwait\u001b[0;34m(self, timeout)\u001b[0m\n\u001b[1;32m    294\u001b[0m         \u001b[0;32mtry\u001b[0m\u001b[0;34m:\u001b[0m    \u001b[0;31m# restore state no matter what (e.g., KeyboardInterrupt)\u001b[0m\u001b[0;34m\u001b[0m\u001b[0;34m\u001b[0m\u001b[0m\n\u001b[1;32m    295\u001b[0m             \u001b[0;32mif\u001b[0m \u001b[0mtimeout\u001b[0m \u001b[0;32mis\u001b[0m \u001b[0;32mNone\u001b[0m\u001b[0;34m:\u001b[0m\u001b[0;34m\u001b[0m\u001b[0;34m\u001b[0m\u001b[0m\n\u001b[0;32m--> 296\u001b[0;31m                 \u001b[0mwaiter\u001b[0m\u001b[0;34m.\u001b[0m\u001b[0macquire\u001b[0m\u001b[0;34m(\u001b[0m\u001b[0;34m)\u001b[0m\u001b[0;34m\u001b[0m\u001b[0;34m\u001b[0m\u001b[0m\n\u001b[0m\u001b[1;32m    297\u001b[0m                 \u001b[0mgotit\u001b[0m \u001b[0;34m=\u001b[0m \u001b[0;32mTrue\u001b[0m\u001b[0;34m\u001b[0m\u001b[0;34m\u001b[0m\u001b[0m\n\u001b[1;32m    298\u001b[0m             \u001b[0;32melse\u001b[0m\u001b[0;34m:\u001b[0m\u001b[0;34m\u001b[0m\u001b[0;34m\u001b[0m\u001b[0m\n",
            "\u001b[0;31mKeyboardInterrupt\u001b[0m: "
          ]
        }
      ],
      "source": [
        "# Use the random grid to search for best hyperparameters\n",
        "# First create the base model to tune\n",
        "rf1 = RandomForestRegressor()\n",
        "\n",
        "# Random search of parameters, using 3 fold cross validation, \n",
        "# search across 100 different combinations, and use all available cores\n",
        "rf1_random = RandomizedSearchCV(estimator = rf1, param_distributions = random_grid, \n",
        "                               n_iter = 100, cv = 3, verbose=2, random_state=42, n_jobs = -1)\n",
        "\n",
        "# Fit the random search model\n",
        "rf1_random.fit(X_train, y_train)"
      ]
    },
    {
      "cell_type": "code",
      "execution_count": null,
      "metadata": {
        "id": "fXOrHZW6yVke"
      },
      "outputs": [],
      "source": [
        "rf1_random.best_params_"
      ]
    },
    {
      "cell_type": "code",
      "execution_count": null,
      "metadata": {
        "id": "cS33spvSyVke"
      },
      "outputs": [],
      "source": [
        "# Instantiate and fit a RandomForestClassifier\n",
        "forest1 = RandomForestClassifier(n_estimators = 36, min_samples_split = 5, \n",
        "                                 min_samples_leaf = 2, max_features = 'sqrt', max_depth = None, bootstrap = False,\n",
        "                                 random_state = 42)\n",
        "forest1.fit(X_train, y_train)\n",
        "#ytrain_pred = forest1.predict(X_train)\n",
        "\n",
        "# Training accuracy score\n",
        "print('Train:', forest1.score(X_train, y_train))\n",
        "print()\n",
        "print('Test:', forest1.score(X_test, y_test))"
      ]
    },
    {
      "cell_type": "markdown",
      "metadata": {
        "id": "nzeIFmASyVke"
      },
      "source": [
        "### Random Forest results\n",
        "\n",
        "- random model 1: 78.62%\n",
        "- random model 2: 80.03%\n",
        "\n",
        "- The second model is a better fit. \n",
        "- It has less overfitting.\n",
        "- The random search did take some time to load though"
      ]
    },
    {
      "cell_type": "markdown",
      "metadata": {
        "id": "h3dstaIsyVke"
      },
      "source": [
        "## 3.4. Decision Tree Model\n",
        "- I will carry out hyperparameter tuning to see what effect it has on the performance of our decision tree and to check whether it will improve the performance.\n",
        "- To do this I will carry out a grid search to get the best parameters and apply them.\n",
        "- I will further try using a bagging classifier to reduce noice and see if this would improve the model\n",
        "- To check for the performance of the model, we will use ROC-AUC."
      ]
    },
    {
      "cell_type": "code",
      "execution_count": null,
      "metadata": {
        "id": "ButnYWg7yVke"
      },
      "outputs": [],
      "source": [
        "#Using GridSearchCV\n",
        "# Setting tuning parameters\n",
        "par={\n",
        "    'max_depth':[2, 4, 5, 10],\n",
        "    'min_samples_leaf': [5, 15, 20, 50],\n",
        "    'min_samples_split': [10, 20, 30, 40],\n",
        "    'criterion':['gini','entropy']\n",
        "}"
      ]
    },
    {
      "cell_type": "code",
      "execution_count": null,
      "metadata": {
        "id": "tdnht8OmyVke"
      },
      "outputs": [],
      "source": [
        "#Instantiating the grid search\n",
        "D_tree = DecisionTreeClassifier()\n",
        "g_search = GridSearchCV(estimator = D_tree,\n",
        "                      param_grid = par,\n",
        "                      scoring = 'accuracy', cv=5)"
      ]
    },
    {
      "cell_type": "code",
      "execution_count": null,
      "metadata": {
        "id": "IKt3AdUVyVke"
      },
      "outputs": [],
      "source": [
        "#Fitting grid search\n",
        "g_search.fit(X_train, y_train)"
      ]
    },
    {
      "cell_type": "code",
      "execution_count": null,
      "metadata": {
        "id": "vCO1mL5wyVke"
      },
      "outputs": [],
      "source": [
        "# Getting best parameters\n",
        "dt1 = g_search.best_estimator_\n",
        "dt1 "
      ]
    },
    {
      "cell_type": "code",
      "execution_count": null,
      "metadata": {
        "id": "pRNd3zKhyVke"
      },
      "outputs": [],
      "source": [
        "# Instatiate desicion tree\n",
        "# Apply best parameters\n",
        "dt1 = DecisionTreeClassifier(max_depth = 10, min_samples_leaf = 5, min_samples_split=10, random_state = 42)\n",
        "dt1.fit(X_train, y_train)\n",
        "y_pred = dt1.predict(X_test)\n",
        "false_positive_rate, true_positive_rate, thresholds = roc_curve(y_test, y_pred, pos_label = 2)\n",
        "roc_auc = auc(false_positive_rate, true_positive_rate)\n",
        "roc_auc"
      ]
    },
    {
      "cell_type": "code",
      "execution_count": null,
      "metadata": {
        "id": "zp3JlejwyVke"
      },
      "outputs": [],
      "source": [
        "# Previous model performed better\n",
        "# I will now adjust more features\n",
        "dt2 =  BaggingClassifier(DecisionTreeClassifier(max_depth = 10, min_samples_leaf = 5, random_state = 42))\n",
        "dt2.fit(X_train, y_train)\n",
        "y_pred = dt2.predict(X_test)\n",
        "false_positive_rate, true_positive_rate, thresholds = roc_curve(y_test, y_pred, pos_label = 2)\n",
        "roc_auc = auc(false_positive_rate, true_positive_rate)\n",
        "roc_auc"
      ]
    },
    {
      "cell_type": "markdown",
      "metadata": {
        "id": "4nct4yDWyVke"
      },
      "source": [
        "### Decision Tree Train accuracy results\n",
        "-  Decision Tree model 1 = 75.10%\n",
        "-  Decision Tree model 2 = 73.88%\n",
        "- Decision Tree model 3 = 74.56%\n",
        "\n",
        "The first model performs better"
      ]
    },
    {
      "cell_type": "markdown",
      "metadata": {
        "id": "VNtRJhaZyVke"
      },
      "source": [
        "## 3.5 Logistic Regression\n",
        "\n",
        "- I will apply a standard scaler to transform the data and see if this would improve the accuracy"
      ]
    },
    {
      "cell_type": "code",
      "execution_count": null,
      "metadata": {
        "id": "84zIMoVxyVke"
      },
      "outputs": [],
      "source": [
        "# Instantiate scaler\n",
        "ss = StandardScaler()\n",
        "\n",
        "# Fit and transform train data\n",
        "X_train_scaled = ss.fit_transform(X_train)\n",
        "\n",
        "# Transform test data\n",
        "X_test_scaled = ss.transform(X_test)"
      ]
    },
    {
      "cell_type": "code",
      "execution_count": null,
      "metadata": {
        "id": "CZC6-hcOyVke"
      },
      "outputs": [],
      "source": [
        "#Fitting the model\n",
        "lr.fit(X_train_scaled, y_train)"
      ]
    },
    {
      "cell_type": "code",
      "execution_count": null,
      "metadata": {
        "id": "35QoqViYyVke"
      },
      "outputs": [],
      "source": [
        "# Get prediction\n",
        "ytrain_pred= lr.predict(X_train_scaled)\n",
        "ytest_pred = lr.predict(X_test_scaled)\n",
        "\n",
        "# Check the accuracy score\n",
        "print(accuracy_score(y_train, ytrain_pred))\n",
        "print(accuracy_score(y_test, ytest_pred))"
      ]
    },
    {
      "cell_type": "markdown",
      "metadata": {
        "id": "mwUZdanEyVke"
      },
      "source": [
        "### Classification Report\n",
        "- I will have a look at the classification report."
      ]
    },
    {
      "cell_type": "code",
      "execution_count": null,
      "metadata": {
        "id": "VekLftcAyVke"
      },
      "outputs": [],
      "source": [
        "probs = lr.predict_proba(X_test)\n",
        "\n",
        "\n",
        "print(\"log loss: \", log_loss(y_test, probs))\n",
        "print(\"accuracy: \", accuracy_score(y_test, y_pred))\n",
        "print(classification_report(y_test, y_pred, digits=3))"
      ]
    },
    {
      "cell_type": "markdown",
      "metadata": {
        "id": "7AEBvs_iyVkf"
      },
      "source": [
        "- While the second model performs better, from the F1-score there seems to be an imbalance of data.\n",
        "- I will employ SMOTE to correct this."
      ]
    },
    {
      "cell_type": "markdown",
      "metadata": {
        "id": "CxoxnH0ByVkf"
      },
      "source": [
        "### SMOTE"
      ]
    },
    {
      "cell_type": "code",
      "execution_count": null,
      "metadata": {
        "id": "dQ9vaTHWyVkf"
      },
      "outputs": [],
      "source": [
        "# #Using SMOTE to remove class imbalances\n",
        "sm = SMOTE(random_state=42)\n",
        "\n",
        "# Fit and transform X_train_scaled and y_train using sm\n",
        "X_train_smote, y_train_smote = sm.fit_resample(X_train_scaled, y_train)\n",
        "\n",
        "print(y_train_smote.value_counts())"
      ]
    },
    {
      "cell_type": "code",
      "execution_count": null,
      "metadata": {
        "id": "5rw1XAWbyVkf"
      },
      "outputs": [],
      "source": [
        "# insantiating the model with the best parameters from grid search\n",
        "lr_smote = lr\n",
        "\n",
        "# fitting the model to the smote train\n",
        "\n",
        "lr_smote.fit(X_train_smote, y_train_smote)\n",
        "\n",
        "# Get prediction\n",
        "ytest_pred = lr_smote.predict(X_test_scaled)\n",
        "\n",
        "# Check the accuracy score\n",
        "accuracy_score(y_test, ytest_pred)"
      ]
    },
    {
      "cell_type": "markdown",
      "metadata": {
        "id": "b2o7m0QCyVkf"
      },
      "source": [
        "### Logistic Regression test accuracy results\n",
        "- LR model 1 = 71.95%\n",
        "- LR model 2 = 72.57%\n",
        "- LR model 3 = 63.04%\n",
        "\n",
        "The second model performed better."
      ]
    },
    {
      "cell_type": "markdown",
      "metadata": {
        "id": "j7ohcKJCyVkf"
      },
      "source": [
        "## 3.6. Evaluation"
      ]
    },
    {
      "cell_type": "markdown",
      "metadata": {
        "id": "qNN7bMUDyVkf"
      },
      "source": [
        "- Choosing the model that has the best performance, I will instantiate a final model with these best parameters.\n"
      ]
    },
    {
      "cell_type": "code",
      "execution_count": null,
      "metadata": {
        "id": "AvU8tjw4yVkf"
      },
      "outputs": [],
      "source": [
        "# Replace None with appropriate code\n",
        "final_model = RandomForestClassifier(n_estimators = 36, min_samples_split = 5, \n",
        "                                 min_samples_leaf = 2, max_features = 'sqrt', max_depth = None, bootstrap = False,\n",
        "                                 random_state = 42)\n",
        "\n",
        "# Fit the model on the full training data\n",
        "final_model.fit(X_train, y_train)"
      ]
    },
    {
      "cell_type": "markdown",
      "metadata": {
        "id": "7noYA8nKyVkf"
      },
      "source": [
        "- I will now evaluate the log loss, accuracy, precision, and recall. "
      ]
    },
    {
      "cell_type": "code",
      "execution_count": null,
      "metadata": {
        "id": "8xPO3SsQyVkh"
      },
      "outputs": [],
      "source": [
        "preds = final_model.predict(X_test)\n",
        "probs = final_model.predict_proba(X_test)\n",
        "\n",
        "\n",
        "print(\"log loss: \", log_loss(y_test, probs))\n",
        "print(\"accuracy: \", accuracy_score(y_test, preds))\n",
        "#print(classification_report(y_test, preds, digits=3))"
      ]
    },
    {
      "cell_type": "markdown",
      "metadata": {
        "id": "8gkW_FEfyVkh"
      },
      "source": [
        "- From the final model, we can now run a feature importance.\n",
        "- This will help show which features matter most.\n",
        "- I will list the top 10"
      ]
    },
    {
      "cell_type": "code",
      "execution_count": null,
      "metadata": {
        "id": "FxAABSdoyVkh"
      },
      "outputs": [],
      "source": [
        "features = X_train.columns\n",
        "importances = final_model.feature_importances_\n",
        "indices = np.argsort(importances)[:10]\n",
        "\n",
        "# customized number \n",
        "num_features = 10 \n",
        "\n",
        "plt.figure(figsize=(10,10))\n",
        "plt.title('Feature Importances')\n",
        "plt.barh(range(len(indices)), importances[indices], color='b', align='center')\n",
        "plt.yticks(range(len(indices)), [features[i] for i in indices])\n",
        "plt.xlabel('Relative Importance')\n",
        "plt.show()"
      ]
    },
    {
      "cell_type": "markdown",
      "metadata": {
        "id": "NxKOVeVzyVkh"
      },
      "source": [
        "### Observation\n",
        "- From the feature importance some features standout.\n",
        "- Installer Danida stands out the most in key feature importance.\n",
        "- Several other factors stand out e.g. coloured water quality, other source types, management groups that fall under unknown.\n"
      ]
    },
    {
      "cell_type": "markdown",
      "metadata": {
        "id": "ATqI6EUXyVkh"
      },
      "source": [
        "# Interpretation\n",
        "\n",
        "##### dummy accuracy = 54.30%\n",
        "\n",
        "##### final model accuracy = 80.03% \n",
        "\n",
        "The model has a 80.03% accuracy which is an improvement from the dummy.\n"
      ]
    },
    {
      "cell_type": "markdown",
      "metadata": {
        "id": "DBnUgsELyVkh"
      },
      "source": [
        "# 4. Conclusion"
      ]
    },
    {
      "cell_type": "markdown",
      "metadata": {
        "id": "OIENYsRAyVkh"
      },
      "source": [
        "- The final model (RandonForest) at 80.03% is a good prediction model that is ready for deployment. \n",
        "- The accuracy provides great insights on conditions of waterpoints that will aid greatly in planning, prioritising and investment.\n",
        "- There are different qualities of water in the different functional pumps but most of them have soft water.\n",
        "- All waterpoints with that had huge investment costs are functional\n",
        "- Gravity and Hand pump water pumps are the most functional amongst communities.\n",
        "- It is concerning that there the number of non functional water pumps is a lot"
      ]
    },
    {
      "cell_type": "markdown",
      "metadata": {
        "id": "n9-DcYtuyVkh"
      },
      "source": [
        "# 5. Recommendations"
      ]
    },
    {
      "cell_type": "markdown",
      "metadata": {
        "id": "LGUK0k7syVkh"
      },
      "source": [
        "- With few functional waterpumps that need repairs, it would be a great investment opportunity to repair them before they turn non functional. The repair should however be accessed to know if it is cheaper repairing or having a new one.\n",
        "\n",
        "- Futher investigation should be done on the highly technical water pumps to understand if communities would need training to use them and if they are sustainable due to costs involved. e.g Fuel Purchase.\n",
        "\n",
        "- Priority could be placed on high population areas could be prioritised in more access to water and monitoring their waterpumps.\n",
        "\n",
        "- More research could be done to understand what causes waterpumps to be non functional. This could help avoid setting up new waterpumps in areas where there were already."
      ]
    }
  ],
  "metadata": {
    "kernelspec": {
      "display_name": "Python (learn-env)",
      "language": "python",
      "name": "learn-env"
    },
    "language_info": {
      "codemirror_mode": {
        "name": "ipython",
        "version": 3
      },
      "file_extension": ".py",
      "mimetype": "text/x-python",
      "name": "python",
      "nbconvert_exporter": "python",
      "pygments_lexer": "ipython3",
      "version": "3.8.5"
    },
    "colab": {
      "provenance": [],
      "include_colab_link": true
    }
  },
  "nbformat": 4,
  "nbformat_minor": 0
}