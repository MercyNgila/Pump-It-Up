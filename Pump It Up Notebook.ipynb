{
  "cells": [
    {
      "cell_type": "markdown",
      "metadata": {
        "id": "wcWmSkZUyVj5"
      },
      "source": [
        "# 1. Introduction"
      ]
    },
    {
      "cell_type": "markdown",
      "metadata": {
        "id": "t1X01ktKyVj8"
      },
      "source": [
        "In this Project, I will complete a machine learning workflow using classification solutions, including data preparation, modeling (including hyperparameter tuning), and final model evaluation."
      ]
    },
    {
      "cell_type": "markdown",
      "metadata": {
        "id": "oy1dxY8-yVj8"
      },
      "source": [
        "## 1.1. Business Understanding"
      ]
    },
    {
      "cell_type": "markdown",
      "metadata": {
        "id": "TlPwJPvByVj8"
      },
      "source": [
        "### 1.1.1. Problem\n",
        "\n",
        "Water shortage in Tanzania has been a problem for years now. The most affected are the rural areas. One out of six people lack access to safe drinking water in Tanzania (WHO/UNICEF, 2004). \n",
        "\n",
        "According to UNICEF, It is estimated that Tanzania spends 70 per cent of its health budget on preventable Water, Sanitation and Hygiene (WASH) related diseases as the majority of the population does not have access to improved sanitation, and close to half of the population does not have access to clean drinking water.\n",
        "\n",
        "As part of its Vision 2025, the Government of Tanzania has pledged to increase access to improved sanitation to 95 per cent by 2025. The Second Five Year Development Plan (FYDP II) has also set the target for access to improved sanitation facilities at 85 per cent in rural areas.\n",
        "\n",
        "UNICEF is working with the Tanzanian Government and development partners on four priority WASH areas:\n",
        " 1. To ensure access to improved sanitation and hygiene in rural and peri-urban communities.\n",
        " 2. Develop sustainable solutions for provision of WASH facilities in health and educational institutions.\n",
        " 3. Ensure sustainable and equitable access to safe drinking water in rural and periurban areas.\n",
        " 4. Provide effective response in emergencies to prevent the spread of diseases due to poor sanitation, unhygienic living conditions and unsafe drinking water.\n",
        "\n",
        "### 1.1.2. Aim\n",
        "There are many water wells already established across different parts of the country. \n",
        "\n",
        "To achieve the third priority WASH areas goal, there is need to know the conditions of the waterpumps in these water wells which would advice the best strategy moving forward.. Visiting each well to establish their conditions would be highly costly and time consuming. \n",
        "\n",
        "The Tanzanian Government in partnership with UNICEF has contracted my consulting company, Nangila Analytics, to create a machine learning (ML) model to predict conditions of waterpumps ranking them in three levels:\n",
        "- Functional\n",
        "- Non Functional\n",
        "- Functional needs repair\n",
        "\n",
        "This ML model will be used to choose the best strategy moving forward."
      ]
    },
    {
      "cell_type": "markdown",
      "metadata": {
        "id": "v3bQW27cyVj9"
      },
      "source": [
        "## 2.2. Objectives"
      ]
    },
    {
      "cell_type": "markdown",
      "metadata": {
        "id": "Ek2buz9wyVj-"
      },
      "source": [
        "- To build a ML model that predicts the conditions of water pumps with an acceptably high accuracy.\n",
        "- To compare different ML models predictions to achieve highest accuracy\n",
        "- Advice the client on best strategy"
      ]
    },
    {
      "cell_type": "markdown",
      "metadata": {
        "id": "qUnSFIZByVj-"
      },
      "source": [
        "# 1.2. Data Understanding"
      ]
    },
    {
      "cell_type": "markdown",
      "metadata": {
        "id": "tnpyIFNFyVj_"
      },
      "source": [
        "The data that I will use for this project contains information on 59,400 waterpoints and comes from the Taarifa waterpoints dashboard, which has been aggregated from the Tanzania Ministry of Water.\n",
        "\n",
        "Taarifa is an open source platform for the crowd sourced reporting and triaging of infrastructure related issues. It acts a a bug tracker for real world which helps to engage citizens with their local government. It has been working on an Innovation Project in Tanzania, with various partners.\n",
        "\n",
        "There are three datasets for this project:\n",
        " 1. Training set labels \n",
        " 2. Training set values \n",
        " 3. Test set values \n",
        "\n",
        "For this project I will use datasets 1 & 2. \n",
        "\n",
        "The target variable will be status_group which details the functionality of waterpoints.\n",
        "\n",
        "Features include:\n",
        "\n",
        "- amount_tsh           - Total static head (amount water available to waterpoint)\n",
        "- date_recorded         - The date the row was entered\n",
        "- funder                - Who funded the well\n",
        "- gps_height            - Altitude of the well\n",
        "- installer             - Organization that installed the well\n",
        "- longitude             - GPS coordinate\n",
        "- latitude              - GPS coordinate\n",
        "- wpt_name              - Name of the waterpoint if there is one\n",
        "- num_private           - No description\n",
        "- basin                 - Geographic water basin\n",
        "- subvillage            - Geographic location\n",
        "- region                - Geographic location\n",
        "- region_code           - Geographic location (coded)\n",
        "- district_code         - Geographic location (coded)\n",
        "- lga                   - Geographic location\n",
        "- ward                  - Geographic location\n",
        "- population            - Population around the well\n",
        "- public_meeting        - True/False\n",
        "- recorded_by           - Group entering this row of data\n",
        "- scheme_management     - Who operates the waterpoint\n",
        "- scheme_name           - Who operates the waterpoint\n",
        "- permit                - If the waterpoint is permitted\n",
        "- construction_year     - Year the waterpoint was constructed\n",
        "- extraction_type       - The kind of extraction the waterpoint uses\n",
        "- extraction_type_group - The kind of extraction the waterpoint uses\n",
        "- extraction_type_class - The kind of extraction the waterpoint uses\n",
        "- management            - How the waterpoint is managed\n",
        "- management_group      - How the waterpoint is managed\n",
        "- payment               - What the water costs\n",
        "- payment_type          - What the water costs\n",
        "- water_quality         - The quality of the water\n",
        "- quality_group         - The quality of the water\n",
        "- quantity              - The quantity of water\n",
        "- quantity_group        - The quantity of water\n",
        "- source                - The source of the water\n",
        "- source_type           - The source of the water\n",
        "- source_class          - The source of the water\n",
        "- waterpoint_type       - The kind of waterpoint\n",
        "- waterpoint_type_group - The kind of waterpoint\n",
        "\n",
        "\n",
        "\n"
      ]
    },
    {
      "cell_type": "markdown",
      "metadata": {
        "id": "GRtlpoabyVkA"
      },
      "source": [
        "## 1.3. Requirements"
      ]
    },
    {
      "cell_type": "markdown",
      "metadata": {
        "id": "fGIjar2eyVkA"
      },
      "source": [
        "1. Data Preparation\n",
        "       - Loading Libraries\n",
        "       - Loading data\n",
        "       - Descriptive Exploration\n",
        "       - Data Cleaning\n",
        "       - Exploratory Descriptive Analysis (EDA)\n",
        "       - Pre-processing Data\n",
        "2.  Modelling\n",
        "        - Train test split\n",
        "        - Baseline Model\n",
        "        - Random Forest\n",
        "        - Decision Tree\n",
        "        - Logistic Regression\n",
        "        - Evaluation\n",
        "4.  Conclusion\n",
        "5.  Recommendation"
      ]
    },
    {
      "cell_type": "markdown",
      "metadata": {
        "id": "EpTfAa4ByVkA"
      },
      "source": [
        "## 2. Data Preparation"
      ]
    },
    {
      "cell_type": "markdown",
      "metadata": {
        "id": "__21rF1-yVkB"
      },
      "source": [
        "## 2.1. Loading Libraries\n",
        "- Loading all relevant libraries for this notebook"
      ]
    },
    {
      "cell_type": "code",
      "source": [
        "from google.colab import drive\n",
        "drive.mount('/content/drive')"
      ],
      "metadata": {
        "colab": {
          "base_uri": "https://localhost:8080/"
        },
        "id": "ROKSoGMV1-QO",
        "outputId": "d13544f3-a911-4e60-e5dc-db2cb2e6ad09"
      },
      "execution_count": 14,
      "outputs": [
        {
          "output_type": "stream",
          "name": "stdout",
          "text": [
            "Drive already mounted at /content/drive; to attempt to forcibly remount, call drive.mount(\"/content/drive\", force_remount=True).\n"
          ]
        }
      ]
    },
    {
      "cell_type": "code",
      "execution_count": null,
      "metadata": {
        "id": "PhOAzCCfyVkB"
      },
      "outputs": [],
      "source": [
        "#load relevant libraries\n",
        "import pandas as pd\n",
        "import matplotlib.pyplot as plt\n",
        "%matplotlib inline\n",
        "import seaborn as sns\n",
        "import plotly.express as px\n",
        "import warnings\n",
        "warnings.simplefilter(\"ignore\")\n",
        "import numpy as np\n",
        "from imblearn.over_sampling import SMOTE\n",
        "from sklearn.naive_bayes import GaussianNB\n",
        "from sklearn.tree import DecisionTreeClassifier\n",
        "from sklearn.preprocessing import StandardScaler\n",
        "from sklearn.neighbors import KNeighborsClassifier\n",
        "from sklearn.linear_model import LogisticRegression\n",
        "from sklearn.metrics import accuracy_score, precision_score, recall_score,f1_score, classification_report\n",
        "from sklearn.metrics import log_loss, accuracy_score, roc_curve, auc, plot_confusion_matrix\n",
        "from sklearn.ensemble import RandomForestClassifier, BaggingClassifier, RandomForestRegressor\n",
        "from sklearn.model_selection import cross_val_score, RandomizedSearchCV, train_test_split, GridSearchCV"
      ]
    },
    {
      "cell_type": "markdown",
      "metadata": {
        "id": "gRkIL1zGyVkC"
      },
      "source": [
        "## 2.2. Loading Datasets\n",
        "- Loading datasets"
      ]
    },
    {
      "cell_type": "code",
      "execution_count": null,
      "metadata": {
        "id": "Bz54HtFryVkC"
      },
      "outputs": [],
      "source": [
        "# Loading datasets\n",
        "train_values = pd.read_csv('/content/drive/MyDrive/Github Data/pumpit_training_set.csv')\n",
        "train_labels = pd.read_csv('/content/drive/MyDrive/Github Data/pumpit_training_labels.csv')"
      ]
    },
    {
      "cell_type": "markdown",
      "metadata": {
        "id": "AbtCfMx0yVkC"
      },
      "source": [
        "## 2.3 Explore dataframes\n",
        "- Descriptive exploration of data"
      ]
    },
    {
      "cell_type": "code",
      "execution_count": null,
      "metadata": {
        "id": "o0sNCmqIyVkC"
      },
      "outputs": [],
      "source": [
        "# Expand view of dataframe\n",
        "pd.set_option('display.max_columns', None)\n",
        "# Check head of dataframe\n",
        "train_values.head(3)"
      ]
    },
    {
      "cell_type": "code",
      "execution_count": null,
      "metadata": {
        "id": "9JL32SbxyVkC"
      },
      "outputs": [],
      "source": [
        "# Check head of dataframe\n",
        "train_labels.head(3)"
      ]
    },
    {
      "cell_type": "code",
      "source": [
        "# Merge dataframes\n",
        "train = train_values.merge(train_labels, how = 'inner')"
      ],
      "metadata": {
        "id": "ogkQA-H844jq"
      },
      "execution_count": null,
      "outputs": []
    },
    {
      "cell_type": "markdown",
      "metadata": {
        "id": "aOsSKU_IyVkD"
      },
      "source": [
        "#### Observation\n",
        "- There seems to be duplicated columns with same information but different column names in the dataframe."
      ]
    },
    {
      "cell_type": "code",
      "execution_count": null,
      "metadata": {
        "id": "UNYroZOcyVkE"
      },
      "outputs": [],
      "source": [
        "#Check dataframe shapes\n",
        "print('Train:', train.shape)"
      ]
    },
    {
      "cell_type": "code",
      "execution_count": null,
      "metadata": {
        "id": "ANnq8D3XyVkE"
      },
      "outputs": [],
      "source": [
        "# Chech train dataframe information\n",
        "train.info()"
      ]
    },
    {
      "cell_type": "code",
      "execution_count": null,
      "metadata": {
        "id": "TZXdyEmZyVkE"
      },
      "outputs": [],
      "source": [
        "# Check train dataframe description\n",
        "train.describe().T"
      ]
    },
    {
      "cell_type": "markdown",
      "metadata": {
        "id": "nft2tKUmyVkE"
      },
      "source": [
        "## 2.4. Data Cleaning"
      ]
    },
    {
      "cell_type": "markdown",
      "metadata": {
        "id": "nx2PgJw5yVkF"
      },
      "source": [
        "To use my data for medelling, I will have to employ data cleaning methods to make it ready and suitable.\n",
        "Methods to be employed are :\n",
        "\n",
        "- Consistency\n",
        "- Validity\n",
        "- Completeness\n",
        "- Collinearity\n"
      ]
    },
    {
      "cell_type": "markdown",
      "metadata": {
        "id": "JHAcfnqNyVkF"
      },
      "source": [
        "## 2.4.1. Consistency\n",
        "- Checking to see there are any duplicates both in rows and in columns."
      ]
    },
    {
      "cell_type": "code",
      "execution_count": null,
      "metadata": {
        "id": "tvEB13bgyVkF"
      },
      "outputs": [],
      "source": [
        "# Checking for duplicates in rows\n",
        "# With id as a unique identifier it makes it easier to identify duplicates\n",
        "print(f'There are {train.duplicated().sum()} duplicates')"
      ]
    },
    {
      "cell_type": "code",
      "execution_count": 24,
      "metadata": {
        "id": "qiyPXM_ryVkF"
      },
      "outputs": [],
      "source": [
        "#drop all duplicates in rows\n",
        "train.drop_duplicates(inplace=True)"
      ]
    },
    {
      "cell_type": "code",
      "execution_count": 25,
      "metadata": {
        "colab": {
          "base_uri": "https://localhost:8080/"
        },
        "id": "2fbf-U_ZyVkF",
        "outputId": "f6df4235-7981-4316-8778-73f152ef9fbe"
      },
      "outputs": [
        {
          "output_type": "execute_result",
          "data": {
            "text/plain": [
              "False"
            ]
          },
          "metadata": {},
          "execution_count": 25
        }
      ],
      "source": [
        "# Confirming all duplicates are dropped\n",
        "train.duplicated().any()"
      ]
    },
    {
      "cell_type": "markdown",
      "metadata": {
        "id": "5KWkfLxtyVkF"
      },
      "source": [
        "As mentioned earlier there are columns that seem to have repeated information.\n",
        "I will explore these columns to assertain if they are indeed duplicated then drop some of them."
      ]
    },
    {
      "cell_type": "code",
      "execution_count": 26,
      "metadata": {
        "colab": {
          "base_uri": "https://localhost:8080/"
        },
        "id": "MgmydeJUyVkF",
        "outputId": "918edf3c-6bd2-4dc4-e7df-31f864e5bae0"
      },
      "outputs": [
        {
          "output_type": "execute_result",
          "data": {
            "text/plain": [
              "id                       59400\n",
              "amount_tsh                  98\n",
              "date_recorded              356\n",
              "funder                    1898\n",
              "gps_height                2428\n",
              "installer                 2146\n",
              "longitude                57516\n",
              "latitude                 57517\n",
              "wpt_name                 37400\n",
              "num_private                 65\n",
              "basin                        9\n",
              "subvillage               19288\n",
              "region                      21\n",
              "region_code                 27\n",
              "district_code               20\n",
              "lga                        125\n",
              "ward                      2092\n",
              "population                1049\n",
              "public_meeting               3\n",
              "recorded_by                  1\n",
              "scheme_management           13\n",
              "scheme_name               2697\n",
              "permit                       3\n",
              "construction_year           55\n",
              "extraction_type             18\n",
              "extraction_type_group       13\n",
              "extraction_type_class        7\n",
              "management                  12\n",
              "management_group             5\n",
              "payment                      7\n",
              "payment_type                 7\n",
              "water_quality                8\n",
              "quality_group                6\n",
              "quantity                     5\n",
              "quantity_group               5\n",
              "source                      10\n",
              "source_type                  7\n",
              "source_class                 3\n",
              "waterpoint_type              7\n",
              "waterpoint_type_group        6\n",
              "status_group                 3\n",
              "dtype: int64"
            ]
          },
          "metadata": {},
          "execution_count": 26
        }
      ],
      "source": [
        "# Get unique values for columns\n",
        "train.apply(lambda x: len(x.unique()))"
      ]
    },
    {
      "cell_type": "markdown",
      "metadata": {
        "id": "RKfjjkk8yVkG"
      },
      "source": [
        "#### Waterpoint"
      ]
    },
    {
      "cell_type": "code",
      "execution_count": 27,
      "metadata": {
        "colab": {
          "base_uri": "https://localhost:8080/"
        },
        "id": "rxWvTPzZyVkG",
        "outputId": "12cc39c0-1588-4631-b69c-5579886fc407"
      },
      "outputs": [
        {
          "output_type": "execute_result",
          "data": {
            "text/plain": [
              "communal standpipe             28522\n",
              "hand pump                      17488\n",
              "other                           6380\n",
              "communal standpipe multiple     6103\n",
              "improved spring                  784\n",
              "cattle trough                    116\n",
              "dam                                7\n",
              "Name: waterpoint_type, dtype: int64"
            ]
          },
          "metadata": {},
          "execution_count": 27
        }
      ],
      "source": [
        "# Check value counts\n",
        "train['waterpoint_type'].value_counts()"
      ]
    },
    {
      "cell_type": "code",
      "execution_count": 28,
      "metadata": {
        "colab": {
          "base_uri": "https://localhost:8080/"
        },
        "id": "rLgejIU1yVkG",
        "outputId": "dbce1d35-6e6b-473a-c332-07d64d8d9409"
      },
      "outputs": [
        {
          "output_type": "execute_result",
          "data": {
            "text/plain": [
              "communal standpipe    34625\n",
              "hand pump             17488\n",
              "other                  6380\n",
              "improved spring         784\n",
              "cattle trough           116\n",
              "dam                       7\n",
              "Name: waterpoint_type_group, dtype: int64"
            ]
          },
          "metadata": {},
          "execution_count": 28
        }
      ],
      "source": [
        "# Check value counts\n",
        "train['waterpoint_type_group'].value_counts()"
      ]
    },
    {
      "cell_type": "code",
      "execution_count": 29,
      "metadata": {
        "id": "vtgZi1PtyVkG"
      },
      "outputs": [],
      "source": [
        "# Both columns have the same data\n",
        "# Communal standpipe and standpipe multiple are merged in waterpoint type group\n",
        "# I will drop one of the columns. \n",
        "train = train.drop(['waterpoint_type'],axis=1)"
      ]
    },
    {
      "cell_type": "markdown",
      "metadata": {
        "id": "cJ0WhyLHyVkG"
      },
      "source": [
        "#### Source"
      ]
    },
    {
      "cell_type": "code",
      "execution_count": 30,
      "metadata": {
        "colab": {
          "base_uri": "https://localhost:8080/"
        },
        "id": "WjzUZY2-yVkG",
        "outputId": "fdd7ec9f-5053-41ca-8127-b53e53662ad2"
      },
      "outputs": [
        {
          "output_type": "execute_result",
          "data": {
            "text/plain": [
              "spring                  17021\n",
              "shallow well            16824\n",
              "machine dbh             11075\n",
              "river                    9612\n",
              "rainwater harvesting     2295\n",
              "hand dtw                  874\n",
              "lake                      765\n",
              "dam                       656\n",
              "other                     212\n",
              "unknown                    66\n",
              "Name: source, dtype: int64"
            ]
          },
          "metadata": {},
          "execution_count": 30
        }
      ],
      "source": [
        "# Check value counts\n",
        "train['source'].value_counts()"
      ]
    },
    {
      "cell_type": "code",
      "execution_count": 31,
      "metadata": {
        "colab": {
          "base_uri": "https://localhost:8080/"
        },
        "id": "8siTQPr4yVkH",
        "outputId": "3f6db097-28dc-4537-aa60-8f38323ba8f9"
      },
      "outputs": [
        {
          "output_type": "execute_result",
          "data": {
            "text/plain": [
              "spring                  17021\n",
              "shallow well            16824\n",
              "borehole                11949\n",
              "river/lake              10377\n",
              "rainwater harvesting     2295\n",
              "dam                       656\n",
              "other                     278\n",
              "Name: source_type, dtype: int64"
            ]
          },
          "metadata": {},
          "execution_count": 31
        }
      ],
      "source": [
        "# Check value counts\n",
        "train['source_type'].value_counts()"
      ]
    },
    {
      "cell_type": "code",
      "execution_count": 32,
      "metadata": {
        "colab": {
          "base_uri": "https://localhost:8080/"
        },
        "id": "JyVhgD8ayVkH",
        "outputId": "834fdfec-2b07-4f7a-c4ae-b749549e33dc"
      },
      "outputs": [
        {
          "output_type": "execute_result",
          "data": {
            "text/plain": [
              "groundwater    45794\n",
              "surface        13328\n",
              "unknown          278\n",
              "Name: source_class, dtype: int64"
            ]
          },
          "metadata": {},
          "execution_count": 32
        }
      ],
      "source": [
        "# Check value counts\n",
        "train['source_class'].value_counts()"
      ]
    },
    {
      "cell_type": "code",
      "execution_count": 33,
      "metadata": {
        "id": "tTBAZ6f2yVkO"
      },
      "outputs": [],
      "source": [
        "# Source and source type have similar data \n",
        "# Some values are merged in the source type column\n",
        "# I will drop one of the columns\n",
        "train = train.drop(['source'],axis=1)"
      ]
    },
    {
      "cell_type": "markdown",
      "metadata": {
        "id": "l2Wu2PzuyVkP"
      },
      "source": [
        "#### Quantity"
      ]
    },
    {
      "cell_type": "code",
      "execution_count": 34,
      "metadata": {
        "colab": {
          "base_uri": "https://localhost:8080/"
        },
        "id": "SynalXESyVkP",
        "outputId": "ded1e767-b339-4451-fabe-c2e37f4bf183"
      },
      "outputs": [
        {
          "output_type": "execute_result",
          "data": {
            "text/plain": [
              "enough          33186\n",
              "insufficient    15129\n",
              "dry              6246\n",
              "seasonal         4050\n",
              "unknown           789\n",
              "Name: quantity, dtype: int64"
            ]
          },
          "metadata": {},
          "execution_count": 34
        }
      ],
      "source": [
        "# Check value counts\n",
        "train['quantity'].value_counts()"
      ]
    },
    {
      "cell_type": "code",
      "execution_count": 35,
      "metadata": {
        "colab": {
          "base_uri": "https://localhost:8080/"
        },
        "id": "mKHaP_MlyVkP",
        "outputId": "5c165020-0e0b-4d5b-d4da-4529213f4ec7"
      },
      "outputs": [
        {
          "output_type": "execute_result",
          "data": {
            "text/plain": [
              "enough          33186\n",
              "insufficient    15129\n",
              "dry              6246\n",
              "seasonal         4050\n",
              "unknown           789\n",
              "Name: quantity_group, dtype: int64"
            ]
          },
          "metadata": {},
          "execution_count": 35
        }
      ],
      "source": [
        "# Check value counts\n",
        "train['quantity_group'].value_counts()"
      ]
    },
    {
      "cell_type": "code",
      "execution_count": 36,
      "metadata": {
        "id": "am-tTLGuyVkP"
      },
      "outputs": [],
      "source": [
        "# Both columns have the same data\n",
        "# I will drop one of the columns. \n",
        "train = train.drop(['quantity_group'],axis=1)"
      ]
    },
    {
      "cell_type": "markdown",
      "metadata": {
        "id": "ZqlqJ_NwyVkQ"
      },
      "source": [
        "#### Quality"
      ]
    },
    {
      "cell_type": "code",
      "execution_count": 37,
      "metadata": {
        "colab": {
          "base_uri": "https://localhost:8080/"
        },
        "id": "n-J-R0nAyVkQ",
        "outputId": "7e21fa65-6250-4661-fcd1-0a0773982a11"
      },
      "outputs": [
        {
          "output_type": "execute_result",
          "data": {
            "text/plain": [
              "soft                  50818\n",
              "salty                  4856\n",
              "unknown                1876\n",
              "milky                   804\n",
              "coloured                490\n",
              "salty abandoned         339\n",
              "fluoride                200\n",
              "fluoride abandoned       17\n",
              "Name: water_quality, dtype: int64"
            ]
          },
          "metadata": {},
          "execution_count": 37
        }
      ],
      "source": [
        "# Check value counts\n",
        "train['water_quality'].value_counts()"
      ]
    },
    {
      "cell_type": "code",
      "execution_count": 38,
      "metadata": {
        "colab": {
          "base_uri": "https://localhost:8080/"
        },
        "id": "VVXEmDP0yVkQ",
        "outputId": "3a374216-3ab2-432f-fb47-fd65b1d26051"
      },
      "outputs": [
        {
          "output_type": "execute_result",
          "data": {
            "text/plain": [
              "good        50818\n",
              "salty        5195\n",
              "unknown      1876\n",
              "milky         804\n",
              "colored       490\n",
              "fluoride      217\n",
              "Name: quality_group, dtype: int64"
            ]
          },
          "metadata": {},
          "execution_count": 38
        }
      ],
      "source": [
        "# Check value counts\n",
        "train['quality_group'].value_counts()"
      ]
    },
    {
      "cell_type": "code",
      "execution_count": 39,
      "metadata": {
        "id": "0RP_607SyVkR"
      },
      "outputs": [],
      "source": [
        "# Source and source type have similar data \n",
        "# Some values are merged in the quality group column\n",
        "# I will drop one of the columns\n",
        "train = train.drop(['quality_group'],axis=1)"
      ]
    },
    {
      "cell_type": "markdown",
      "metadata": {
        "id": "ZYjCTjocyVkR"
      },
      "source": [
        "#### Payment"
      ]
    },
    {
      "cell_type": "code",
      "execution_count": 40,
      "metadata": {
        "colab": {
          "base_uri": "https://localhost:8080/"
        },
        "id": "hUEh5fugyVkR",
        "outputId": "57612e65-27fb-42cb-8caa-fb2aa271947f"
      },
      "outputs": [
        {
          "output_type": "execute_result",
          "data": {
            "text/plain": [
              "never pay                25348\n",
              "pay per bucket            8985\n",
              "pay monthly               8300\n",
              "unknown                   8157\n",
              "pay when scheme fails     3914\n",
              "pay annually              3642\n",
              "other                     1054\n",
              "Name: payment, dtype: int64"
            ]
          },
          "metadata": {},
          "execution_count": 40
        }
      ],
      "source": [
        "# Check value counts\n",
        "train['payment'].value_counts()"
      ]
    },
    {
      "cell_type": "code",
      "execution_count": 41,
      "metadata": {
        "colab": {
          "base_uri": "https://localhost:8080/"
        },
        "id": "1pFTbBHByVkR",
        "outputId": "ed9f80ba-1659-475a-e91d-f96665568748"
      },
      "outputs": [
        {
          "output_type": "execute_result",
          "data": {
            "text/plain": [
              "never pay     25348\n",
              "per bucket     8985\n",
              "monthly        8300\n",
              "unknown        8157\n",
              "on failure     3914\n",
              "annually       3642\n",
              "other          1054\n",
              "Name: payment_type, dtype: int64"
            ]
          },
          "metadata": {},
          "execution_count": 41
        }
      ],
      "source": [
        "# Check value counts\n",
        "train['payment_type'].value_counts()"
      ]
    },
    {
      "cell_type": "code",
      "execution_count": 42,
      "metadata": {
        "id": "g9Peo18TyVkR"
      },
      "outputs": [],
      "source": [
        "# Both columns have the same data\n",
        "# I will drop one of the columns. \n",
        "train = train.drop(['payment'],axis=1)"
      ]
    },
    {
      "cell_type": "markdown",
      "metadata": {
        "id": "1p4gp3EJyVkR"
      },
      "source": [
        "#### Management"
      ]
    },
    {
      "cell_type": "code",
      "execution_count": 43,
      "metadata": {
        "colab": {
          "base_uri": "https://localhost:8080/"
        },
        "id": "AXoLmPRtyVkR",
        "outputId": "f1eb546b-a697-4bea-a5ab-a1b97cd72716"
      },
      "outputs": [
        {
          "output_type": "execute_result",
          "data": {
            "text/plain": [
              "vwc                 40507\n",
              "wug                  6515\n",
              "water board          2933\n",
              "wua                  2535\n",
              "private operator     1971\n",
              "parastatal           1768\n",
              "water authority       904\n",
              "other                 844\n",
              "company               685\n",
              "unknown               561\n",
              "other - school         99\n",
              "trust                  78\n",
              "Name: management, dtype: int64"
            ]
          },
          "metadata": {},
          "execution_count": 43
        }
      ],
      "source": [
        "# Check value counts\n",
        "train['management'].value_counts()"
      ]
    },
    {
      "cell_type": "code",
      "execution_count": 44,
      "metadata": {
        "colab": {
          "base_uri": "https://localhost:8080/"
        },
        "id": "RWk__8mKyVkR",
        "outputId": "3967f512-4e8e-4995-ad1b-878062c295a8"
      },
      "outputs": [
        {
          "output_type": "execute_result",
          "data": {
            "text/plain": [
              "user-group    52490\n",
              "commercial     3638\n",
              "parastatal     1768\n",
              "other           943\n",
              "unknown         561\n",
              "Name: management_group, dtype: int64"
            ]
          },
          "metadata": {},
          "execution_count": 44
        }
      ],
      "source": [
        "# Check value counts\n",
        "train['management_group'].value_counts()"
      ]
    },
    {
      "cell_type": "code",
      "execution_count": 45,
      "metadata": {
        "id": "MAFR1H3ByVkR"
      },
      "outputs": [],
      "source": [
        "# Source and source type have similar data \n",
        "# Some values are merged in the management group column\n",
        "# I will drop one of the columns\n",
        "train = train.drop(['management'],axis=1)"
      ]
    },
    {
      "cell_type": "markdown",
      "metadata": {
        "id": "ZY5eNcYgyVkR"
      },
      "source": [
        "#### Extraction"
      ]
    },
    {
      "cell_type": "code",
      "execution_count": 46,
      "metadata": {
        "colab": {
          "base_uri": "https://localhost:8080/"
        },
        "id": "MqJ2muDFyVkR",
        "outputId": "9af3e5ac-07fa-4d43-8e3b-2f7019707a3c"
      },
      "outputs": [
        {
          "output_type": "execute_result",
          "data": {
            "text/plain": [
              "gravity                      26780\n",
              "nira/tanira                   8154\n",
              "other                         6430\n",
              "submersible                   4764\n",
              "swn 80                        3670\n",
              "mono                          2865\n",
              "india mark ii                 2400\n",
              "afridev                       1770\n",
              "ksb                           1415\n",
              "other - rope pump              451\n",
              "other - swn 81                 229\n",
              "windmill                       117\n",
              "india mark iii                  98\n",
              "cemo                            90\n",
              "other - play pump               85\n",
              "walimi                          48\n",
              "climax                          32\n",
              "other - mkulima/shinyanga        2\n",
              "Name: extraction_type, dtype: int64"
            ]
          },
          "metadata": {},
          "execution_count": 46
        }
      ],
      "source": [
        "# Check value counts\n",
        "train['extraction_type'].value_counts()"
      ]
    },
    {
      "cell_type": "code",
      "execution_count": 47,
      "metadata": {
        "colab": {
          "base_uri": "https://localhost:8080/"
        },
        "id": "x_R_0i0zyVkR",
        "outputId": "eb4e29e8-3f9b-4bba-9996-b7625e8a6333"
      },
      "outputs": [
        {
          "output_type": "execute_result",
          "data": {
            "text/plain": [
              "gravity            26780\n",
              "nira/tanira         8154\n",
              "other               6430\n",
              "submersible         6179\n",
              "swn 80              3670\n",
              "mono                2865\n",
              "india mark ii       2400\n",
              "afridev             1770\n",
              "rope pump            451\n",
              "other handpump       364\n",
              "other motorpump      122\n",
              "wind-powered         117\n",
              "india mark iii        98\n",
              "Name: extraction_type_group, dtype: int64"
            ]
          },
          "metadata": {},
          "execution_count": 47
        }
      ],
      "source": [
        "# Check value counts\n",
        "train['extraction_type_group'].value_counts()"
      ]
    },
    {
      "cell_type": "code",
      "execution_count": 48,
      "metadata": {
        "colab": {
          "base_uri": "https://localhost:8080/"
        },
        "id": "6b37uFYzyVkR",
        "outputId": "4877cac6-fca9-4cc9-e1d1-4a2b0c3f82e0"
      },
      "outputs": [
        {
          "output_type": "execute_result",
          "data": {
            "text/plain": [
              "gravity         26780\n",
              "handpump        16456\n",
              "other            6430\n",
              "submersible      6179\n",
              "motorpump        2987\n",
              "rope pump         451\n",
              "wind-powered      117\n",
              "Name: extraction_type_class, dtype: int64"
            ]
          },
          "metadata": {},
          "execution_count": 48
        }
      ],
      "source": [
        "# Check value counts\n",
        "train['extraction_type_class'].value_counts()"
      ]
    },
    {
      "cell_type": "code",
      "execution_count": 49,
      "metadata": {
        "id": "cW8ioHxsyVkS"
      },
      "outputs": [],
      "source": [
        "# Source and source type have similar data \n",
        "# Some values are merged in the extraction type class column\n",
        "# I will drop two of the columns\n",
        "train = train.drop(['extraction_type', 'extraction_type_group'],axis=1)"
      ]
    },
    {
      "cell_type": "markdown",
      "metadata": {
        "id": "wDDqYgj4yVkS"
      },
      "source": [
        "#### Geography"
      ]
    },
    {
      "cell_type": "code",
      "execution_count": 50,
      "metadata": {
        "id": "XYd0WosYyVkS"
      },
      "outputs": [],
      "source": [
        "# There are too many columns representing geographical data\n",
        "# e.g. gps_height, longitude, latitude, region_code and district_code\n",
        "# These are less likely to add any predictive power to the model\n",
        "# I will drop some of these columns\n",
        "train = train.drop(['gps_height', 'region_code', 'district_code', 'ward'], axis=1)"
      ]
    },
    {
      "cell_type": "markdown",
      "metadata": {
        "id": "TpNdZc5FyVkS"
      },
      "source": [
        "## 2.4.2. Validity\n",
        "- Check to see if all the columns in the dataset are valid/useful for this analysis\n",
        "- Dropping any that isn't useful."
      ]
    },
    {
      "cell_type": "markdown",
      "metadata": {
        "id": "M7RLMCSlyVkS"
      },
      "source": [
        "#### num_private and wpt_name\n",
        "\n",
        "- 'num_private' hasn't been given a description on Driven Data, it appears to be superflous.\n",
        "- 'wpt_name' gives only waterpoint name. It does not seem relevant in prediction\n",
        "-  I will drop these columns"
      ]
    },
    {
      "cell_type": "code",
      "execution_count": 51,
      "metadata": {
        "id": "NoDIjaeYyVkS"
      },
      "outputs": [],
      "source": [
        "# Drop columns\n",
        "train = train.drop(['num_private', 'wpt_name'], axis=1)"
      ]
    },
    {
      "cell_type": "markdown",
      "metadata": {
        "id": "3M2q-H2syVkS"
      },
      "source": [
        "#### recorded_by\n",
        "- The values in this column are same. \n",
        "- There is no point to go forward with this column."
      ]
    },
    {
      "cell_type": "code",
      "execution_count": 52,
      "metadata": {
        "colab": {
          "base_uri": "https://localhost:8080/"
        },
        "id": "s3YXZJAmyVkS",
        "outputId": "5624e4b3-5bf3-4bbf-8ba4-07678f8d7a5d"
      },
      "outputs": [
        {
          "output_type": "execute_result",
          "data": {
            "text/plain": [
              "GeoData Consultants Ltd    59400\n",
              "Name: recorded_by, dtype: int64"
            ]
          },
          "metadata": {},
          "execution_count": 52
        }
      ],
      "source": [
        "# Check value counts\n",
        "train['recorded_by'].value_counts()"
      ]
    },
    {
      "cell_type": "code",
      "execution_count": 53,
      "metadata": {
        "id": "Nbtj2_nJyVkS"
      },
      "outputs": [],
      "source": [
        "# Drop column\n",
        "train = train.drop(['recorded_by'],axis=1)"
      ]
    },
    {
      "cell_type": "markdown",
      "metadata": {
        "id": "ZURgNa--yVkS"
      },
      "source": [
        "#### Construction Year\n",
        "\n",
        "- I will turn construction_year into a categorical column containing the following values: '60s', '70s','80s', '90s, '00s', '10s', 'unknown'."
      ]
    },
    {
      "cell_type": "code",
      "execution_count": 54,
      "metadata": {
        "id": "BV3cimgVyVkS"
      },
      "outputs": [],
      "source": [
        "# Define a grouping function\n",
        "def construction_grouping(row):\n",
        "    if row['construction_year'] >= 1960 and row['construction_year'] < 1970:\n",
        "        return '60s'\n",
        "    elif row['construction_year'] >= 1970 and row['construction_year'] < 1980:\n",
        "        return '70s'\n",
        "    elif row['construction_year'] >= 1980 and row['construction_year'] < 1990:\n",
        "        return '80s'\n",
        "    elif row['construction_year'] >= 1990 and row['construction_year'] < 2000:\n",
        "        return '90s'\n",
        "    elif row['construction_year'] >= 2000 and row['construction_year'] < 2010:\n",
        "        return '00s'\n",
        "    elif row['construction_year'] >= 2010:\n",
        "        return '10s'\n",
        "    else:\n",
        "        return 'unknown'\n",
        "    \n",
        "train['construction_year'] = train.apply(lambda row: construction_grouping(row), axis=1)"
      ]
    },
    {
      "cell_type": "markdown",
      "metadata": {
        "id": "G68_v2ggyVkS"
      },
      "source": [
        "#### Date recorded\n",
        "- Date recorded is in object form.\n",
        "- I will convert 'date_recorded' into records of days since it was recorded"
      ]
    },
    {
      "cell_type": "code",
      "execution_count": 55,
      "metadata": {
        "id": "9hF_NNZ3yVkS"
      },
      "outputs": [],
      "source": [
        "# Get days from since recorded\n",
        "train.date_recorded = pd.datetime(2013, 12, 3) - pd.to_datetime(train.date_recorded)\n",
        "train.columns = ['days_since_recorded' if x=='date_recorded' else x for x in train.columns]\n",
        "train.days_since_recorded = train.days_since_recorded.astype('timedelta64[D]').astype(int)"
      ]
    },
    {
      "cell_type": "markdown",
      "metadata": {
        "id": "wQ3bzEkdyVkS"
      },
      "source": [
        "## 2.4.3. Completeness\n",
        "- Check to see if there are any missing/null values, and impute them."
      ]
    },
    {
      "cell_type": "code",
      "execution_count": 56,
      "metadata": {
        "id": "rKqUSO5SyVkS"
      },
      "outputs": [],
      "source": [
        "# Define a function to get missing data\n",
        "def missing_data(df):\n",
        "    missing_data = df.isna().sum()\n",
        "    missing_data = missing_data[missing_data>0]\n",
        "    return missing_data"
      ]
    },
    {
      "cell_type": "code",
      "execution_count": 57,
      "metadata": {
        "colab": {
          "base_uri": "https://localhost:8080/"
        },
        "id": "CyTVxcFGyVkS",
        "outputId": "73538719-7237-4a3a-fb2b-361678b4612e"
      },
      "outputs": [
        {
          "output_type": "execute_result",
          "data": {
            "text/plain": [
              "funder                3635\n",
              "installer             3655\n",
              "subvillage             371\n",
              "public_meeting        3334\n",
              "scheme_management     3877\n",
              "scheme_name          28166\n",
              "permit                3056\n",
              "dtype: int64"
            ]
          },
          "metadata": {},
          "execution_count": 57
        }
      ],
      "source": [
        "# print missing columns on training test\n",
        "missing_data(train)"
      ]
    },
    {
      "cell_type": "markdown",
      "metadata": {
        "id": "CAlkSbhEyVkS"
      },
      "source": [
        "To get a better understanding of how to deal with the missing values, I will explore the columns further. "
      ]
    },
    {
      "cell_type": "markdown",
      "metadata": {
        "id": "BmHnHhu1yVkS"
      },
      "source": [
        "#### funder column"
      ]
    },
    {
      "cell_type": "code",
      "execution_count": 58,
      "metadata": {
        "colab": {
          "base_uri": "https://localhost:8080/"
        },
        "id": "kXJbNNrDyVkT",
        "outputId": "fbcecfbd-a226-4dd4-c767-dc65a295f2f3"
      },
      "outputs": [
        {
          "output_type": "execute_result",
          "data": {
            "text/plain": [
              "Government Of Tanzania    9084\n",
              "Danida                    3114\n",
              "Hesawa                    2202\n",
              "Rwssp                     1374\n",
              "World Bank                1349\n",
              "                          ... \n",
              "Rarymond Ekura               1\n",
              "Justine Marwa                1\n",
              "Municipal Council            1\n",
              "Afdp                         1\n",
              "Samlo                        1\n",
              "Name: funder, Length: 1897, dtype: int64"
            ]
          },
          "metadata": {},
          "execution_count": 58
        }
      ],
      "source": [
        "# get value counts\n",
        "train['funder'].value_counts()"
      ]
    },
    {
      "cell_type": "code",
      "execution_count": 59,
      "metadata": {
        "id": "MznxWzqtyVkT"
      },
      "outputs": [],
      "source": [
        "# I will group the column into 6 categories. The top 5 value counts and the rest in other\n",
        "\n",
        "def funder_grouping(dataframe):\n",
        "    if dataframe['funder'] == 'Government Of Tanzania':\n",
        "        return 'government'\n",
        "    elif dataframe['funder'] == 'Danida':\n",
        "        return 'danida'\n",
        "    elif dataframe['funder'] == 'Hesawa':\n",
        "        return 'hesawa'\n",
        "    elif dataframe['funder'] == 'Rwssp':\n",
        "        return 'rwssp'\n",
        "    elif dataframe['funder'] == 'World Bank':\n",
        "        return 'world_bank'    \n",
        "    else:\n",
        "        return 'other'\n",
        "    \n",
        "train['funder'] = train.apply(lambda row: funder_grouping(row), axis=1)"
      ]
    },
    {
      "cell_type": "markdown",
      "metadata": {
        "id": "vzQyh0Y3yVkT"
      },
      "source": [
        "#### installer column"
      ]
    },
    {
      "cell_type": "code",
      "execution_count": 60,
      "metadata": {
        "colab": {
          "base_uri": "https://localhost:8080/"
        },
        "id": "z2hUnvxwyVkT",
        "outputId": "93a11a6c-af9e-4375-fd0f-9bc4f9a41bb6"
      },
      "outputs": [
        {
          "output_type": "execute_result",
          "data": {
            "text/plain": [
              "DWE                17402\n",
              "Government          1825\n",
              "RWE                 1206\n",
              "Commu               1060\n",
              "DANIDA              1050\n",
              "                   ...  \n",
              "Wizara  ya maji        1\n",
              "TWESS                  1\n",
              "Nasan workers          1\n",
              "R                      1\n",
              "SELEPTA                1\n",
              "Name: installer, Length: 2145, dtype: int64"
            ]
          },
          "metadata": {},
          "execution_count": 60
        }
      ],
      "source": [
        "# get value counts\n",
        "train['installer'].value_counts()"
      ]
    },
    {
      "cell_type": "code",
      "execution_count": 61,
      "metadata": {
        "id": "OY3WN1-oyVkT"
      },
      "outputs": [],
      "source": [
        "# I will group the column into 6 categories. The top 5 value counts and the rest in other\n",
        "def installer_grouping(dataframe):\n",
        "    if dataframe['installer'] == 'DWE':\n",
        "        return 'dwe'\n",
        "    elif dataframe['installer'] == 'Government':\n",
        "        return 'government'\n",
        "    elif dataframe['installer'] == 'RWE':\n",
        "        return 'rwe'\n",
        "    elif dataframe['installer'] == 'Commu':\n",
        "        return 'commu'\n",
        "    elif dataframe['installer'] == 'DANIDA':\n",
        "        return 'danida'    \n",
        "    else:\n",
        "        return 'other'\n",
        "    \n",
        "train['installer'] = train.apply(lambda row: installer_grouping(row), axis=1)"
      ]
    },
    {
      "cell_type": "markdown",
      "metadata": {
        "id": "IT2EXfupyVkT"
      },
      "source": [
        "#### subvillage"
      ]
    },
    {
      "cell_type": "code",
      "execution_count": 62,
      "metadata": {
        "colab": {
          "base_uri": "https://localhost:8080/"
        },
        "id": "ZPe7PPFRyVkT",
        "outputId": "fa20d97e-79db-4e52-905c-80cb1fa41f3b"
      },
      "outputs": [
        {
          "output_type": "execute_result",
          "data": {
            "text/plain": [
              "Madukani        508\n",
              "Shuleni         506\n",
              "Majengo         502\n",
              "Kati            373\n",
              "Mtakuja         262\n",
              "               ... \n",
              "Kipompo           1\n",
              "Chanyamilima      1\n",
              "Ikalime           1\n",
              "Kemagaka          1\n",
              "Kikatanyemba      1\n",
              "Name: subvillage, Length: 19287, dtype: int64"
            ]
          },
          "metadata": {},
          "execution_count": 62
        }
      ],
      "source": [
        "# get value counts\n",
        "# It is harder to divide this column since we have no dominating values\n",
        "train['subvillage'].value_counts()\n",
        "\n",
        "# probably better off dropping this column"
      ]
    },
    {
      "cell_type": "code",
      "execution_count": 63,
      "metadata": {
        "id": "E6b-lzzeyVkT"
      },
      "outputs": [],
      "source": [
        "train = train.drop(['subvillage'],axis = 1)"
      ]
    },
    {
      "cell_type": "markdown",
      "metadata": {
        "id": "rqRlN8phyVkT"
      },
      "source": [
        "#### public meeting"
      ]
    },
    {
      "cell_type": "code",
      "execution_count": 64,
      "metadata": {
        "colab": {
          "base_uri": "https://localhost:8080/"
        },
        "id": "tKlI8oacyVkT",
        "outputId": "438b3731-d9bd-4123-ff0e-e55fa3b40f7f"
      },
      "outputs": [
        {
          "output_type": "execute_result",
          "data": {
            "text/plain": [
              "True     51011\n",
              "False     5055\n",
              "Name: public_meeting, dtype: int64"
            ]
          },
          "metadata": {},
          "execution_count": 64
        }
      ],
      "source": [
        "# get value counts\n",
        "train['public_meeting'].value_counts()"
      ]
    },
    {
      "cell_type": "code",
      "execution_count": 65,
      "metadata": {
        "id": "ZPyQ3LI8yVkT"
      },
      "outputs": [],
      "source": [
        "# There are more trues that Falses. \n",
        "# I will fill the missing values with Unknown\n",
        "train.public_meeting = train.public_meeting.fillna('Unknown')"
      ]
    },
    {
      "cell_type": "markdown",
      "metadata": {
        "id": "bqgQa8kbyVkT"
      },
      "source": [
        "#### scheme management"
      ]
    },
    {
      "cell_type": "code",
      "execution_count": 66,
      "metadata": {
        "colab": {
          "base_uri": "https://localhost:8080/"
        },
        "id": "NnQEbK-myVkT",
        "outputId": "49a97635-402b-4146-952d-0457e2ee978c"
      },
      "outputs": [
        {
          "output_type": "execute_result",
          "data": {
            "text/plain": [
              "VWC                 36793\n",
              "WUG                  5206\n",
              "Water authority      3153\n",
              "WUA                  2883\n",
              "Water Board          2748\n",
              "Parastatal           1680\n",
              "Private operator     1063\n",
              "Company              1061\n",
              "Other                 766\n",
              "SWC                    97\n",
              "Trust                  72\n",
              "None                    1\n",
              "Name: scheme_management, dtype: int64"
            ]
          },
          "metadata": {},
          "execution_count": 66
        }
      ],
      "source": [
        "# get value counts\n",
        "train['scheme_management'].value_counts()"
      ]
    },
    {
      "cell_type": "code",
      "execution_count": 67,
      "metadata": {
        "id": "AUOx2P2OyVkT"
      },
      "outputs": [],
      "source": [
        "# There are too many categories in this column\n",
        "# I will divide it into 6 categories with 5 being the top 5 and the rest in other\n",
        "\n",
        "def scheme_grouping(row):\n",
        "    '''Keep top 5 values and set the rest to 'other'. '''\n",
        "    if row['scheme_management'] == 'VWC':\n",
        "        return 'vwc'\n",
        "    elif row['scheme_management'] == 'WUG':\n",
        "        return 'wug'\n",
        "    elif row['scheme_management'] == 'Water authority':\n",
        "        return 'water_authority'\n",
        "    elif row['scheme_management'] == 'WUA':\n",
        "        return 'wua'\n",
        "    elif row['scheme_management'] == 'Water Board':\n",
        "        return 'water_board'\n",
        "    else:\n",
        "        return 'other'\n",
        "\n",
        "train['scheme_management'] = train.apply(lambda row: scheme_grouping(row), axis=1)"
      ]
    },
    {
      "cell_type": "markdown",
      "metadata": {
        "id": "eeWzHrl9yVkT"
      },
      "source": [
        "#### scheme name"
      ]
    },
    {
      "cell_type": "code",
      "execution_count": 68,
      "metadata": {
        "colab": {
          "base_uri": "https://localhost:8080/"
        },
        "id": "1TMq073GyVkT",
        "outputId": "7e725c2a-5f2f-4ef9-fd36-aafef66d0976"
      },
      "outputs": [
        {
          "output_type": "execute_result",
          "data": {
            "text/plain": [
              "K                       682\n",
              "None                    644\n",
              "Borehole                546\n",
              "Chalinze wate           405\n",
              "M                       400\n",
              "                       ... \n",
              "Mradi wa maji Vijini      1\n",
              "Villagers                 1\n",
              "Magundi water supply      1\n",
              "Saadani Chumv             1\n",
              "Mtawanya                  1\n",
              "Name: scheme_name, Length: 2696, dtype: int64"
            ]
          },
          "metadata": {},
          "execution_count": 68
        }
      ],
      "source": [
        "# get value counts\n",
        "train['scheme_name'].value_counts()"
      ]
    },
    {
      "cell_type": "code",
      "execution_count": 69,
      "metadata": {
        "colab": {
          "base_uri": "https://localhost:8080/"
        },
        "id": "GCTuLhkAyVka",
        "outputId": "2fece788-9c2d-42ff-c135-8e7bc97a0800"
      },
      "outputs": [
        {
          "output_type": "execute_result",
          "data": {
            "text/plain": [
              "2697"
            ]
          },
          "metadata": {},
          "execution_count": 69
        }
      ],
      "source": [
        "# Check unique values\n",
        "len(train.scheme_name.unique())"
      ]
    },
    {
      "cell_type": "code",
      "execution_count": 70,
      "metadata": {
        "id": "3cOExU3ByVka"
      },
      "outputs": [],
      "source": [
        "# It is harder to divide this column since we have no dominating values\n",
        "# its better to drop the column\n",
        "train = train.drop('scheme_name', axis = 1)"
      ]
    },
    {
      "cell_type": "markdown",
      "metadata": {
        "id": "ZMAGJTxzyVka"
      },
      "source": [
        "#### permit"
      ]
    },
    {
      "cell_type": "code",
      "execution_count": 71,
      "metadata": {
        "colab": {
          "base_uri": "https://localhost:8080/"
        },
        "id": "VCoLFSCByVka",
        "outputId": "6334d197-e3b0-4815-9524-a5c6161167ee"
      },
      "outputs": [
        {
          "output_type": "execute_result",
          "data": {
            "text/plain": [
              "True     38852\n",
              "False    17492\n",
              "Name: permit, dtype: int64"
            ]
          },
          "metadata": {},
          "execution_count": 71
        }
      ],
      "source": [
        "# get value counts\n",
        "train['permit'].value_counts()"
      ]
    },
    {
      "cell_type": "code",
      "execution_count": 72,
      "metadata": {
        "id": "jn9NASvOyVka"
      },
      "outputs": [],
      "source": [
        "# There are more trues that Falses. \n",
        "# I will fill the missing values with Unknown\n",
        "train.permit = train.permit.fillna('Unknown')"
      ]
    },
    {
      "cell_type": "markdown",
      "metadata": {
        "id": "s2Zl1GcayVkb"
      },
      "source": [
        "\n",
        "\n",
        "Checking for missing values again in both the train and test data\n",
        "\n"
      ]
    },
    {
      "cell_type": "code",
      "execution_count": 73,
      "metadata": {
        "colab": {
          "base_uri": "https://localhost:8080/"
        },
        "id": "HnrcZF_4yVkb",
        "outputId": "13d49671-519d-4edd-cf8e-dc3c18b1cefc"
      },
      "outputs": [
        {
          "output_type": "execute_result",
          "data": {
            "text/plain": [
              "Series([], dtype: int64)"
            ]
          },
          "metadata": {},
          "execution_count": 73
        }
      ],
      "source": [
        "# Check for missing data\n",
        "missing_data(train)"
      ]
    },
    {
      "cell_type": "markdown",
      "metadata": {
        "id": "dqKQslA4yVkb"
      },
      "source": [
        "\n",
        "\n",
        "Great! There are no more missing values"
      ]
    },
    {
      "cell_type": "code",
      "execution_count": 74,
      "metadata": {
        "colab": {
          "base_uri": "https://localhost:8080/",
          "height": 374
        },
        "id": "0L-oej7oyVkb",
        "outputId": "0a1e8eae-9835-4152-ee35-6caae08fd72b"
      },
      "outputs": [
        {
          "output_type": "execute_result",
          "data": {
            "text/plain": [
              "      id  amount_tsh  days_since_recorded funder installer  longitude  \\\n",
              "0  69572      6000.0                  995  other     other  34.938093   \n",
              "1   8776         0.0                  272  other     other  34.698766   \n",
              "2  34310        25.0                  281  other     other  37.460664   \n",
              "3  67743         0.0                  309  other     other  38.486161   \n",
              "4  19728         0.0                  874  other     other  31.130847   \n",
              "\n",
              "    latitude                    basin   region        lga  population  \\\n",
              "0  -9.856322               Lake Nyasa   Iringa     Ludewa         109   \n",
              "1  -2.147466            Lake Victoria     Mara  Serengeti         280   \n",
              "2  -3.821329                  Pangani  Manyara  Simanjiro         250   \n",
              "3 -11.155298  Ruvuma / Southern Coast   Mtwara   Nanyumbu          58   \n",
              "4  -1.825359            Lake Victoria   Kagera    Karagwe           0   \n",
              "\n",
              "  public_meeting scheme_management permit construction_year  \\\n",
              "0           True               vwc  False               90s   \n",
              "1        Unknown             other   True               10s   \n",
              "2           True               vwc   True               00s   \n",
              "3           True               vwc   True               80s   \n",
              "4           True             other   True           unknown   \n",
              "\n",
              "  extraction_type_class management_group payment_type water_quality  \\\n",
              "0               gravity       user-group     annually          soft   \n",
              "1               gravity       user-group    never pay          soft   \n",
              "2               gravity       user-group   per bucket          soft   \n",
              "3           submersible       user-group    never pay          soft   \n",
              "4               gravity            other    never pay          soft   \n",
              "\n",
              "       quantity           source_type source_class waterpoint_type_group  \\\n",
              "0        enough                spring  groundwater    communal standpipe   \n",
              "1  insufficient  rainwater harvesting      surface    communal standpipe   \n",
              "2        enough                   dam      surface    communal standpipe   \n",
              "3           dry              borehole  groundwater    communal standpipe   \n",
              "4      seasonal  rainwater harvesting      surface    communal standpipe   \n",
              "\n",
              "     status_group  \n",
              "0      functional  \n",
              "1      functional  \n",
              "2      functional  \n",
              "3  non functional  \n",
              "4      functional  "
            ],
            "text/html": [
              "\n",
              "  <div id=\"df-2014b654-f0dc-4015-9859-9c45b220e3d9\">\n",
              "    <div class=\"colab-df-container\">\n",
              "      <div>\n",
              "<style scoped>\n",
              "    .dataframe tbody tr th:only-of-type {\n",
              "        vertical-align: middle;\n",
              "    }\n",
              "\n",
              "    .dataframe tbody tr th {\n",
              "        vertical-align: top;\n",
              "    }\n",
              "\n",
              "    .dataframe thead th {\n",
              "        text-align: right;\n",
              "    }\n",
              "</style>\n",
              "<table border=\"1\" class=\"dataframe\">\n",
              "  <thead>\n",
              "    <tr style=\"text-align: right;\">\n",
              "      <th></th>\n",
              "      <th>id</th>\n",
              "      <th>amount_tsh</th>\n",
              "      <th>days_since_recorded</th>\n",
              "      <th>funder</th>\n",
              "      <th>installer</th>\n",
              "      <th>longitude</th>\n",
              "      <th>latitude</th>\n",
              "      <th>basin</th>\n",
              "      <th>region</th>\n",
              "      <th>lga</th>\n",
              "      <th>population</th>\n",
              "      <th>public_meeting</th>\n",
              "      <th>scheme_management</th>\n",
              "      <th>permit</th>\n",
              "      <th>construction_year</th>\n",
              "      <th>extraction_type_class</th>\n",
              "      <th>management_group</th>\n",
              "      <th>payment_type</th>\n",
              "      <th>water_quality</th>\n",
              "      <th>quantity</th>\n",
              "      <th>source_type</th>\n",
              "      <th>source_class</th>\n",
              "      <th>waterpoint_type_group</th>\n",
              "      <th>status_group</th>\n",
              "    </tr>\n",
              "  </thead>\n",
              "  <tbody>\n",
              "    <tr>\n",
              "      <th>0</th>\n",
              "      <td>69572</td>\n",
              "      <td>6000.0</td>\n",
              "      <td>995</td>\n",
              "      <td>other</td>\n",
              "      <td>other</td>\n",
              "      <td>34.938093</td>\n",
              "      <td>-9.856322</td>\n",
              "      <td>Lake Nyasa</td>\n",
              "      <td>Iringa</td>\n",
              "      <td>Ludewa</td>\n",
              "      <td>109</td>\n",
              "      <td>True</td>\n",
              "      <td>vwc</td>\n",
              "      <td>False</td>\n",
              "      <td>90s</td>\n",
              "      <td>gravity</td>\n",
              "      <td>user-group</td>\n",
              "      <td>annually</td>\n",
              "      <td>soft</td>\n",
              "      <td>enough</td>\n",
              "      <td>spring</td>\n",
              "      <td>groundwater</td>\n",
              "      <td>communal standpipe</td>\n",
              "      <td>functional</td>\n",
              "    </tr>\n",
              "    <tr>\n",
              "      <th>1</th>\n",
              "      <td>8776</td>\n",
              "      <td>0.0</td>\n",
              "      <td>272</td>\n",
              "      <td>other</td>\n",
              "      <td>other</td>\n",
              "      <td>34.698766</td>\n",
              "      <td>-2.147466</td>\n",
              "      <td>Lake Victoria</td>\n",
              "      <td>Mara</td>\n",
              "      <td>Serengeti</td>\n",
              "      <td>280</td>\n",
              "      <td>Unknown</td>\n",
              "      <td>other</td>\n",
              "      <td>True</td>\n",
              "      <td>10s</td>\n",
              "      <td>gravity</td>\n",
              "      <td>user-group</td>\n",
              "      <td>never pay</td>\n",
              "      <td>soft</td>\n",
              "      <td>insufficient</td>\n",
              "      <td>rainwater harvesting</td>\n",
              "      <td>surface</td>\n",
              "      <td>communal standpipe</td>\n",
              "      <td>functional</td>\n",
              "    </tr>\n",
              "    <tr>\n",
              "      <th>2</th>\n",
              "      <td>34310</td>\n",
              "      <td>25.0</td>\n",
              "      <td>281</td>\n",
              "      <td>other</td>\n",
              "      <td>other</td>\n",
              "      <td>37.460664</td>\n",
              "      <td>-3.821329</td>\n",
              "      <td>Pangani</td>\n",
              "      <td>Manyara</td>\n",
              "      <td>Simanjiro</td>\n",
              "      <td>250</td>\n",
              "      <td>True</td>\n",
              "      <td>vwc</td>\n",
              "      <td>True</td>\n",
              "      <td>00s</td>\n",
              "      <td>gravity</td>\n",
              "      <td>user-group</td>\n",
              "      <td>per bucket</td>\n",
              "      <td>soft</td>\n",
              "      <td>enough</td>\n",
              "      <td>dam</td>\n",
              "      <td>surface</td>\n",
              "      <td>communal standpipe</td>\n",
              "      <td>functional</td>\n",
              "    </tr>\n",
              "    <tr>\n",
              "      <th>3</th>\n",
              "      <td>67743</td>\n",
              "      <td>0.0</td>\n",
              "      <td>309</td>\n",
              "      <td>other</td>\n",
              "      <td>other</td>\n",
              "      <td>38.486161</td>\n",
              "      <td>-11.155298</td>\n",
              "      <td>Ruvuma / Southern Coast</td>\n",
              "      <td>Mtwara</td>\n",
              "      <td>Nanyumbu</td>\n",
              "      <td>58</td>\n",
              "      <td>True</td>\n",
              "      <td>vwc</td>\n",
              "      <td>True</td>\n",
              "      <td>80s</td>\n",
              "      <td>submersible</td>\n",
              "      <td>user-group</td>\n",
              "      <td>never pay</td>\n",
              "      <td>soft</td>\n",
              "      <td>dry</td>\n",
              "      <td>borehole</td>\n",
              "      <td>groundwater</td>\n",
              "      <td>communal standpipe</td>\n",
              "      <td>non functional</td>\n",
              "    </tr>\n",
              "    <tr>\n",
              "      <th>4</th>\n",
              "      <td>19728</td>\n",
              "      <td>0.0</td>\n",
              "      <td>874</td>\n",
              "      <td>other</td>\n",
              "      <td>other</td>\n",
              "      <td>31.130847</td>\n",
              "      <td>-1.825359</td>\n",
              "      <td>Lake Victoria</td>\n",
              "      <td>Kagera</td>\n",
              "      <td>Karagwe</td>\n",
              "      <td>0</td>\n",
              "      <td>True</td>\n",
              "      <td>other</td>\n",
              "      <td>True</td>\n",
              "      <td>unknown</td>\n",
              "      <td>gravity</td>\n",
              "      <td>other</td>\n",
              "      <td>never pay</td>\n",
              "      <td>soft</td>\n",
              "      <td>seasonal</td>\n",
              "      <td>rainwater harvesting</td>\n",
              "      <td>surface</td>\n",
              "      <td>communal standpipe</td>\n",
              "      <td>functional</td>\n",
              "    </tr>\n",
              "  </tbody>\n",
              "</table>\n",
              "</div>\n",
              "      <button class=\"colab-df-convert\" onclick=\"convertToInteractive('df-2014b654-f0dc-4015-9859-9c45b220e3d9')\"\n",
              "              title=\"Convert this dataframe to an interactive table.\"\n",
              "              style=\"display:none;\">\n",
              "        \n",
              "  <svg xmlns=\"http://www.w3.org/2000/svg\" height=\"24px\"viewBox=\"0 0 24 24\"\n",
              "       width=\"24px\">\n",
              "    <path d=\"M0 0h24v24H0V0z\" fill=\"none\"/>\n",
              "    <path d=\"M18.56 5.44l.94 2.06.94-2.06 2.06-.94-2.06-.94-.94-2.06-.94 2.06-2.06.94zm-11 1L8.5 8.5l.94-2.06 2.06-.94-2.06-.94L8.5 2.5l-.94 2.06-2.06.94zm10 10l.94 2.06.94-2.06 2.06-.94-2.06-.94-.94-2.06-.94 2.06-2.06.94z\"/><path d=\"M17.41 7.96l-1.37-1.37c-.4-.4-.92-.59-1.43-.59-.52 0-1.04.2-1.43.59L10.3 9.45l-7.72 7.72c-.78.78-.78 2.05 0 2.83L4 21.41c.39.39.9.59 1.41.59.51 0 1.02-.2 1.41-.59l7.78-7.78 2.81-2.81c.8-.78.8-2.07 0-2.86zM5.41 20L4 18.59l7.72-7.72 1.47 1.35L5.41 20z\"/>\n",
              "  </svg>\n",
              "      </button>\n",
              "      \n",
              "  <style>\n",
              "    .colab-df-container {\n",
              "      display:flex;\n",
              "      flex-wrap:wrap;\n",
              "      gap: 12px;\n",
              "    }\n",
              "\n",
              "    .colab-df-convert {\n",
              "      background-color: #E8F0FE;\n",
              "      border: none;\n",
              "      border-radius: 50%;\n",
              "      cursor: pointer;\n",
              "      display: none;\n",
              "      fill: #1967D2;\n",
              "      height: 32px;\n",
              "      padding: 0 0 0 0;\n",
              "      width: 32px;\n",
              "    }\n",
              "\n",
              "    .colab-df-convert:hover {\n",
              "      background-color: #E2EBFA;\n",
              "      box-shadow: 0px 1px 2px rgba(60, 64, 67, 0.3), 0px 1px 3px 1px rgba(60, 64, 67, 0.15);\n",
              "      fill: #174EA6;\n",
              "    }\n",
              "\n",
              "    [theme=dark] .colab-df-convert {\n",
              "      background-color: #3B4455;\n",
              "      fill: #D2E3FC;\n",
              "    }\n",
              "\n",
              "    [theme=dark] .colab-df-convert:hover {\n",
              "      background-color: #434B5C;\n",
              "      box-shadow: 0px 1px 3px 1px rgba(0, 0, 0, 0.15);\n",
              "      filter: drop-shadow(0px 1px 2px rgba(0, 0, 0, 0.3));\n",
              "      fill: #FFFFFF;\n",
              "    }\n",
              "  </style>\n",
              "\n",
              "      <script>\n",
              "        const buttonEl =\n",
              "          document.querySelector('#df-2014b654-f0dc-4015-9859-9c45b220e3d9 button.colab-df-convert');\n",
              "        buttonEl.style.display =\n",
              "          google.colab.kernel.accessAllowed ? 'block' : 'none';\n",
              "\n",
              "        async function convertToInteractive(key) {\n",
              "          const element = document.querySelector('#df-2014b654-f0dc-4015-9859-9c45b220e3d9');\n",
              "          const dataTable =\n",
              "            await google.colab.kernel.invokeFunction('convertToInteractive',\n",
              "                                                     [key], {});\n",
              "          if (!dataTable) return;\n",
              "\n",
              "          const docLinkHtml = 'Like what you see? Visit the ' +\n",
              "            '<a target=\"_blank\" href=https://colab.research.google.com/notebooks/data_table.ipynb>data table notebook</a>'\n",
              "            + ' to learn more about interactive tables.';\n",
              "          element.innerHTML = '';\n",
              "          dataTable['output_type'] = 'display_data';\n",
              "          await google.colab.output.renderOutput(dataTable, element);\n",
              "          const docLink = document.createElement('div');\n",
              "          docLink.innerHTML = docLinkHtml;\n",
              "          element.appendChild(docLink);\n",
              "        }\n",
              "      </script>\n",
              "    </div>\n",
              "  </div>\n",
              "  "
            ]
          },
          "metadata": {},
          "execution_count": 74
        }
      ],
      "source": [
        "# Get a general outlook of cleaned train data\n",
        "train.head()"
      ]
    },
    {
      "cell_type": "code",
      "execution_count": 75,
      "metadata": {
        "colab": {
          "base_uri": "https://localhost:8080/"
        },
        "id": "xm9FOoN0yVkb",
        "outputId": "5bc8a077-5d77-4501-f161-ec69c504cb4d"
      },
      "outputs": [
        {
          "output_type": "execute_result",
          "data": {
            "text/plain": [
              "(59400, 24)"
            ]
          },
          "metadata": {},
          "execution_count": 75
        }
      ],
      "source": [
        "# get shape of cleaned train data\n",
        "train.shape"
      ]
    },
    {
      "cell_type": "markdown",
      "metadata": {
        "id": "eVOcFHshyVkb"
      },
      "source": [
        "## 2.4.4. Collinearity\n",
        "- Checking for collinearity amongst data"
      ]
    },
    {
      "cell_type": "code",
      "execution_count": 76,
      "metadata": {
        "colab": {
          "base_uri": "https://localhost:8080/",
          "height": 596
        },
        "id": "yBrg0x1zyVkb",
        "outputId": "10f14446-3d1e-4f27-94fb-0e1b8507edf0"
      },
      "outputs": [
        {
          "output_type": "display_data",
          "data": {
            "text/plain": [
              "<Figure size 1080x720 with 2 Axes>"
            ],
            "image/png": "[encoded data removed]"
          },
          "metadata": {
            "needs_background": "light"
          }
        }
      ],
      "source": [
        "# Checking for collinearity\n",
        "cor = train.corr()\n",
        "plt.figure(figsize = (15,10))\n",
        "sns.heatmap(cor.round(3),annot = True,cmap = 'coolwarm')\n",
        "plt.show()"
      ]
    },
    {
      "cell_type": "markdown",
      "metadata": {
        "id": "k4j_ZajgyVkb"
      },
      "source": [
        "- Features do not have a high collinerity amongst themselves\n",
        "- This is good data"
      ]
    },
    {
      "cell_type": "markdown",
      "metadata": {
        "id": "mNjfpHMkyVkb"
      },
      "source": [
        "## 2.5. Exploratory Data Analysis (EDA)\n",
        "\n",
        "In trying to understand our data better, let's check for the distribution of the individual features in our dataset.\n",
        "\n",
        "Answer a few questions:\n",
        "\n",
        "1. What is the relationship between functionality and money invested?\n",
        "2. Do all functional waterpoint have good quality water?\n",
        "3. What is the ranking of the status of the waterpoints?\n",
        "4. What is the status of waterpumps with different extraction types?\n",
        "5. What is the distribution of the status of waterpumps across regions?\n"
      ]
    },
    {
      "cell_type": "markdown",
      "metadata": {
        "id": "XMq7mU6KyVkb"
      },
      "source": [
        "## 2.5.1 Relationship between functionality and money spent?"
      ]
    },
    {
      "cell_type": "code",
      "execution_count": 77,
      "metadata": {
        "colab": {
          "base_uri": "https://localhost:8080/",
          "height": 280
        },
        "id": "83C18OjByVkb",
        "outputId": "449e7c64-a9a7-4a6b-a03c-c4fb8cb2d5a5"
      },
      "outputs": [
        {
          "output_type": "display_data",
          "data": {
            "text/plain": [
              "<Figure size 432x288 with 1 Axes>"
            ],
            "image/png": "[encoded data removed]"
          },
          "metadata": {
            "needs_background": "light"
          }
        }
      ],
      "source": [
        "sns.scatterplot(data = train, x = 'amount_tsh', y = 'status_group')\n",
        "plt.show()"
      ]
    },
    {
      "cell_type": "markdown",
      "metadata": {
        "id": "pHMFEyLEyVkb"
      },
      "source": [
        "### Observation\n",
        "\n",
        "- Waterpumps that had high investments are all functional"
      ]
    },
    {
      "cell_type": "markdown",
      "metadata": {
        "id": "cAg6vMqAyVkb"
      },
      "source": [
        "## 2.5.2. Do all functional waterpoint have good quality water?"
      ]
    },
    {
      "cell_type": "code",
      "execution_count": 78,
      "metadata": {
        "colab": {
          "base_uri": "https://localhost:8080/",
          "height": 434
        },
        "id": "cENI9FZmyVkb",
        "outputId": "39e18ca2-306d-42ba-b3ba-672c53917abe"
      },
      "outputs": [
        {
          "output_type": "display_data",
          "data": {
            "text/plain": [
              "<Figure size 1152x504 with 1 Axes>"
            ],
            "image/png": "[encoded data removed]"
          },
          "metadata": {
            "needs_background": "light"
          }
        }
      ],
      "source": [
        "plt.figure(figsize = (16, 7))\n",
        "sns.scatterplot(data = train, x = 'water_quality', y = 'status_group')\n",
        "plt.show()"
      ]
    },
    {
      "cell_type": "markdown",
      "metadata": {
        "id": "MoShi0M-yVkb"
      },
      "source": [
        "- There is a mixture of different water qualities amongst the functional wells\n",
        "- I will check to see the distribution of the water qualities"
      ]
    },
    {
      "cell_type": "code",
      "execution_count": 79,
      "metadata": {
        "colab": {
          "base_uri": "https://localhost:8080/",
          "height": 388
        },
        "id": "hK_t7iGdyVkc",
        "outputId": "41c1e746-f542-4ad1-b053-c3945edacdb6"
      },
      "outputs": [
        {
          "output_type": "display_data",
          "data": {
            "text/plain": [
              "<Figure size 576x432 with 1 Axes>"
            ],
            "image/png": "[encoded data removed]"
          },
          "metadata": {
            "needs_background": "light"
          }
        }
      ],
      "source": [
        "fig, ax = plt.subplots(figsize = (8,6))\n",
        "\n",
        "sns.countplot(data = train, y = 'water_quality', hue = 'status_group')\n",
        "plt.show()"
      ]
    },
    {
      "cell_type": "markdown",
      "metadata": {
        "id": "VuNKEJwCyVkc"
      },
      "source": [
        "- Most of the fuctional wells have soft water"
      ]
    },
    {
      "cell_type": "markdown",
      "metadata": {
        "id": "i2vAMH_6yVkc"
      },
      "source": [
        "## 2.5.3.  Ranking of the status of the waterpoints?"
      ]
    },
    {
      "cell_type": "code",
      "execution_count": 80,
      "metadata": {
        "colab": {
          "base_uri": "https://localhost:8080/",
          "height": 280
        },
        "id": "KqH0BBC-yVkc",
        "outputId": "26c880d9-5d26-4ed8-9e7c-7e7c188623e5"
      },
      "outputs": [
        {
          "output_type": "display_data",
          "data": {
            "text/plain": [
              "<Figure size 432x288 with 1 Axes>"
            ],
            "image/png": "[encoded data removed]"
          },
          "metadata": {}
        }
      ],
      "source": [
        "# Ranking of the status of the waterpoints\n",
        "sns.set_style(\"darkgrid\");\n",
        "sns.set_color_codes(palette = 'bright');\n",
        "sns.countplot(x = train['status_group'], color = 'b');"
      ]
    },
    {
      "cell_type": "markdown",
      "metadata": {
        "id": "bx5g67NFyVkc"
      },
      "source": [
        "### Observation\n",
        "- There are more functional waterpoints which is great\n",
        "- There are more non functional waterpoints than functional ones that need repair"
      ]
    },
    {
      "cell_type": "markdown",
      "metadata": {
        "id": "wkqptMpyyVkc"
      },
      "source": [
        "## 2.5.4. What is the status of waterpumps with different extraction types?"
      ]
    },
    {
      "cell_type": "code",
      "execution_count": 81,
      "metadata": {
        "colab": {
          "base_uri": "https://localhost:8080/",
          "height": 517
        },
        "id": "HclD8AwVyVkc",
        "outputId": "72088428-6236-420b-9fb3-937c5197037f"
      },
      "outputs": [
        {
          "output_type": "display_data",
          "data": {
            "text/html": [
              "<html>\n",
              "<head><meta charset=\"utf-8\" /></head>\n",
              "<body>\n",
              "    <div>            <script src=\"https://cdnjs.cloudflare.com/ajax/libs/mathjax/2.7.5/MathJax.js?config=TeX-AMS-MML_SVG\"></script><script type=\"text/javascript\">if (window.MathJax) {MathJax.Hub.Config({SVG: {font: \"STIX-Web\"}});}</script>                <script type=\"text/javascript\">window.PlotlyConfig = {MathJaxConfig: 'local'};</script>\n",
              "        <script src=\"https://cdn.plot.ly/plotly-2.8.3.min.js\"></script>                <div id=\"46ae70b2-81af-4d1b-8054-b5feafcc8aa8\" class=\"plotly-graph-div\" style=\"height:500px; width:1000px;\"></div>            <script type=\"text/javascript\">                                    window.PLOTLYENV=window.PLOTLYENV || {};                                    if (document.getElementById(\"46ae70b2-81af-4d1b-8054-b5feafcc8aa8\")) {                    Plotly.newPlot(                        \"46ae70b2-81af-4d1b-8054-b5feafcc8aa8\",                        [{\"alignmentgroup\":\"True\",\"hovertemplate\":\"status_group=functional<br>extraction_type_class=%{x}<br>permit=%{y}<extra></extra>\",\"legendgroup\":\"functional\",\"marker\":{\"color\":\"#636efa\",\"pattern\":{\"shape\":\"\"}},\"name\":\"functional\",\"offsetgroup\":\"functional\",\"orientation\":\"v\",\"showlegend\":true,\"textposition\":\"auto\",\"x\":[\"gravity\",\"handpump\",\"motorpump\",\"other\",\"rope pump\",\"submersible\",\"wind-powered\"],\"xaxis\":\"x\",\"y\":[16048,10375,1135,1029,293,3329,50],\"yaxis\":\"y\",\"type\":\"bar\"},{\"alignmentgroup\":\"True\",\"hovertemplate\":\"status_group=functional needs repair<br>extraction_type_class=%{x}<br>permit=%{y}<extra></extra>\",\"legendgroup\":\"functional needs repair\",\"marker\":{\"color\":\"#EF553B\",\"pattern\":{\"shape\":\"\"}},\"name\":\"functional needs repair\",\"offsetgroup\":\"functional needs repair\",\"orientation\":\"v\",\"showlegend\":true,\"textposition\":\"auto\",\"x\":[\"gravity\",\"handpump\",\"motorpump\",\"other\",\"rope pump\",\"submersible\",\"wind-powered\"],\"xaxis\":\"x\",\"y\":[2701,995,138,206,17,253,7],\"yaxis\":\"y\",\"type\":\"bar\"},{\"alignmentgroup\":\"True\",\"hovertemplate\":\"status_group=non functional<br>extraction_type_class=%{x}<br>permit=%{y}<extra></extra>\",\"legendgroup\":\"non functional\",\"marker\":{\"color\":\"#00cc96\",\"pattern\":{\"shape\":\"\"}},\"name\":\"non functional\",\"offsetgroup\":\"non functional\",\"orientation\":\"v\",\"showlegend\":true,\"textposition\":\"auto\",\"x\":[\"gravity\",\"handpump\",\"motorpump\",\"other\",\"rope pump\",\"submersible\",\"wind-powered\"],\"xaxis\":\"x\",\"y\":[8031,5086,1714,5195,141,2597,60],\"yaxis\":\"y\",\"type\":\"bar\"}],                        {\"template\":{\"data\":{\"bar\":[{\"error_x\":{\"color\":\"#2a3f5f\"},\"error_y\":{\"color\":\"#2a3f5f\"},\"marker\":{\"line\":{\"color\":\"#E5ECF6\",\"width\":0.5},\"pattern\":{\"fillmode\":\"overlay\",\"size\":10,\"solidity\":0.2}},\"type\":\"bar\"}],\"barpolar\":[{\"marker\":{\"line\":{\"color\":\"#E5ECF6\",\"width\":0.5},\"pattern\":{\"fillmode\":\"overlay\",\"size\":10,\"solidity\":0.2}},\"type\":\"barpolar\"}],\"carpet\":[{\"aaxis\":{\"endlinecolor\":\"#2a3f5f\",\"gridcolor\":\"white\",\"linecolor\":\"white\",\"minorgridcolor\":\"white\",\"startlinecolor\":\"#2a3f5f\"},\"baxis\":{\"endlinecolor\":\"#2a3f5f\",\"gridcolor\":\"white\",\"linecolor\":\"white\",\"minorgridcolor\":\"white\",\"startlinecolor\":\"#2a3f5f\"},\"type\":\"carpet\"}],\"choropleth\":[{\"colorbar\":{\"outlinewidth\":0,\"ticks\":\"\"},\"type\":\"choropleth\"}],\"contour\":[{\"colorbar\":{\"outlinewidth\":0,\"ticks\":\"\"},\"colorscale\":[[0.0,\"#0d0887\"],[0.1111111111111111,\"#46039f\"],[0.2222222222222222,\"#7201a8\"],[0.3333333333333333,\"#9c179e\"],[0.4444444444444444,\"#bd3786\"],[0.5555555555555556,\"#d8576b\"],[0.6666666666666666,\"#ed7953\"],[0.7777777777777778,\"#fb9f3a\"],[0.8888888888888888,\"#fdca26\"],[1.0,\"#f0f921\"]],\"type\":\"contour\"}],\"contourcarpet\":[{\"colorbar\":{\"outlinewidth\":0,\"ticks\":\"\"},\"type\":\"contourcarpet\"}],\"heatmap\":[{\"colorbar\":{\"outlinewidth\":0,\"ticks\":\"\"},\"colorscale\":[[0.0,\"#0d0887\"],[0.1111111111111111,\"#46039f\"],[0.2222222222222222,\"#7201a8\"],[0.3333333333333333,\"#9c179e\"],[0.4444444444444444,\"#bd3786\"],[0.5555555555555556,\"#d8576b\"],[0.6666666666666666,\"#ed7953\"],[0.7777777777777778,\"#fb9f3a\"],[0.8888888888888888,\"#fdca26\"],[1.0,\"#f0f921\"]],\"type\":\"heatmap\"}],\"heatmapgl\":[{\"colorbar\":{\"outlinewidth\":0,\"ticks\":\"\"},\"colorscale\":[[0.0,\"#0d0887\"],[0.1111111111111111,\"#46039f\"],[0.2222222222222222,\"#7201a8\"],[0.3333333333333333,\"#9c179e\"],[0.4444444444444444,\"#bd3786\"],[0.5555555555555556,\"#d8576b\"],[0.6666666666666666,\"#ed7953\"],[0.7777777777777778,\"#fb9f3a\"],[0.8888888888888888,\"#fdca26\"],[1.0,\"#f0f921\"]],\"type\":\"heatmapgl\"}],\"histogram\":[{\"marker\":{\"pattern\":{\"fillmode\":\"overlay\",\"size\":10,\"solidity\":0.2}},\"type\":\"histogram\"}],\"histogram2d\":[{\"colorbar\":{\"outlinewidth\":0,\"ticks\":\"\"},\"colorscale\":[[0.0,\"#0d0887\"],[0.1111111111111111,\"#46039f\"],[0.2222222222222222,\"#7201a8\"],[0.3333333333333333,\"#9c179e\"],[0.4444444444444444,\"#bd3786\"],[0.5555555555555556,\"#d8576b\"],[0.6666666666666666,\"#ed7953\"],[0.7777777777777778,\"#fb9f3a\"],[0.8888888888888888,\"#fdca26\"],[1.0,\"#f0f921\"]],\"type\":\"histogram2d\"}],\"histogram2dcontour\":[{\"colorbar\":{\"outlinewidth\":0,\"ticks\":\"\"},\"colorscale\":[[0.0,\"#0d0887\"],[0.1111111111111111,\"#46039f\"],[0.2222222222222222,\"#7201a8\"],[0.3333333333333333,\"#9c179e\"],[0.4444444444444444,\"#bd3786\"],[0.5555555555555556,\"#d8576b\"],[0.6666666666666666,\"#ed7953\"],[0.7777777777777778,\"#fb9f3a\"],[0.8888888888888888,\"#fdca26\"],[1.0,\"#f0f921\"]],\"type\":\"histogram2dcontour\"}],\"mesh3d\":[{\"colorbar\":{\"outlinewidth\":0,\"ticks\":\"\"},\"type\":\"mesh3d\"}],\"parcoords\":[{\"line\":{\"colorbar\":{\"outlinewidth\":0,\"ticks\":\"\"}},\"type\":\"parcoords\"}],\"pie\":[{\"automargin\":true,\"type\":\"pie\"}],\"scatter\":[{\"marker\":{\"colorbar\":{\"outlinewidth\":0,\"ticks\":\"\"}},\"type\":\"scatter\"}],\"scatter3d\":[{\"line\":{\"colorbar\":{\"outlinewidth\":0,\"ticks\":\"\"}},\"marker\":{\"colorbar\":{\"outlinewidth\":0,\"ticks\":\"\"}},\"type\":\"scatter3d\"}],\"scattercarpet\":[{\"marker\":{\"colorbar\":{\"outlinewidth\":0,\"ticks\":\"\"}},\"type\":\"scattercarpet\"}],\"scattergeo\":[{\"marker\":{\"colorbar\":{\"outlinewidth\":0,\"ticks\":\"\"}},\"type\":\"scattergeo\"}],\"scattergl\":[{\"marker\":{\"colorbar\":{\"outlinewidth\":0,\"ticks\":\"\"}},\"type\":\"scattergl\"}],\"scattermapbox\":[{\"marker\":{\"colorbar\":{\"outlinewidth\":0,\"ticks\":\"\"}},\"type\":\"scattermapbox\"}],\"scatterpolar\":[{\"marker\":{\"colorbar\":{\"outlinewidth\":0,\"ticks\":\"\"}},\"type\":\"scatterpolar\"}],\"scatterpolargl\":[{\"marker\":{\"colorbar\":{\"outlinewidth\":0,\"ticks\":\"\"}},\"type\":\"scatterpolargl\"}],\"scatterternary\":[{\"marker\":{\"colorbar\":{\"outlinewidth\":0,\"ticks\":\"\"}},\"type\":\"scatterternary\"}],\"surface\":[{\"colorbar\":{\"outlinewidth\":0,\"ticks\":\"\"},\"colorscale\":[[0.0,\"#0d0887\"],[0.1111111111111111,\"#46039f\"],[0.2222222222222222,\"#7201a8\"],[0.3333333333333333,\"#9c179e\"],[0.4444444444444444,\"#bd3786\"],[0.5555555555555556,\"#d8576b\"],[0.6666666666666666,\"#ed7953\"],[0.7777777777777778,\"#fb9f3a\"],[0.8888888888888888,\"#fdca26\"],[1.0,\"#f0f921\"]],\"type\":\"surface\"}],\"table\":[{\"cells\":{\"fill\":{\"color\":\"#EBF0F8\"},\"line\":{\"color\":\"white\"}},\"header\":{\"fill\":{\"color\":\"#C8D4E3\"},\"line\":{\"color\":\"white\"}},\"type\":\"table\"}]},\"layout\":{\"annotationdefaults\":{\"arrowcolor\":\"#2a3f5f\",\"arrowhead\":0,\"arrowwidth\":1},\"autotypenumbers\":\"strict\",\"coloraxis\":{\"colorbar\":{\"outlinewidth\":0,\"ticks\":\"\"}},\"colorscale\":{\"diverging\":[[0,\"#8e0152\"],[0.1,\"#c51b7d\"],[0.2,\"#de77ae\"],[0.3,\"#f1b6da\"],[0.4,\"#fde0ef\"],[0.5,\"#f7f7f7\"],[0.6,\"#e6f5d0\"],[0.7,\"#b8e186\"],[0.8,\"#7fbc41\"],[0.9,\"#4d9221\"],[1,\"#276419\"]],\"sequential\":[[0.0,\"#0d0887\"],[0.1111111111111111,\"#46039f\"],[0.2222222222222222,\"#7201a8\"],[0.3333333333333333,\"#9c179e\"],[0.4444444444444444,\"#bd3786\"],[0.5555555555555556,\"#d8576b\"],[0.6666666666666666,\"#ed7953\"],[0.7777777777777778,\"#fb9f3a\"],[0.8888888888888888,\"#fdca26\"],[1.0,\"#f0f921\"]],\"sequentialminus\":[[0.0,\"#0d0887\"],[0.1111111111111111,\"#46039f\"],[0.2222222222222222,\"#7201a8\"],[0.3333333333333333,\"#9c179e\"],[0.4444444444444444,\"#bd3786\"],[0.5555555555555556,\"#d8576b\"],[0.6666666666666666,\"#ed7953\"],[0.7777777777777778,\"#fb9f3a\"],[0.8888888888888888,\"#fdca26\"],[1.0,\"#f0f921\"]]},\"colorway\":[\"#636efa\",\"#EF553B\",\"#00cc96\",\"#ab63fa\",\"#FFA15A\",\"#19d3f3\",\"#FF6692\",\"#B6E880\",\"#FF97FF\",\"#FECB52\"],\"font\":{\"color\":\"#2a3f5f\"},\"geo\":{\"bgcolor\":\"white\",\"lakecolor\":\"white\",\"landcolor\":\"#E5ECF6\",\"showlakes\":true,\"showland\":true,\"subunitcolor\":\"white\"},\"hoverlabel\":{\"align\":\"left\"},\"hovermode\":\"closest\",\"mapbox\":{\"style\":\"light\"},\"paper_bgcolor\":\"white\",\"plot_bgcolor\":\"#E5ECF6\",\"polar\":{\"angularaxis\":{\"gridcolor\":\"white\",\"linecolor\":\"white\",\"ticks\":\"\"},\"bgcolor\":\"#E5ECF6\",\"radialaxis\":{\"gridcolor\":\"white\",\"linecolor\":\"white\",\"ticks\":\"\"}},\"scene\":{\"xaxis\":{\"backgroundcolor\":\"#E5ECF6\",\"gridcolor\":\"white\",\"gridwidth\":2,\"linecolor\":\"white\",\"showbackground\":true,\"ticks\":\"\",\"zerolinecolor\":\"white\"},\"yaxis\":{\"backgroundcolor\":\"#E5ECF6\",\"gridcolor\":\"white\",\"gridwidth\":2,\"linecolor\":\"white\",\"showbackground\":true,\"ticks\":\"\",\"zerolinecolor\":\"white\"},\"zaxis\":{\"backgroundcolor\":\"#E5ECF6\",\"gridcolor\":\"white\",\"gridwidth\":2,\"linecolor\":\"white\",\"showbackground\":true,\"ticks\":\"\",\"zerolinecolor\":\"white\"}},\"shapedefaults\":{\"line\":{\"color\":\"#2a3f5f\"}},\"ternary\":{\"aaxis\":{\"gridcolor\":\"white\",\"linecolor\":\"white\",\"ticks\":\"\"},\"baxis\":{\"gridcolor\":\"white\",\"linecolor\":\"white\",\"ticks\":\"\"},\"bgcolor\":\"#E5ECF6\",\"caxis\":{\"gridcolor\":\"white\",\"linecolor\":\"white\",\"ticks\":\"\"}},\"title\":{\"x\":0.05},\"xaxis\":{\"automargin\":true,\"gridcolor\":\"white\",\"linecolor\":\"white\",\"ticks\":\"\",\"title\":{\"standoff\":15},\"zerolinecolor\":\"white\",\"zerolinewidth\":2},\"yaxis\":{\"automargin\":true,\"gridcolor\":\"white\",\"linecolor\":\"white\",\"ticks\":\"\",\"title\":{\"standoff\":15},\"zerolinecolor\":\"white\",\"zerolinewidth\":2}}},\"xaxis\":{\"anchor\":\"y\",\"domain\":[0.0,1.0],\"title\":{\"text\":\"extraction_type_class\"}},\"yaxis\":{\"anchor\":\"x\",\"domain\":[0.0,1.0],\"title\":{\"text\":\"permit\"}},\"legend\":{\"title\":{\"text\":\"status_group\"},\"tracegroupgap\":0},\"title\":{\"text\":\"Distribution of waterpumps\"},\"barmode\":\"relative\",\"height\":500,\"width\":1000},                        {\"responsive\": true}                    ).then(function(){\n",
              "                            \n",
              "var gd = document.getElementById('46ae70b2-81af-4d1b-8054-b5feafcc8aa8');\n",
              "var x = new MutationObserver(function (mutations, observer) {{\n",
              "        var display = window.getComputedStyle(gd).display;\n",
              "        if (!display || display === 'none') {{\n",
              "            console.log([gd, 'removed!']);\n",
              "            Plotly.purge(gd);\n",
              "            observer.disconnect();\n",
              "        }}\n",
              "}});\n",
              "\n",
              "// Listen for the removal of the full notebook cells\n",
              "var notebookContainer = gd.closest('#notebook-container');\n",
              "if (notebookContainer) {{\n",
              "    x.observe(notebookContainer, {childList: true});\n",
              "}}\n",
              "\n",
              "// Listen for the clearing of the current output cell\n",
              "var outputEl = gd.closest('.output');\n",
              "if (outputEl) {{\n",
              "    x.observe(outputEl, {childList: true});\n",
              "}}\n",
              "\n",
              "                        })                };                            </script>        </div>\n",
              "</body>\n",
              "</html>"
            ]
          },
          "metadata": {}
        }
      ],
      "source": [
        "# Status group of different extraction types\n",
        "df = train.groupby(['extraction_type_class', 'status_group']).count()['permit'].head(200).reset_index()\n",
        "\n",
        "\n",
        "fig = px.bar(df, x = \"extraction_type_class\", y = \"permit\",color = \"status_group\", \n",
        "             title=\"Distribution of waterpumps\", width=1000, height=500)\n",
        "\n",
        "fig.show()\n",
        "\n",
        "del df"
      ]
    },
    {
      "cell_type": "markdown",
      "metadata": {
        "id": "A_FUHmT6yVkc"
      },
      "source": [
        "### Observation\n",
        "- Waterpumps relying on gravity and handpump are the most functional.\n",
        "- Technologocally advanced waterpumps seem to have more non functionals e.g. motorpump\n",
        "- It would be a great idea to explore if fuel shortage could be a causal factor. "
      ]
    },
    {
      "cell_type": "markdown",
      "metadata": {
        "id": "Uizr70qWyVkc"
      },
      "source": [
        "## 2.5.5. What is the distribution of the status of waterpumps across regions?"
      ]
    },
    {
      "cell_type": "code",
      "execution_count": 82,
      "metadata": {
        "colab": {
          "base_uri": "https://localhost:8080/",
          "height": 517
        },
        "id": "oQWbyFJryVkc",
        "outputId": "2b2f0246-e687-4404-e604-ab3600f81069"
      },
      "outputs": [
        {
          "output_type": "display_data",
          "data": {
            "text/html": [
              "<html>\n",
              "<head><meta charset=\"utf-8\" /></head>\n",
              "<body>\n",
              "    <div>            <script src=\"https://cdnjs.cloudflare.com/ajax/libs/mathjax/2.7.5/MathJax.js?config=TeX-AMS-MML_SVG\"></script><script type=\"text/javascript\">if (window.MathJax) {MathJax.Hub.Config({SVG: {font: \"STIX-Web\"}});}</script>                <script type=\"text/javascript\">window.PlotlyConfig = {MathJaxConfig: 'local'};</script>\n",
              "        <script src=\"https://cdn.plot.ly/plotly-2.8.3.min.js\"></script>                <div id=\"271758bb-1962-4b04-8487-76d5d798a14b\" class=\"plotly-graph-div\" style=\"height:500px; width:1000px;\"></div>            <script type=\"text/javascript\">                                    window.PLOTLYENV=window.PLOTLYENV || {};                                    if (document.getElementById(\"271758bb-1962-4b04-8487-76d5d798a14b\")) {                    Plotly.newPlot(                        \"271758bb-1962-4b04-8487-76d5d798a14b\",                        [{\"alignmentgroup\":\"True\",\"hovertemplate\":\"status_group=functional<br>region=%{x}<br>permit=%{y}<extra></extra>\",\"legendgroup\":\"functional\",\"marker\":{\"color\":\"#636efa\",\"pattern\":{\"shape\":\"\"}},\"name\":\"functional\",\"offsetgroup\":\"functional\",\"orientation\":\"v\",\"showlegend\":true,\"textposition\":\"auto\",\"x\":[\"Arusha\",\"Dar es Salaam\",\"Dodoma\",\"Iringa\",\"Kagera\",\"Kigoma\",\"Kilimanjaro\",\"Lindi\",\"Manyara\",\"Mara\",\"Mbeya\",\"Morogoro\",\"Mtwara\",\"Mwanza\",\"Pwani\",\"Rukwa\",\"Ruvuma\",\"Shinyanga\",\"Singida\",\"Tabora\",\"Tanga\"],\"xaxis\":\"x\",\"y\":[2294,461,1009,4141,1727,1363,2640,460,987,886,2319,2119,524,1502,1556,707,1480,2789,1011,848,1436],\"yaxis\":\"y\",\"type\":\"bar\"},{\"alignmentgroup\":\"True\",\"hovertemplate\":\"status_group=functional needs repair<br>region=%{x}<br>permit=%{y}<extra></extra>\",\"legendgroup\":\"functional needs repair\",\"marker\":{\"color\":\"#EF553B\",\"pattern\":{\"shape\":\"\"}},\"name\":\"functional needs repair\",\"offsetgroup\":\"functional needs repair\",\"orientation\":\"v\",\"showlegend\":true,\"textposition\":\"auto\",\"x\":[\"Arusha\",\"Dar es Salaam\",\"Dodoma\",\"Iringa\",\"Kagera\",\"Kigoma\",\"Kilimanjaro\",\"Lindi\",\"Manyara\",\"Mara\",\"Mbeya\",\"Morogoro\",\"Mtwara\",\"Mwanza\",\"Pwani\",\"Rukwa\",\"Ruvuma\",\"Shinyanga\",\"Singida\",\"Tabora\",\"Tanga\"],\"xaxis\":\"x\",\"y\":[175,3,209,123,304,603,322,93,96,60,504,300,126,183,36,135,164,635,128,45,73],\"yaxis\":\"y\",\"type\":\"bar\"},{\"alignmentgroup\":\"True\",\"hovertemplate\":\"status_group=non functional<br>region=%{x}<br>permit=%{y}<extra></extra>\",\"legendgroup\":\"non functional\",\"marker\":{\"color\":\"#00cc96\",\"pattern\":{\"shape\":\"\"}},\"name\":\"non functional\",\"offsetgroup\":\"non functional\",\"orientation\":\"v\",\"showlegend\":true,\"textposition\":\"auto\",\"x\":[\"Arusha\",\"Dar es Salaam\",\"Dodoma\",\"Iringa\",\"Kagera\",\"Kigoma\",\"Kilimanjaro\",\"Lindi\",\"Manyara\",\"Mara\",\"Mbeya\",\"Morogoro\",\"Mtwara\",\"Mwanza\",\"Pwani\",\"Rukwa\",\"Ruvuma\",\"Shinyanga\",\"Singida\",\"Tabora\",\"Tanga\"],\"xaxis\":\"x\",\"y\":[881,341,983,1030,1285,850,1417,993,500,1023,1816,1587,1080,1417,1043,966,996,1558,954,1066,1038],\"yaxis\":\"y\",\"type\":\"bar\"}],                        {\"template\":{\"data\":{\"bar\":[{\"error_x\":{\"color\":\"#2a3f5f\"},\"error_y\":{\"color\":\"#2a3f5f\"},\"marker\":{\"line\":{\"color\":\"#E5ECF6\",\"width\":0.5},\"pattern\":{\"fillmode\":\"overlay\",\"size\":10,\"solidity\":0.2}},\"type\":\"bar\"}],\"barpolar\":[{\"marker\":{\"line\":{\"color\":\"#E5ECF6\",\"width\":0.5},\"pattern\":{\"fillmode\":\"overlay\",\"size\":10,\"solidity\":0.2}},\"type\":\"barpolar\"}],\"carpet\":[{\"aaxis\":{\"endlinecolor\":\"#2a3f5f\",\"gridcolor\":\"white\",\"linecolor\":\"white\",\"minorgridcolor\":\"white\",\"startlinecolor\":\"#2a3f5f\"},\"baxis\":{\"endlinecolor\":\"#2a3f5f\",\"gridcolor\":\"white\",\"linecolor\":\"white\",\"minorgridcolor\":\"white\",\"startlinecolor\":\"#2a3f5f\"},\"type\":\"carpet\"}],\"choropleth\":[{\"colorbar\":{\"outlinewidth\":0,\"ticks\":\"\"},\"type\":\"choropleth\"}],\"contour\":[{\"colorbar\":{\"outlinewidth\":0,\"ticks\":\"\"},\"colorscale\":[[0.0,\"#0d0887\"],[0.1111111111111111,\"#46039f\"],[0.2222222222222222,\"#7201a8\"],[0.3333333333333333,\"#9c179e\"],[0.4444444444444444,\"#bd3786\"],[0.5555555555555556,\"#d8576b\"],[0.6666666666666666,\"#ed7953\"],[0.7777777777777778,\"#fb9f3a\"],[0.8888888888888888,\"#fdca26\"],[1.0,\"#f0f921\"]],\"type\":\"contour\"}],\"contourcarpet\":[{\"colorbar\":{\"outlinewidth\":0,\"ticks\":\"\"},\"type\":\"contourcarpet\"}],\"heatmap\":[{\"colorbar\":{\"outlinewidth\":0,\"ticks\":\"\"},\"colorscale\":[[0.0,\"#0d0887\"],[0.1111111111111111,\"#46039f\"],[0.2222222222222222,\"#7201a8\"],[0.3333333333333333,\"#9c179e\"],[0.4444444444444444,\"#bd3786\"],[0.5555555555555556,\"#d8576b\"],[0.6666666666666666,\"#ed7953\"],[0.7777777777777778,\"#fb9f3a\"],[0.8888888888888888,\"#fdca26\"],[1.0,\"#f0f921\"]],\"type\":\"heatmap\"}],\"heatmapgl\":[{\"colorbar\":{\"outlinewidth\":0,\"ticks\":\"\"},\"colorscale\":[[0.0,\"#0d0887\"],[0.1111111111111111,\"#46039f\"],[0.2222222222222222,\"#7201a8\"],[0.3333333333333333,\"#9c179e\"],[0.4444444444444444,\"#bd3786\"],[0.5555555555555556,\"#d8576b\"],[0.6666666666666666,\"#ed7953\"],[0.7777777777777778,\"#fb9f3a\"],[0.8888888888888888,\"#fdca26\"],[1.0,\"#f0f921\"]],\"type\":\"heatmapgl\"}],\"histogram\":[{\"marker\":{\"pattern\":{\"fillmode\":\"overlay\",\"size\":10,\"solidity\":0.2}},\"type\":\"histogram\"}],\"histogram2d\":[{\"colorbar\":{\"outlinewidth\":0,\"ticks\":\"\"},\"colorscale\":[[0.0,\"#0d0887\"],[0.1111111111111111,\"#46039f\"],[0.2222222222222222,\"#7201a8\"],[0.3333333333333333,\"#9c179e\"],[0.4444444444444444,\"#bd3786\"],[0.5555555555555556,\"#d8576b\"],[0.6666666666666666,\"#ed7953\"],[0.7777777777777778,\"#fb9f3a\"],[0.8888888888888888,\"#fdca26\"],[1.0,\"#f0f921\"]],\"type\":\"histogram2d\"}],\"histogram2dcontour\":[{\"colorbar\":{\"outlinewidth\":0,\"ticks\":\"\"},\"colorscale\":[[0.0,\"#0d0887\"],[0.1111111111111111,\"#46039f\"],[0.2222222222222222,\"#7201a8\"],[0.3333333333333333,\"#9c179e\"],[0.4444444444444444,\"#bd3786\"],[0.5555555555555556,\"#d8576b\"],[0.6666666666666666,\"#ed7953\"],[0.7777777777777778,\"#fb9f3a\"],[0.8888888888888888,\"#fdca26\"],[1.0,\"#f0f921\"]],\"type\":\"histogram2dcontour\"}],\"mesh3d\":[{\"colorbar\":{\"outlinewidth\":0,\"ticks\":\"\"},\"type\":\"mesh3d\"}],\"parcoords\":[{\"line\":{\"colorbar\":{\"outlinewidth\":0,\"ticks\":\"\"}},\"type\":\"parcoords\"}],\"pie\":[{\"automargin\":true,\"type\":\"pie\"}],\"scatter\":[{\"marker\":{\"colorbar\":{\"outlinewidth\":0,\"ticks\":\"\"}},\"type\":\"scatter\"}],\"scatter3d\":[{\"line\":{\"colorbar\":{\"outlinewidth\":0,\"ticks\":\"\"}},\"marker\":{\"colorbar\":{\"outlinewidth\":0,\"ticks\":\"\"}},\"type\":\"scatter3d\"}],\"scattercarpet\":[{\"marker\":{\"colorbar\":{\"outlinewidth\":0,\"ticks\":\"\"}},\"type\":\"scattercarpet\"}],\"scattergeo\":[{\"marker\":{\"colorbar\":{\"outlinewidth\":0,\"ticks\":\"\"}},\"type\":\"scattergeo\"}],\"scattergl\":[{\"marker\":{\"colorbar\":{\"outlinewidth\":0,\"ticks\":\"\"}},\"type\":\"scattergl\"}],\"scattermapbox\":[{\"marker\":{\"colorbar\":{\"outlinewidth\":0,\"ticks\":\"\"}},\"type\":\"scattermapbox\"}],\"scatterpolar\":[{\"marker\":{\"colorbar\":{\"outlinewidth\":0,\"ticks\":\"\"}},\"type\":\"scatterpolar\"}],\"scatterpolargl\":[{\"marker\":{\"colorbar\":{\"outlinewidth\":0,\"ticks\":\"\"}},\"type\":\"scatterpolargl\"}],\"scatterternary\":[{\"marker\":{\"colorbar\":{\"outlinewidth\":0,\"ticks\":\"\"}},\"type\":\"scatterternary\"}],\"surface\":[{\"colorbar\":{\"outlinewidth\":0,\"ticks\":\"\"},\"colorscale\":[[0.0,\"#0d0887\"],[0.1111111111111111,\"#46039f\"],[0.2222222222222222,\"#7201a8\"],[0.3333333333333333,\"#9c179e\"],[0.4444444444444444,\"#bd3786\"],[0.5555555555555556,\"#d8576b\"],[0.6666666666666666,\"#ed7953\"],[0.7777777777777778,\"#fb9f3a\"],[0.8888888888888888,\"#fdca26\"],[1.0,\"#f0f921\"]],\"type\":\"surface\"}],\"table\":[{\"cells\":{\"fill\":{\"color\":\"#EBF0F8\"},\"line\":{\"color\":\"white\"}},\"header\":{\"fill\":{\"color\":\"#C8D4E3\"},\"line\":{\"color\":\"white\"}},\"type\":\"table\"}]},\"layout\":{\"annotationdefaults\":{\"arrowcolor\":\"#2a3f5f\",\"arrowhead\":0,\"arrowwidth\":1},\"autotypenumbers\":\"strict\",\"coloraxis\":{\"colorbar\":{\"outlinewidth\":0,\"ticks\":\"\"}},\"colorscale\":{\"diverging\":[[0,\"#8e0152\"],[0.1,\"#c51b7d\"],[0.2,\"#de77ae\"],[0.3,\"#f1b6da\"],[0.4,\"#fde0ef\"],[0.5,\"#f7f7f7\"],[0.6,\"#e6f5d0\"],[0.7,\"#b8e186\"],[0.8,\"#7fbc41\"],[0.9,\"#4d9221\"],[1,\"#276419\"]],\"sequential\":[[0.0,\"#0d0887\"],[0.1111111111111111,\"#46039f\"],[0.2222222222222222,\"#7201a8\"],[0.3333333333333333,\"#9c179e\"],[0.4444444444444444,\"#bd3786\"],[0.5555555555555556,\"#d8576b\"],[0.6666666666666666,\"#ed7953\"],[0.7777777777777778,\"#fb9f3a\"],[0.8888888888888888,\"#fdca26\"],[1.0,\"#f0f921\"]],\"sequentialminus\":[[0.0,\"#0d0887\"],[0.1111111111111111,\"#46039f\"],[0.2222222222222222,\"#7201a8\"],[0.3333333333333333,\"#9c179e\"],[0.4444444444444444,\"#bd3786\"],[0.5555555555555556,\"#d8576b\"],[0.6666666666666666,\"#ed7953\"],[0.7777777777777778,\"#fb9f3a\"],[0.8888888888888888,\"#fdca26\"],[1.0,\"#f0f921\"]]},\"colorway\":[\"#636efa\",\"#EF553B\",\"#00cc96\",\"#ab63fa\",\"#FFA15A\",\"#19d3f3\",\"#FF6692\",\"#B6E880\",\"#FF97FF\",\"#FECB52\"],\"font\":{\"color\":\"#2a3f5f\"},\"geo\":{\"bgcolor\":\"white\",\"lakecolor\":\"white\",\"landcolor\":\"#E5ECF6\",\"showlakes\":true,\"showland\":true,\"subunitcolor\":\"white\"},\"hoverlabel\":{\"align\":\"left\"},\"hovermode\":\"closest\",\"mapbox\":{\"style\":\"light\"},\"paper_bgcolor\":\"white\",\"plot_bgcolor\":\"#E5ECF6\",\"polar\":{\"angularaxis\":{\"gridcolor\":\"white\",\"linecolor\":\"white\",\"ticks\":\"\"},\"bgcolor\":\"#E5ECF6\",\"radialaxis\":{\"gridcolor\":\"white\",\"linecolor\":\"white\",\"ticks\":\"\"}},\"scene\":{\"xaxis\":{\"backgroundcolor\":\"#E5ECF6\",\"gridcolor\":\"white\",\"gridwidth\":2,\"linecolor\":\"white\",\"showbackground\":true,\"ticks\":\"\",\"zerolinecolor\":\"white\"},\"yaxis\":{\"backgroundcolor\":\"#E5ECF6\",\"gridcolor\":\"white\",\"gridwidth\":2,\"linecolor\":\"white\",\"showbackground\":true,\"ticks\":\"\",\"zerolinecolor\":\"white\"},\"zaxis\":{\"backgroundcolor\":\"#E5ECF6\",\"gridcolor\":\"white\",\"gridwidth\":2,\"linecolor\":\"white\",\"showbackground\":true,\"ticks\":\"\",\"zerolinecolor\":\"white\"}},\"shapedefaults\":{\"line\":{\"color\":\"#2a3f5f\"}},\"ternary\":{\"aaxis\":{\"gridcolor\":\"white\",\"linecolor\":\"white\",\"ticks\":\"\"},\"baxis\":{\"gridcolor\":\"white\",\"linecolor\":\"white\",\"ticks\":\"\"},\"bgcolor\":\"#E5ECF6\",\"caxis\":{\"gridcolor\":\"white\",\"linecolor\":\"white\",\"ticks\":\"\"}},\"title\":{\"x\":0.05},\"xaxis\":{\"automargin\":true,\"gridcolor\":\"white\",\"linecolor\":\"white\",\"ticks\":\"\",\"title\":{\"standoff\":15},\"zerolinecolor\":\"white\",\"zerolinewidth\":2},\"yaxis\":{\"automargin\":true,\"gridcolor\":\"white\",\"linecolor\":\"white\",\"ticks\":\"\",\"title\":{\"standoff\":15},\"zerolinecolor\":\"white\",\"zerolinewidth\":2}}},\"xaxis\":{\"anchor\":\"y\",\"domain\":[0.0,1.0],\"title\":{\"text\":\"region\"}},\"yaxis\":{\"anchor\":\"x\",\"domain\":[0.0,1.0],\"title\":{\"text\":\"permit\"}},\"legend\":{\"title\":{\"text\":\"status_group\"},\"tracegroupgap\":0},\"title\":{\"text\":\"Distribution of waterpumps\"},\"barmode\":\"relative\",\"height\":500,\"width\":1000},                        {\"responsive\": true}                    ).then(function(){\n",
              "                            \n",
              "var gd = document.getElementById('271758bb-1962-4b04-8487-76d5d798a14b');\n",
              "var x = new MutationObserver(function (mutations, observer) {{\n",
              "        var display = window.getComputedStyle(gd).display;\n",
              "        if (!display || display === 'none') {{\n",
              "            console.log([gd, 'removed!']);\n",
              "            Plotly.purge(gd);\n",
              "            observer.disconnect();\n",
              "        }}\n",
              "}});\n",
              "\n",
              "// Listen for the removal of the full notebook cells\n",
              "var notebookContainer = gd.closest('#notebook-container');\n",
              "if (notebookContainer) {{\n",
              "    x.observe(notebookContainer, {childList: true});\n",
              "}}\n",
              "\n",
              "// Listen for the clearing of the current output cell\n",
              "var outputEl = gd.closest('.output');\n",
              "if (outputEl) {{\n",
              "    x.observe(outputEl, {childList: true});\n",
              "}}\n",
              "\n",
              "                        })                };                            </script>        </div>\n",
              "</body>\n",
              "</html>"
            ]
          },
          "metadata": {}
        }
      ],
      "source": [
        "# Distribution of the status of waterpumps across regions\n",
        "\n",
        "df = train.groupby(['region', 'status_group']).count()['permit'].head(200).reset_index()\n",
        "\n",
        "\n",
        "fig = px.bar(df, x = \"region\", y = \"permit\", color = \"status_group\", title = \"Distribution of waterpumps\", \n",
        "             width = 1000, height = 500)\n",
        "\n",
        "fig.show()\n",
        "\n",
        "del df"
      ]
    },
    {
      "cell_type": "markdown",
      "metadata": {
        "id": "sVQ3FSwSyVkc"
      },
      "source": [
        "### Observation\n",
        "- Iringa has the highest number of functional waterpumps\n",
        "- Most regions have more functional waterpumps than non functional\n",
        "- The ratio of functional need repair waterpumps is smaller for all regions"
      ]
    },
    {
      "cell_type": "markdown",
      "metadata": {
        "id": "prhOhzoxyVkc"
      },
      "source": [
        "## 2.6.  Pre-Processing Data\n",
        "- Here I will drop some columns which may not be relevant for my modelling\n",
        "- I will rank status of waterpumps as 0,1,2\n",
        "- Create dummmies for categotical columns"
      ]
    },
    {
      "cell_type": "markdown",
      "metadata": {
        "id": "oWPFrEVWyVkc"
      },
      "source": [
        "## 2.6.1. Dropping non-relevant columns\n",
        "- The left out geographical data are less likely to add any predictive power to the model"
      ]
    },
    {
      "cell_type": "code",
      "execution_count": 83,
      "metadata": {
        "id": "yGiR85KUyVkc"
      },
      "outputs": [],
      "source": [
        "# I will drop these columns\n",
        "train = train.drop(['region', 'longitude', 'latitude', 'lga'], axis=1)"
      ]
    },
    {
      "cell_type": "markdown",
      "metadata": {
        "id": "DRC1fIJRyVkc"
      },
      "source": [
        "## 2.6.2. status_group\n",
        "- I will categorize the values in the column into 0, 1, 2"
      ]
    },
    {
      "cell_type": "code",
      "execution_count": 84,
      "metadata": {
        "id": "ilJtUoAzyVkc"
      },
      "outputs": [],
      "source": [
        "# Create a column assigning 0,1,2 for target variable\n",
        "val_status_group={'functional':2, 'functional needs repair':1,\n",
        "                   'non functional':0}\n",
        "train['status_group_vals']=train.status_group.replace(val_status_group)"
      ]
    },
    {
      "cell_type": "code",
      "execution_count": 85,
      "metadata": {
        "id": "VLtMtlJcyVkc"
      },
      "outputs": [],
      "source": [
        "# Drop column\n",
        "train = train.drop(['status_group'],axis=1)"
      ]
    },
    {
      "cell_type": "markdown",
      "metadata": {
        "id": "gZj2efxDyVkc"
      },
      "source": [
        "## 2.6.3. Create dummies\n",
        "- Creating dummies for categorical columns"
      ]
    },
    {
      "cell_type": "code",
      "execution_count": 86,
      "metadata": {
        "id": "aOGCfWJ5yVkc"
      },
      "outputs": [],
      "source": [
        "# Create dummies for caterogical columns\n",
        "categoricals = ['funder', 'installer', 'basin', 'public_meeting', 'scheme_management', 'permit',\n",
        "              'construction_year', 'extraction_type_class','management_group', 'payment_type', 'water_quality',\n",
        "              'quantity', 'source_type', 'source_class','waterpoint_type_group']\n",
        "\n",
        "train = pd.get_dummies(train, columns = categoricals)\n"
      ]
    },
    {
      "cell_type": "code",
      "execution_count": 87,
      "metadata": {
        "colab": {
          "base_uri": "https://localhost:8080/"
        },
        "id": "SRP6_D-dyVkd",
        "outputId": "26be0785-91d2-456b-8b0c-14dcaf4dc15d"
      },
      "outputs": [
        {
          "output_type": "execute_result",
          "data": {
            "text/plain": [
              "(59400, 93)"
            ]
          },
          "metadata": {},
          "execution_count": 87
        }
      ],
      "source": [
        "train.shape"
      ]
    },
    {
      "cell_type": "markdown",
      "metadata": {
        "id": "0U7x3MBeyVkd"
      },
      "source": [
        "# 3. Modelling\n",
        "\n",
        "The metric I will be using for modellling is Accuracy\n",
        "\n",
        "For modelling I will apply:\n",
        "\n",
        "### 1. Perform an X_Train-y_Test Split\n",
        "\n",
        "### 2. Build and Evaluate a Baseline Model\n",
        "\n",
        "\n",
        "### 3. Grid search to Find the Random Forest Model\n",
        "\n",
        "\n",
        "### 4. Build Iterative Models to Find the Best Decision Tree Model\n",
        "\n",
        "### 5. Build additional Logistic Regression Models\n",
        "\n",
        "\n",
        "### 7. Choose and Evaluate a Final Model\n"
      ]
    },
    {
      "cell_type": "markdown",
      "metadata": {
        "id": "Z1FYKbodyVkd"
      },
      "source": [
        "## 3.1. Perform an X_Train-y_Test Split"
      ]
    },
    {
      "cell_type": "code",
      "execution_count": 88,
      "metadata": {
        "id": "vqfYZcX2yVkd"
      },
      "outputs": [],
      "source": [
        "# Create y_train and X_train\n",
        "y = train.status_group_vals\n",
        "X = train.drop('status_group_vals', axis=1)"
      ]
    },
    {
      "cell_type": "code",
      "execution_count": 89,
      "metadata": {
        "colab": {
          "base_uri": "https://localhost:8080/"
        },
        "id": "4dU7TpN3yVkd",
        "outputId": "59c12cc0-3684-4f0c-d283-10d44dc524f5"
      },
      "outputs": [
        {
          "output_type": "stream",
          "name": "stdout",
          "text": [
            "Raw Counts\n",
            "2    32259\n",
            "0    22824\n",
            "1     4317\n",
            "Name: status_group_vals, dtype: int64\n",
            "\n",
            "Percentages\n",
            "2    0.543081\n",
            "0    0.384242\n",
            "1    0.072677\n",
            "Name: status_group_vals, dtype: float64\n"
          ]
        }
      ],
      "source": [
        "# check the dummy accuracy of the raw data\n",
        "print(\"Raw Counts\")\n",
        "print(train[\"status_group_vals\"].value_counts())\n",
        "print()\n",
        "print(\"Percentages\")\n",
        "print(train[\"status_group_vals\"].value_counts(normalize=True))"
      ]
    },
    {
      "cell_type": "markdown",
      "metadata": {
        "id": "wk7GAFXqyVkd"
      },
      "source": [
        "functional - 0.54304\n",
        "\n",
        "functional needs repair - 0.38429\n",
        "                   \n",
        "non functional - 0.07267\n",
        "\n",
        "Dummy Accuracy =  0.54304\n",
        "\n",
        "Because 54.30% of the waterpoints are functional\n",
        "\n",
        "Prediction of functional waterpoints would be at 54.30% accuracy"
      ]
    },
    {
      "cell_type": "code",
      "execution_count": 90,
      "metadata": {
        "id": "2K2sfXJDyVkd"
      },
      "outputs": [],
      "source": [
        "# perform a train test split\n",
        "X_train, X_test, y_train, y_test = train_test_split(X, y, test_size = 0.2, random_state = 42)"
      ]
    },
    {
      "cell_type": "code",
      "execution_count": 91,
      "metadata": {
        "colab": {
          "base_uri": "https://localhost:8080/"
        },
        "id": "EqmukLJ0yVkd",
        "outputId": "b195f1a3-c114-49cc-ac73-1ddd38d75306"
      },
      "outputs": [
        {
          "output_type": "stream",
          "name": "stdout",
          "text": [
            "(47520, 92)\n",
            "(47520,)\n",
            "(11880, 92)\n",
            "(11880,)\n"
          ]
        }
      ],
      "source": [
        "print(X_train.shape)\n",
        "print(y_train.shape)\n",
        "print(X_test.shape)\n",
        "print(y_test.shape)"
      ]
    },
    {
      "cell_type": "markdown",
      "metadata": {
        "id": "fs2MHQRxyVkd"
      },
      "source": [
        "## 3.2. Baseline Model\n",
        "- Without performing any preprocessing or hyperparameter tuning, build and evaluate a several classification models then pick the top three for further tuning."
      ]
    },
    {
      "cell_type": "code",
      "execution_count": 92,
      "metadata": {
        "id": "mNBWt5EWyVkd"
      },
      "outputs": [],
      "source": [
        "# Create names for the different classification methods\n",
        "rf = RandomForestClassifier(random_state = 42)\n",
        "lr = LogisticRegression(random_state = 42)\n",
        "dt = DecisionTreeClassifier(random_state = 42)\n",
        "knn = KNeighborsClassifier()\n",
        "nb = GaussianNB()"
      ]
    },
    {
      "cell_type": "code",
      "execution_count": 93,
      "metadata": {
        "id": "XmsLAeAryVkd"
      },
      "outputs": [],
      "source": [
        "# Create a function for classification\n",
        "train_accuracy = []\n",
        "test_accuracy = []\n",
        "model_list = [rf,lr, dt, knn, nb]\n",
        "for i in model_list:\n",
        "    i = i.fit(X_train, y_train)\n",
        "    ytrain_pred = i.predict(X_train)\n",
        "    ytest_pred = i.predict(X_test)\n",
        "    train_accuracy.append(accuracy_score(ytrain_pred, y_train))\n",
        "    test_accuracy.append(accuracy_score(ytest_pred, y_test))"
      ]
    },
    {
      "cell_type": "code",
      "execution_count": 94,
      "metadata": {
        "colab": {
          "base_uri": "https://localhost:8080/"
        },
        "id": "Xo1zpeuMyVkd",
        "outputId": "d8e85f3f-083b-4458-c345-52d441f7fd9e"
      },
      "outputs": [
        {
          "output_type": "execute_result",
          "data": {
            "text/plain": [
              "[0.9999158249158249,\n",
              " 0.5429713804713805,\n",
              " 1.0,\n",
              " 0.6691498316498317,\n",
              " 0.5797138047138047]"
            ]
          },
          "metadata": {},
          "execution_count": 94
        }
      ],
      "source": [
        "# print train accuracy\n",
        "train_accuracy"
      ]
    },
    {
      "cell_type": "code",
      "execution_count": 95,
      "metadata": {
        "colab": {
          "base_uri": "https://localhost:8080/"
        },
        "id": "xyFR8UrryVkd",
        "outputId": "78895333-2130-4fa8-99b6-7de40ced75a5"
      },
      "outputs": [
        {
          "output_type": "execute_result",
          "data": {
            "text/plain": [
              "[0.7824074074074074,\n",
              " 0.5435185185185185,\n",
              " 0.7236531986531987,\n",
              " 0.5042929292929293,\n",
              " 0.5874579124579125]"
            ]
          },
          "metadata": {},
          "execution_count": 95
        }
      ],
      "source": [
        "# print test accuracy\n",
        "test_accuracy"
      ]
    },
    {
      "cell_type": "code",
      "execution_count": 96,
      "metadata": {
        "colab": {
          "base_uri": "https://localhost:8080/",
          "height": 428
        },
        "id": "N1hOaXsCyVkd",
        "outputId": "81d89a8e-42fa-46e7-ec38-63ade3979d82"
      },
      "outputs": [
        {
          "output_type": "display_data",
          "data": {
            "text/plain": [
              "<Figure size 504x504 with 1 Axes>"
            ],
            "image/png": "[encoded data removed]"
          },
          "metadata": {}
        }
      ],
      "source": [
        "# I will visualize the test accuracy results\n",
        "model_names = [\"rf\",\"lr\",\"dt\",\"knn\", \"nb\"]\n",
        "plt.figure(figsize = (7, 7))\n",
        "sns.barplot(x = model_names, y = test_accuracy)\n",
        "plt.show()"
      ]
    },
    {
      "cell_type": "markdown",
      "metadata": {
        "id": "yi0FNjaoyVkd"
      },
      "source": [
        "### Summary of results\n",
        "\n",
        "- Random Forest Classifier\n",
        "      - Train Accuracy = 93.99%\n",
        "      - Test Accuracy = 78.62%\n",
        "- Logistic Regression Classifier\n",
        "      - Train Accuracy = 71.84%\n",
        "      - Test Accuracy = 71.95%\n",
        "- Decision Tree accuracy \n",
        "      - Train Accuracy = 93.99%\n",
        "      - Test Accuracy = 75.10%\n",
        "- KNN accuracy \n",
        "      - Train Accuracy = 78.39%\n",
        "      - Test Accuracy = 69.98%\n",
        "- Gaussian accuracy\n",
        "      - Train Accuracy = 62.34%\n",
        "      - Test Accuracy =  62.87%\n",
        "\n",
        "\n",
        "Using the test accuracy, the top perfoming models are:\n",
        "- Random Forest Classifier (best)\n",
        "- Decision Tree Classifier\n",
        "- Logisitic Regression Classifier\n",
        "\n",
        "- Random Forest and Decision Trees show high cases of overfitting. More tuning could improve these models.\n",
        "- While Logistic regression has a lesser percentage in testing fit compared to the other two, it shows less chances of overfitting but it could be improved.\n",
        "- I will perform more tuning to these three classification models to improve them"
      ]
    },
    {
      "cell_type": "markdown",
      "metadata": {
        "id": "N9oZnc2IyVkd"
      },
      "source": [
        "## 3.3. Random Forest\n",
        "- I will employ hyperparameter tuning to improve model accuracy\n",
        "\n",
        "- Using random search, I will carry out several iterations to get the best conditions for random forest and run them to get an accuracy."
      ]
    },
    {
      "cell_type": "code",
      "execution_count": 97,
      "metadata": {
        "colab": {
          "base_uri": "https://localhost:8080/"
        },
        "id": "XeXHLQYyyVkd",
        "outputId": "cdcb6c1e-2311-4685-a584-a6ff3fb98ea2"
      },
      "outputs": [
        {
          "output_type": "stream",
          "name": "stdout",
          "text": [
            "{'n_estimators': [10, 14, 18, 23, 27, 32, 36, 41, 45, 50], 'max_features': ['auto', 'sqrt'], 'max_depth': [10, 20, 30, 40, 50, 60, 70, 80, 90, 100, 110, None], 'min_samples_split': [2, 5, 10], 'min_samples_leaf': [1, 2, 4], 'bootstrap': [True, False]}\n"
          ]
        }
      ],
      "source": [
        "# Number of trees in random forest\n",
        "n_estimators = [int(x) for x in np.linspace(start = 10, stop = 50, num = 10)]\n",
        "\n",
        "# Number of features to consider at every split\n",
        "max_features = ['auto', 'sqrt']\n",
        "\n",
        "# Maximum number of levels in tree\n",
        "max_depth = [int(x) for x in np.linspace(10, 110, num = 11)]\n",
        "max_depth.append(None)\n",
        "\n",
        "# Minimum number of samples required to split a node\n",
        "min_samples_split = [2, 5, 10]\n",
        "\n",
        "# Minimum number of samples required at each leaf node\n",
        "min_samples_leaf = [1, 2, 4]\n",
        "\n",
        "# Method of selecting samples for training each tree\n",
        "bootstrap = [True, False]\n",
        "\n",
        "# Create the random grid\n",
        "random_grid = {'n_estimators': n_estimators,\n",
        "               'max_features': max_features,\n",
        "               'max_depth': max_depth,\n",
        "               'min_samples_split': min_samples_split,\n",
        "               'min_samples_leaf': min_samples_leaf,\n",
        "               'bootstrap': bootstrap}\n",
        "print(random_grid)"
      ]
    },
    {
      "cell_type": "code",
      "execution_count": null,
      "metadata": {
        "colab": {
          "base_uri": "https://localhost:8080/"
        },
        "id": "yCRM3BoFyVkd",
        "outputId": "f683ed36-9852-42b3-9c86-3cb9b57d4e77"
      },
      "outputs": [
        {
          "output_type": "stream",
          "name": "stdout",
          "text": [
            "Fitting 3 folds for each of 100 candidates, totalling 300 fits\n"
          ]
        }
      ],
      "source": [
        "# Use the random grid to search for best hyperparameters\n",
        "# First create the base model to tune\n",
        "rf1 = RandomForestRegressor()\n",
        "\n",
        "# Random search of parameters, using 3 fold cross validation, \n",
        "# search across 100 different combinations, and use all available cores\n",
        "rf1_random = RandomizedSearchCV(estimator = rf1, param_distributions = random_grid, \n",
        "                               n_iter = 100, cv = 3, verbose=2, random_state=42, n_jobs = -1)\n",
        "\n",
        "# Fit the random search model\n",
        "rf1_random.fit(X_train, y_train)"
      ]
    },
    {
      "cell_type": "code",
      "execution_count": null,
      "metadata": {
        "id": "fXOrHZW6yVke"
      },
      "outputs": [],
      "source": [
        "rf1_random.best_params_"
      ]
    },
    {
      "cell_type": "code",
      "execution_count": null,
      "metadata": {
        "id": "cS33spvSyVke"
      },
      "outputs": [],
      "source": [
        "# Instantiate and fit a RandomForestClassifier\n",
        "forest1 = RandomForestClassifier(n_estimators = 36, min_samples_split = 5, \n",
        "                                 min_samples_leaf = 2, max_features = 'sqrt', max_depth = None, bootstrap = False,\n",
        "                                 random_state = 42)\n",
        "forest1.fit(X_train, y_train)\n",
        "#ytrain_pred = forest1.predict(X_train)\n",
        "\n",
        "# Training accuracy score\n",
        "print('Train:', forest1.score(X_train, y_train))\n",
        "print()\n",
        "print('Test:', forest1.score(X_test, y_test))"
      ]
    },
    {
      "cell_type": "markdown",
      "metadata": {
        "id": "nzeIFmASyVke"
      },
      "source": [
        "### Random Forest results\n",
        "\n",
        "- random model 1: 78.62%\n",
        "- random model 2: 80.03%\n",
        "\n",
        "- The second model is a better fit. \n",
        "- It has less overfitting.\n",
        "- The random search did take some time to load though"
      ]
    },
    {
      "cell_type": "markdown",
      "metadata": {
        "id": "h3dstaIsyVke"
      },
      "source": [
        "## 3.4. Decision Tree Model\n",
        "- I will carry out hyperparameter tuning to see what effect it has on the performance of our decision tree and to check whether it will improve the performance.\n",
        "- To do this I will carry out a grid search to get the best parameters and apply them.\n",
        "- I will further try using a bagging classifier to reduce noice and see if this would improve the model\n",
        "- To check for the performance of the model, we will use ROC-AUC."
      ]
    },
    {
      "cell_type": "code",
      "execution_count": null,
      "metadata": {
        "id": "ButnYWg7yVke"
      },
      "outputs": [],
      "source": [
        "#Using GridSearchCV\n",
        "# Setting tuning parameters\n",
        "par={\n",
        "    'max_depth':[2, 4, 5, 10],\n",
        "    'min_samples_leaf': [5, 15, 20, 50],\n",
        "    'min_samples_split': [10, 20, 30, 40],\n",
        "    'criterion':['gini','entropy']\n",
        "}"
      ]
    },
    {
      "cell_type": "code",
      "execution_count": null,
      "metadata": {
        "id": "tdnht8OmyVke"
      },
      "outputs": [],
      "source": [
        "#Instantiating the grid search\n",
        "D_tree = DecisionTreeClassifier()\n",
        "g_search = GridSearchCV(estimator = D_tree,\n",
        "                      param_grid = par,\n",
        "                      scoring = 'accuracy', cv=5)"
      ]
    },
    {
      "cell_type": "code",
      "execution_count": null,
      "metadata": {
        "id": "IKt3AdUVyVke"
      },
      "outputs": [],
      "source": [
        "#Fitting grid search\n",
        "g_search.fit(X_train, y_train)"
      ]
    },
    {
      "cell_type": "code",
      "execution_count": null,
      "metadata": {
        "id": "vCO1mL5wyVke"
      },
      "outputs": [],
      "source": [
        "# Getting best parameters\n",
        "dt1 = g_search.best_estimator_\n",
        "dt1 "
      ]
    },
    {
      "cell_type": "code",
      "execution_count": null,
      "metadata": {
        "id": "pRNd3zKhyVke"
      },
      "outputs": [],
      "source": [
        "# Instatiate desicion tree\n",
        "# Apply best parameters\n",
        "dt1 = DecisionTreeClassifier(max_depth = 10, min_samples_leaf = 5, min_samples_split=10, random_state = 42)\n",
        "dt1.fit(X_train, y_train)\n",
        "y_pred = dt1.predict(X_test)\n",
        "false_positive_rate, true_positive_rate, thresholds = roc_curve(y_test, y_pred, pos_label = 2)\n",
        "roc_auc = auc(false_positive_rate, true_positive_rate)\n",
        "roc_auc"
      ]
    },
    {
      "cell_type": "code",
      "execution_count": null,
      "metadata": {
        "id": "zp3JlejwyVke"
      },
      "outputs": [],
      "source": [
        "# Previous model performed better\n",
        "# I will now adjust more features\n",
        "dt2 =  BaggingClassifier(DecisionTreeClassifier(max_depth = 10, min_samples_leaf = 5, random_state = 42))\n",
        "dt2.fit(X_train, y_train)\n",
        "y_pred = dt2.predict(X_test)\n",
        "false_positive_rate, true_positive_rate, thresholds = roc_curve(y_test, y_pred, pos_label = 2)\n",
        "roc_auc = auc(false_positive_rate, true_positive_rate)\n",
        "roc_auc"
      ]
    },
    {
      "cell_type": "markdown",
      "metadata": {
        "id": "4nct4yDWyVke"
      },
      "source": [
        "### Decision Tree Train accuracy results\n",
        "-  Decision Tree model 1 = 75.10%\n",
        "-  Decision Tree model 2 = 73.88%\n",
        "- Decision Tree model 3 = 74.56%\n",
        "\n",
        "The first model performs better"
      ]
    },
    {
      "cell_type": "markdown",
      "metadata": {
        "id": "VNtRJhaZyVke"
      },
      "source": [
        "## 3.5 Logistic Regression\n",
        "\n",
        "- I will apply a standard scaler to transform the data and see if this would improve the accuracy"
      ]
    },
    {
      "cell_type": "code",
      "execution_count": null,
      "metadata": {
        "id": "84zIMoVxyVke"
      },
      "outputs": [],
      "source": [
        "# Instantiate scaler\n",
        "ss = StandardScaler()\n",
        "\n",
        "# Fit and transform train data\n",
        "X_train_scaled = ss.fit_transform(X_train)\n",
        "\n",
        "# Transform test data\n",
        "X_test_scaled = ss.transform(X_test)"
      ]
    },
    {
      "cell_type": "code",
      "execution_count": null,
      "metadata": {
        "id": "CZC6-hcOyVke"
      },
      "outputs": [],
      "source": [
        "#Fitting the model\n",
        "lr.fit(X_train_scaled, y_train)"
      ]
    },
    {
      "cell_type": "code",
      "execution_count": null,
      "metadata": {
        "id": "35QoqViYyVke"
      },
      "outputs": [],
      "source": [
        "# Get prediction\n",
        "ytrain_pred= lr.predict(X_train_scaled)\n",
        "ytest_pred = lr.predict(X_test_scaled)\n",
        "\n",
        "# Check the accuracy score\n",
        "print(accuracy_score(y_train, ytrain_pred))\n",
        "print(accuracy_score(y_test, ytest_pred))"
      ]
    },
    {
      "cell_type": "markdown",
      "metadata": {
        "id": "mwUZdanEyVke"
      },
      "source": [
        "### Classification Report\n",
        "- I will have a look at the classification report."
      ]
    },
    {
      "cell_type": "code",
      "execution_count": null,
      "metadata": {
        "id": "VekLftcAyVke"
      },
      "outputs": [],
      "source": [
        "probs = lr.predict_proba(X_test)\n",
        "\n",
        "\n",
        "print(\"log loss: \", log_loss(y_test, probs))\n",
        "print(\"accuracy: \", accuracy_score(y_test, y_pred))\n",
        "print(classification_report(y_test, y_pred, digits=3))"
      ]
    },
    {
      "cell_type": "markdown",
      "metadata": {
        "id": "7AEBvs_iyVkf"
      },
      "source": [
        "- While the second model performs better, from the F1-score there seems to be an imbalance of data.\n",
        "- I will employ SMOTE to correct this."
      ]
    },
    {
      "cell_type": "markdown",
      "metadata": {
        "id": "CxoxnH0ByVkf"
      },
      "source": [
        "### SMOTE"
      ]
    },
    {
      "cell_type": "code",
      "execution_count": null,
      "metadata": {
        "id": "dQ9vaTHWyVkf"
      },
      "outputs": [],
      "source": [
        "# #Using SMOTE to remove class imbalances\n",
        "sm = SMOTE(random_state=42)\n",
        "\n",
        "# Fit and transform X_train_scaled and y_train using sm\n",
        "X_train_smote, y_train_smote = sm.fit_resample(X_train_scaled, y_train)\n",
        "\n",
        "print(y_train_smote.value_counts())"
      ]
    },
    {
      "cell_type": "code",
      "execution_count": null,
      "metadata": {
        "id": "5rw1XAWbyVkf"
      },
      "outputs": [],
      "source": [
        "# insantiating the model with the best parameters from grid search\n",
        "lr_smote = lr\n",
        "\n",
        "# fitting the model to the smote train\n",
        "\n",
        "lr_smote.fit(X_train_smote, y_train_smote)\n",
        "\n",
        "# Get prediction\n",
        "ytest_pred = lr_smote.predict(X_test_scaled)\n",
        "\n",
        "# Check the accuracy score\n",
        "accuracy_score(y_test, ytest_pred)"
      ]
    },
    {
      "cell_type": "markdown",
      "metadata": {
        "id": "b2o7m0QCyVkf"
      },
      "source": [
        "### Logistic Regression test accuracy results\n",
        "- LR model 1 = 71.95%\n",
        "- LR model 2 = 72.57%\n",
        "- LR model 3 = 63.04%\n",
        "\n",
        "The second model performed better."
      ]
    },
    {
      "cell_type": "markdown",
      "metadata": {
        "id": "j7ohcKJCyVkf"
      },
      "source": [
        "## 3.6. Evaluation"
      ]
    },
    {
      "cell_type": "markdown",
      "metadata": {
        "id": "qNN7bMUDyVkf"
      },
      "source": [
        "- Choosing the model that has the best performance, I will instantiate a final model with these best parameters.\n"
      ]
    },
    {
      "cell_type": "code",
      "execution_count": null,
      "metadata": {
        "id": "AvU8tjw4yVkf"
      },
      "outputs": [],
      "source": [
        "# Replace None with appropriate code\n",
        "final_model = RandomForestClassifier(n_estimators = 36, min_samples_split = 5, \n",
        "                                 min_samples_leaf = 2, max_features = 'sqrt', max_depth = None, bootstrap = False,\n",
        "                                 random_state = 42)\n",
        "\n",
        "# Fit the model on the full training data\n",
        "final_model.fit(X_train, y_train)"
      ]
    },
    {
      "cell_type": "markdown",
      "metadata": {
        "id": "7noYA8nKyVkf"
      },
      "source": [
        "- I will now evaluate the log loss, accuracy, precision, and recall. "
      ]
    },
    {
      "cell_type": "code",
      "execution_count": null,
      "metadata": {
        "id": "8xPO3SsQyVkh"
      },
      "outputs": [],
      "source": [
        "preds = final_model.predict(X_test)\n",
        "probs = final_model.predict_proba(X_test)\n",
        "\n",
        "\n",
        "print(\"log loss: \", log_loss(y_test, probs))\n",
        "print(\"accuracy: \", accuracy_score(y_test, preds))\n",
        "#print(classification_report(y_test, preds, digits=3))"
      ]
    },
    {
      "cell_type": "markdown",
      "metadata": {
        "id": "8gkW_FEfyVkh"
      },
      "source": [
        "- From the final model, we can now run a feature importance.\n",
        "- This will help show which features matter most.\n",
        "- I will list the top 10"
      ]
    },
    {
      "cell_type": "code",
      "execution_count": null,
      "metadata": {
        "id": "FxAABSdoyVkh"
      },
      "outputs": [],
      "source": [
        "features = X_train.columns\n",
        "importances = final_model.feature_importances_\n",
        "indices = np.argsort(importances)[:10]\n",
        "\n",
        "# customized number \n",
        "num_features = 10 \n",
        "\n",
        "plt.figure(figsize=(10,10))\n",
        "plt.title('Feature Importances')\n",
        "plt.barh(range(len(indices)), importances[indices], color='b', align='center')\n",
        "plt.yticks(range(len(indices)), [features[i] for i in indices])\n",
        "plt.xlabel('Relative Importance')\n",
        "plt.show()"
      ]
    },
    {
      "cell_type": "markdown",
      "metadata": {
        "id": "NxKOVeVzyVkh"
      },
      "source": [
        "### Observation\n",
        "- From the feature importance some features standout.\n",
        "- Installer Danida stands out the most in key feature importance.\n",
        "- Several other factors stand out e.g. coloured water quality, other source types, management groups that fall under unknown.\n"
      ]
    },
    {
      "cell_type": "markdown",
      "metadata": {
        "id": "ATqI6EUXyVkh"
      },
      "source": [
        "# Interpretation\n",
        "\n",
        "##### dummy accuracy = 54.30%\n",
        "\n",
        "##### final model accuracy = 80.03% \n",
        "\n",
        "The model has a 80.03% accuracy which is an improvement from the dummy.\n"
      ]
    },
    {
      "cell_type": "markdown",
      "metadata": {
        "id": "DBnUgsELyVkh"
      },
      "source": [
        "# 4. Conclusion"
      ]
    },
    {
      "cell_type": "markdown",
      "metadata": {
        "id": "OIENYsRAyVkh"
      },
      "source": [
        "- The final model (RandonForest) at 80.03% is a good prediction model that is ready for deployment. \n",
        "- The accuracy provides great insights on conditions of waterpoints that will aid greatly in planning, prioritising and investment.\n",
        "- There are different qualities of water in the different functional pumps but most of them have soft water.\n",
        "- All waterpoints with that had huge investment costs are functional\n",
        "- Gravity and Hand pump water pumps are the most functional amongst communities.\n",
        "- It is concerning that there the number of non functional water pumps is a lot"
      ]
    },
    {
      "cell_type": "markdown",
      "metadata": {
        "id": "n9-DcYtuyVkh"
      },
      "source": [
        "# 5. Recommendations"
      ]
    },
    {
      "cell_type": "markdown",
      "metadata": {
        "id": "LGUK0k7syVkh"
      },
      "source": [
        "- With few functional waterpumps that need repairs, it would be a great investment opportunity to repair them before they turn non functional. The repair should however be accessed to know if it is cheaper repairing or having a new one.\n",
        "\n",
        "- Futher investigation should be done on the highly technical water pumps to understand if communities would need training to use them and if they are sustainable due to costs involved. e.g Fuel Purchase.\n",
        "\n",
        "- Priority could be placed on high population areas could be prioritised in more access to water and monitoring their waterpumps.\n",
        "\n",
        "- More research could be done to understand what causes waterpumps to be non functional. This could help avoid setting up new waterpumps in areas where there were already."
      ]
    }
  ],
  "metadata": {
    "kernelspec": {
      "display_name": "Python (learn-env)",
      "language": "python",
      "name": "learn-env"
    },
    "language_info": {
      "codemirror_mode": {
        "name": "ipython",
        "version": 3
      },
      "file_extension": ".py",
      "mimetype": "text/x-python",
      "name": "python",
      "nbconvert_exporter": "python",
      "pygments_lexer": "ipython3",
      "version": "3.8.5"
    },
    "colab": {
      "provenance": []
    }
  },
  "nbformat": 4,
  "nbformat_minor": 0
}